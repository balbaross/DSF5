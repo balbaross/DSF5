{
 "cells": [
  {
   "cell_type": "markdown",
   "metadata": {},
   "source": [
    "<a href=\"https://colab.research.google.com/github/neworldemancer/DSF5/blob/master/Course_3.ipynb\" target=\"_parent\"><img src=\"https://colab.research.google.com/assets/colab-badge.svg\" alt=\"Open In Colab\"/></a>"
   ]
  },
  {
   "cell_type": "markdown",
   "metadata": {
    "id": "ReBsyreuHw9t"
   },
   "source": [
    "# Introduction to machine learning & Data Analysis\n",
    "\n",
    "Basic introduction on how to perform typical machine learning tasks with Python.\n",
    "\n",
    "Prepared by Mykhailo Vladymyrov & Aris Marcolongo,\n",
    "Data Science Lab, University Of Bern, 2023\n",
    "\n",
    "This work is licensed under <a href=\"https://creativecommons.org/share-your-work/public-domain/cc0/\">CC0</a>.\n",
    "\n",
    "# Part 1."
   ]
  },
  {
   "cell_type": "code",
   "execution_count": null,
   "metadata": {
    "id": "xPQRX9hRHw9u"
   },
   "outputs": [],
   "source": [
    "pip install umap-learn"
   ]
  },
  {
   "cell_type": "code",
   "execution_count": null,
   "metadata": {
    "id": "hVJn0ilgOS8F"
   },
   "outputs": [],
   "source": [
    "from sklearn.datasets import make_blobs\n",
    "from sklearn.model_selection import train_test_split\n",
    "from sklearn import metrics\n",
    "from sklearn.mixture import GaussianMixture\n",
    "\n",
    "from sklearn.cluster import KMeans\n",
    "from sklearn.metrics import silhouette_score\n",
    "\n",
    "from matplotlib import  pyplot as plt\n",
    "import numpy as np\n",
    "import pandas as pd\n",
    "from imageio import imread\n",
    "from time import time as timer\n",
    "import os\n",
    "import tarfile\n",
    "\n",
    "import tensorflow as tf\n",
    "\n",
    "%matplotlib inline\n",
    "import umap\n",
    "from matplotlib import animation\n",
    "from IPython.display import HTML\n",
    "\n",
    "from scipy.stats import entropy\n",
    "from sklearn.preprocessing import StandardScaler\n",
    "import pandas as pd"
   ]
  },
  {
   "cell_type": "code",
   "execution_count": null,
   "metadata": {
    "colab": {
     "base_uri": "https://localhost:8080/"
    },
    "id": "bb9uMlBNrEJg",
    "outputId": "708df681-afc2-4490-9ba7-e6638b5cf854"
   },
   "outputs": [],
   "source": [
    "import os\n",
    "import tensorflow as tf\n",
    "import tarfile\n",
    "import os\n",
    "from packaging import version\n",
    "import shutil\n",
    "import sys \n",
    "\n",
    "def download_and_extract_data(\n",
    "    url=\"https://github.com/neworldemancer/DSF5/raw/master/colab_material.tgz\",\n",
    "    target_dir=\"data\",\n",
    "    fname=\"colab_material.tgz\",\n",
    "    update_folder=False\n",
    "):\n",
    "    \"\"\"Download and extract a tar.gz dataset into target_dir.\"\"\"\n",
    "    \n",
    "    if update_folder and os.path.exists(target_dir):\n",
    "        shutil.rmtree(target_dir)\n",
    "\n",
    "    if not os.path.exists(target_dir):\n",
    "        cache_dir = os.path.abspath(\".\")\n",
    "\n",
    "        if version.parse(tf.__version__) >= version.parse(\"2.13.0\"):\n",
    "            # new behavior: fname must be only a filename\n",
    "            path = tf.keras.utils.get_file(\n",
    "                fname=fname,\n",
    "                origin=url,\n",
    "                cache_dir=cache_dir\n",
    "            )\n",
    "        else:\n",
    "            # old behavior: can pass full path\n",
    "            path = tf.keras.utils.get_file(\n",
    "                fname=os.path.join(cache_dir, fname),\n",
    "                origin=url\n",
    "            )\n",
    "        # extract tar into target_dir\n",
    "        with tarfile.open(path, \"r:gz\") as tar:\n",
    "            tar.extractall(target_dir)\n",
    "    else:\n",
    "        print('Data already present. Use update_folder = True to overwrite/update if desired.')\n",
    "    return os.path.abspath(target_dir)\n",
    "\n",
    "data_path = download_and_extract_data(update_folder=False)\n",
    "sys.path.append(data_path)\n",
    "print(\"Data available at:\", data_path)"
   ]
  },
  {
   "cell_type": "code",
   "execution_count": null,
   "metadata": {
    "id": "bfprgIx7rI2J"
   },
   "outputs": [],
   "source": [
    "from utils.routines import *"
   ]
  },
  {
   "cell_type": "code",
   "execution_count": null,
   "metadata": {},
   "outputs": [],
   "source": [
    "import pickle\n",
    "\n",
    "def get_nlp_dataset(data_path='/content/data'):\n",
    "    data=pickle.load(open(f'{data_path}/data/cluster_nlp.pkl', 'rb'))\n",
    "    vectors=data['embeddings']\n",
    "    texts=data['texts']\n",
    "    return texts, vectors\n",
    "\n",
    "def get_customers_dataset(data_path='/content/data'):\n",
    "    X_customers = pd.read_csv(f'{data_path}/data/X_customers.csv')\n",
    "    return X_customers"
   ]
  },
  {
   "cell_type": "markdown",
   "metadata": {
    "id": "hTuWWboOHw9w"
   },
   "source": [
    "**CLUSTERING Objective:**\n",
    "\n",
    "Clustering techniques divide the set of data into group of points having common features. Each data point $p$ gets assigned a label $l_p \\in \\{1,..,K\\}$ representing the group to which it belongs.\n",
    "\n",
    "In this presentation the starting data points (data-cloud) are supposed to have $D$ features."
   ]
  },
  {
   "cell_type": "markdown",
   "metadata": {
    "id": "n8IQrtgHHw9w"
   },
   "source": [
    "**General Caveat:**\n",
    "\n",
    "Clustering techniques rely on a a-priori fixed notion of 'distance' between the points. This implies:\n",
    "\n",
    "- The default distance is called `euclidean`: $d(x_p,x_{q})=\\sqrt{\\sum_{i} |x_{p,i}-x_{q,i}|^{2}}$. This distance is not invariant if we change units, if all features have difference units. If we want to use the the default euclidean distance when performing data analysis we should normalize variables beforehand.\n",
    "\n",
    "- Other ad-hoc distances may be defined depending on the use-case scenario.\n",
    "\n",
    "- Results of clustering must always be checked by experts of the field of interest. Clustering data therefore is an iterative process that requires trying out different type of techniques.\n",
    "\n",
    "Note that if your data is labelled (e.g. each label is assigned to a class), the number of groups/clusters can be different than the number of classes. There is no reason that these numbers should be equal."
   ]
  },
  {
   "cell_type": "markdown",
   "metadata": {
    "id": "pUus-6PW95xA"
   },
   "source": [
    "## 1. K-Means"
   ]
  },
  {
   "cell_type": "markdown",
   "metadata": {
    "id": "wE96xyE1Hw9x"
   },
   "source": [
    "Consider first that you know the number of groups over which you want to divide your data. For example $K=3$ or $K=10$ groups."
   ]
  },
  {
   "cell_type": "markdown",
   "metadata": {
    "hidden": true,
    "id": "5XsYvuoUeffq"
   },
   "source": [
    "***-cluster centers***\n",
    "\n",
    "K-means heavily relies on the concept of:\n",
    "\n",
    "`cluster centers`. Each group gets assigned a cluster center, as a mean representative point. The centroids given by the expression:\n",
    "$$\\mathbf{c}_k=\\frac{1}{N_k}\\sum_{p \\in S_k} \\mathbf{x_p}$$\n",
    "\n",
    ", $S_k$ is the subset of points assigned to the same group $k$ and $N_k$ is the number of points in $S_k$.\n",
    "\n",
    "If the data cloud is made of images, it is the image containing at each pixel the mean value of all images of that group.\n",
    "\n",
    "If the data cloud is made of questionnaires, it is the mean value assigned to an answer by all questionnaires belonging to that group.\n",
    "\n",
    "If the data cloud is made of pressure sensors, it assigns to each sensors the mean of the pressure over all time spans belonging to that group, and so on...\n",
    "\n",
    "$K-Means$ assign cluster center to a single group. All points whose closest cluster center belongs to class $K$, is assigned to group $K$ as well.\n"
   ]
  },
  {
   "cell_type": "markdown",
   "metadata": {
    "hidden": true,
    "id": "wOaFNbi1effq"
   },
   "source": [
    "***-loss function***\n",
    "\n",
    "The cluster centres are chosen in order to minimize the following loss function:\n",
    "\n",
    "$$\\sum_{k \\in \\text{classes}} \\sum_{p \\in S_k} d(\\mathbf{x}_p,\\mathbf{c}_{k})^2$$\n",
    "\n",
    "where $S_k$ is the subset of points assigned to the same group $k$.\n",
    "\n",
    "d is the metric function suited of the problem of interest. Here we use the Euclidean distance as a metric :\n",
    "\n",
    "$$d(\\mathbf{x}_p,\\mathbf{c}_{k})=|\\mathbf{x}_p-\\mathbf{c}_{k}| \\quad \\quad $$\n"
   ]
  },
  {
   "cell_type": "markdown",
   "metadata": {
    "hidden": true,
    "id": "2vciYXuTefft"
   },
   "source": [
    "Such an algorithm finds local minima and may need to be started several times with different initializations."
   ]
  },
  {
   "cell_type": "markdown",
   "metadata": {
    "hidden": true,
    "id": "CQTkkdLnefft"
   },
   "source": [
    "**-vary the number of classes and validate the clustering**\n",
    "\n",
    "*Silhouette score*: K-means clustering fixes the number of clusters a priori. Some technique must be chosen to score the different optimal clusterings for different $k$. One technique chooses the best *Silouhette score*. Intuitively, this evaluates the typical distance of points within a same clusters and compares it against the typical distance of points belonging to neighboring but different clusters ( https://en.wikipedia.org/wiki/Silhouette_(clustering) ).\n"
   ]
  },
  {
   "cell_type": "markdown",
   "metadata": {
    "heading_collapsed": true,
    "id": "gOmoafxD95xT"
   },
   "source": [
    "### Sklearn: implementation and usage of K-means."
   ]
  },
  {
   "cell_type": "markdown",
   "metadata": {
    "hidden": true,
    "id": "bxacfstD95xW"
   },
   "source": [
    "We start with a 2D example that can be visualized."
   ]
  },
  {
   "cell_type": "markdown",
   "metadata": {
    "hidden": true,
    "id": "osqtrCM295xn"
   },
   "source": [
    "First we load the data-set."
   ]
  },
  {
   "cell_type": "code",
   "execution_count": null,
   "metadata": {
    "hidden": true,
    "id": "C6X5O32r95xp"
   },
   "outputs": [],
   "source": [
    "points=km_load_th1()"
   ]
  },
  {
   "cell_type": "markdown",
   "metadata": {
    "hidden": true,
    "id": "_BTlSM4W95x0"
   },
   "source": [
    "Explore the data-set checking the dataset dimensionality."
   ]
  },
  {
   "cell_type": "code",
   "execution_count": null,
   "metadata": {
    "colab": {
     "base_uri": "https://localhost:8080/"
    },
    "hidden": true,
    "id": "LsW9d6x_95x3",
    "outputId": "21b4ff79-2f42-44a6-8f37-3814a1b59206"
   },
   "outputs": [],
   "source": [
    "print(points.shape)\n",
    "print('We have ', points.shape[0], 'points with two features')"
   ]
  },
  {
   "cell_type": "code",
   "execution_count": null,
   "metadata": {
    "colab": {
     "base_uri": "https://localhost:8080/",
     "height": 449
    },
    "hidden": true,
    "id": "usXcr6XP95yD",
    "outputId": "99d87712-2625-4045-d693-41e6081cf56a"
   },
   "outputs": [],
   "source": [
    "plt.plot(points[:,0],points[:,1],'o')\n",
    "plt.xlabel('feature-1')\n",
    "plt.ylabel('feature-2')\n",
    "plt.show()"
   ]
  },
  {
   "cell_type": "markdown",
   "metadata": {
    "hidden": true,
    "id": "_kLezqgz95yQ"
   },
   "source": [
    "It looks visually that the data set has three clusters. We will cluster them using K-means. As usual, we create a KMeans object. Note that we do not need to initialize it with a data-set."
   ]
  },
  {
   "cell_type": "code",
   "execution_count": null,
   "metadata": {
    "hidden": true,
    "id": "5cjLh0ZX95yS"
   },
   "outputs": [],
   "source": [
    "clusterer = KMeans(n_clusters=3, random_state=10, n_init=10)"
   ]
  },
  {
   "cell_type": "markdown",
   "metadata": {
    "hidden": true,
    "id": "fHf2oH7p95yf"
   },
   "source": [
    "A call to the fit method computes the cluster centers which can be plotted alongside the data-set. They are accessible from the cluster_centers_ attribute:"
   ]
  },
  {
   "cell_type": "code",
   "execution_count": null,
   "metadata": {
    "colab": {
     "base_uri": "https://localhost:8080/",
     "height": 430
    },
    "hidden": true,
    "id": "ET3C5t-r95yh",
    "outputId": "1f5e3d70-feda-4ea7-c1b6-4cc9529fb891"
   },
   "outputs": [],
   "source": [
    "clusterer.fit(points)\n",
    "plt.plot(points[:,0],points[:,1],'o')\n",
    "plt.plot(clusterer.cluster_centers_[:,0],clusterer.cluster_centers_[:,1],'o',markersize=10)\n",
    "plt.show()"
   ]
  },
  {
   "cell_type": "code",
   "execution_count": null,
   "metadata": {
    "colab": {
     "base_uri": "https://localhost:8080/"
    },
    "hidden": true,
    "id": "z4ou8qEVLvWy",
    "outputId": "6085b8cc-4cc8-4247-919c-5fb5f0740592"
   },
   "outputs": [],
   "source": [
    "clusterer.cluster_centers_[:,:]"
   ]
  },
  {
   "cell_type": "markdown",
   "metadata": {
    "hidden": true,
    "id": "J7H4hw4l95yu"
   },
   "source": [
    "The predict method assigns a new point to the nearest cluster. We can use predict with the training dataset and color the data-set according to the cluster label."
   ]
  },
  {
   "cell_type": "code",
   "execution_count": null,
   "metadata": {
    "colab": {
     "base_uri": "https://localhost:8080/",
     "height": 430
    },
    "hidden": true,
    "id": "BqPcVkcR95yw",
    "outputId": "6b7ae6c5-0ce7-4e23-ca55-5af39668f28f"
   },
   "outputs": [],
   "source": [
    "cluster_labels=clusterer.predict(points)\n",
    "plt.scatter(points[:,0],points[:,1],c=cluster_labels)\n",
    "plt.show()"
   ]
  },
  {
   "cell_type": "markdown",
   "metadata": {
    "hidden": true,
    "id": "wBtdsqxK95y6"
   },
   "source": [
    "Finally, we can try to vary the number of clusters and score them with the Silhouette score."
   ]
  },
  {
   "cell_type": "code",
   "execution_count": null,
   "metadata": {
    "colab": {
     "base_uri": "https://localhost:8080/",
     "height": 1000
    },
    "hidden": true,
    "id": "_dg8v1ST95y8",
    "outputId": "8b9dd2d7-eb25-4da8-8445-980a82c39a9f",
    "scrolled": true
   },
   "outputs": [],
   "source": [
    "sil=[]\n",
    "\n",
    "for iclust in range(2,6):\n",
    "    clusterer = KMeans(n_clusters=iclust, random_state=10, n_init=10)\n",
    "    cluster_labels = clusterer.fit_predict(points)\n",
    "    score=silhouette_score(points,cluster_labels)\n",
    "    sil.append(score)\n",
    "    plt.scatter(points[:,0],points[:,1],c=cluster_labels)\n",
    "    plt.show()\n",
    "\n",
    "plt.xlabel('Number of clusters')\n",
    "plt.ylabel('Silhouette score')\n",
    "plt.plot(np.arange(len(sil))+2, sil,'-o')\n",
    "plt.show()"
   ]
  },
  {
   "cell_type": "markdown",
   "metadata": {
    "hidden": true,
    "id": "8RVDOdZB95zI"
   },
   "source": [
    "The same techniques can be used on high dimensional data-sets. We use here the famous MNIST dataset for integer digits, that we are downloading from tensorflow."
   ]
  },
  {
   "cell_type": "code",
   "execution_count": null,
   "metadata": {
    "colab": {
     "base_uri": "https://localhost:8080/"
    },
    "hidden": true,
    "id": "RSzh1J9q95zJ",
    "outputId": "bde461dc-28e2-4cc5-c2c7-34e2113d4417"
   },
   "outputs": [],
   "source": [
    "fmnist = tf.keras.datasets.fashion_mnist\n",
    "(train_images, train_labels), (test_images, test_labels) = fmnist.load_data()\n",
    "\n",
    "X=train_images[:5000,:].reshape(5000,-1)"
   ]
  },
  {
   "cell_type": "code",
   "execution_count": null,
   "metadata": {
    "colab": {
     "base_uri": "https://localhost:8080/",
     "height": 466
    },
    "hidden": true,
    "id": "FTguyfEH95zV",
    "outputId": "de99c081-da2d-4829-925f-a9885819399f"
   },
   "outputs": [],
   "source": [
    "print(X.shape)\n",
    "image=X[1232,:].reshape(28,28)\n",
    "plt.imshow(image)"
   ]
  },
  {
   "cell_type": "markdown",
   "metadata": {
    "hidden": true,
    "id": "08EWsPIR95zh"
   },
   "source": [
    "We can cluster the images exactly as we did for the 2d dataset."
   ]
  },
  {
   "cell_type": "code",
   "execution_count": null,
   "metadata": {
    "hidden": true,
    "id": "-TU70SxP95zm"
   },
   "outputs": [],
   "source": [
    "clusterer = KMeans(n_clusters=10, random_state=10, n_init=10)\n",
    "cluster_labels = clusterer.fit_predict(X)"
   ]
  },
  {
   "cell_type": "markdown",
   "metadata": {
    "hidden": true,
    "id": "Q2QNHiFt95zx"
   },
   "source": [
    "We can plot the cluster centers (which are 2D figures!) to see if the clustering is learning correct patterns!"
   ]
  },
  {
   "cell_type": "code",
   "execution_count": null,
   "metadata": {
    "colab": {
     "base_uri": "https://localhost:8080/",
     "height": 1000
    },
    "hidden": true,
    "id": "ba_LXoum95z0",
    "outputId": "11be5169-3b75-4134-9f05-a36bd97447ba"
   },
   "outputs": [],
   "source": [
    "for iclust in range(10):\n",
    "    plt.imshow(clusterer.cluster_centers_[iclust].reshape(28,28))\n",
    "    plt.show()"
   ]
  },
  {
   "cell_type": "markdown",
   "metadata": {
    "hidden": true,
    "id": "1QTiCQE395z9"
   },
   "source": [
    "You can see that the model is trying to assign one class to each group."
   ]
  },
  {
   "cell_type": "markdown",
   "metadata": {},
   "source": [
    "### EXERCISE 1: Guess themes in an NLP dataset"
   ]
  },
  {
   "cell_type": "code",
   "execution_count": null,
   "metadata": {},
   "outputs": [],
   "source": [
    "texts, vectors = get_nlp_dataset()"
   ]
  },
  {
   "cell_type": "code",
   "execution_count": null,
   "metadata": {},
   "outputs": [],
   "source": [
    "# 1. Explore the dataset\n",
    "\n",
    "# 2. Perform a umap projection of the vectors (see Course 2). Use metric='cosine'\n",
    "\n",
    "# 3. Perform a clustering of the projected vectors. Get the optimal number of clusters with the sihouette score.\n",
    "\n",
    "# 4. Try to guess the themes of the clusters by looking at the texts in each cluster.\n",
    "\n",
    "# 5. Upload here https://docs.google.com/document/d/1f5sDOS_cq1_ZaUkwlSnog5I8jpYiK_QAF1hk3vcBFL8/edit?usp=sharing the number of clusters you found and the themes you guessed."
   ]
  },
  {
   "cell_type": "markdown",
   "metadata": {
    "heading_collapsed": true,
    "id": "b3VoJKsVeff0"
   },
   "source": [
    "## 3. Dendrograms (hierarchical clustering)"
   ]
  },
  {
   "cell_type": "markdown",
   "metadata": {
    "hidden": true,
    "id": "PfeYW8eKeff0"
   },
   "source": [
    "**Objective:**\n",
    "\n",
    "In hierarchical clustering we do not have only an optimal set of clusters, but for each different \"length scale\" we have a different set of clusters.\n",
    "\n",
    "**Algorithm:**\n",
    "\n",
    "- We start with a length scale $l=0$ at the beginning and consider all sample elements as different clusters.\n",
    "\n",
    "- We increase than $l$ to values larger than zero. Let's call the minimum distance between pair of points $l_0$. As soon as we reach $l=l_0$, these elements are merged into a new cluster (greedy strategy).\n",
    "\n",
    "To proceed further we need to define a distance between subsets $S_1,S_2$ of points. In the \"single linkage\" flavour we define:\n",
    "\n",
    "$$d(S_1,S_2)=min_{a\\in S_1, b\\in S_2} d(a,b)$$\n",
    "\n",
    "IMPORTANT: other linkage procedure exists. Check each time the documentation to see which is the default one if you did not specify it. Results may be dependent on the linkage criterion.\n",
    "\n",
    "- This way we can proceed increasing $l>l_0$. As soon as we find two clusters with distance smaller than $l_1>l_0$, we merge them.\n",
    "\n",
    "- We keep on increasing $l$ as far as one one cluster remains"
   ]
  },
  {
   "cell_type": "markdown",
   "metadata": {
    "hidden": true,
    "id": "yDf_mhqdeff0"
   },
   "source": [
    "The result of this clustering procedure can be summarized in a `dendrogram` . We demonstrate a dendogram using our 2D dataset but keep in mind that the right plot of the following visualization can be done also in higher dimensions, i.e. when you have more than 2 features, but the left plot is not straightforward (convince yourself why)."
   ]
  },
  {
   "cell_type": "code",
   "execution_count": null,
   "metadata": {},
   "outputs": [],
   "source": [
    "from scipy.cluster.hierarchy import linkage, dendrogram\n",
    "from scipy.cluster import hierarchy\n",
    "from ipywidgets import interact\n",
    "from scipy.cluster.hierarchy import fcluster\n",
    "\n",
    "points=km_load_th1()\n",
    "Z = hierarchy.linkage(points, 'single')\n",
    "n_clusters=int(np.max(Z[:,[0,1]].flatten()))\n",
    "print(n_clusters)\n",
    "\n",
    "@interact\n",
    "def plot(t=(0,7,0.1)):\n",
    "    fig, axes=plt.subplots(1,2,figsize=(15,10), gridspec_kw={'width_ratios': [1, 2]})\n",
    "    fl = fcluster(Z,t=t,criterion='distance')\n",
    "    maps={}\n",
    "    for clust in range(n_clusters):\n",
    "        maps[clust]=(fl==clust)\n",
    "    c=0\n",
    "    for clust in range(n_clusters):\n",
    "        if np.sum(maps[clust])>0:\n",
    "            c+=1\n",
    "    plt.figure(figsize=(19,5))\n",
    "    d = hierarchy.dendrogram(Z,ax=axes[1], color_threshold=t)\n",
    "    axes[1].axhline(t,linestyle='--',color='red')\n",
    "    axes[1].set_ylabel('Cluster distance')\n",
    "    axes[1].axes.get_xaxis().set_visible(False)\n",
    "    axes[1].set_xlabel('Points')\n",
    "    axes[1].set_title(f'Number clusters: {c}')\n",
    "    axes[0].scatter(points[d['leaves'],0],points[d['leaves'],1], color=d['leaves_color_list'])\n",
    "    plt.show()"
   ]
  },
  {
   "cell_type": "markdown",
   "metadata": {
    "hidden": true,
    "id": "4lTUxeSmeff1"
   },
   "source": [
    "**Properties:**"
   ]
  },
  {
   "cell_type": "markdown",
   "metadata": {
    "hidden": true,
    "id": "O98E0rxHeff1"
   },
   "source": [
    "If we fix a certain cutoff length $l_c$, the clusters identified $C_1,...,C_n$ at that length are such that :\n",
    "\n",
    "1- The constintute a disjoint partition of the whole dataset, i.e. they are mutually non intersecting aand each point belongs to a cluster\n",
    "\n",
    "2- The distance between two clusters $d(C_1,C_j)$ is larger than $l_c$ for each $i,j$.\n"
   ]
  },
  {
   "cell_type": "markdown",
   "metadata": {},
   "source": [
    "### EXERCISE 2: Explore feature correlation using dendograms"
   ]
  },
  {
   "cell_type": "markdown",
   "metadata": {},
   "source": [
    "The `points` when using dendograms can be any set of objects over which we can define a distance. They do not need to be the original dataset.\n",
    "\n",
    "Often dendograms are used to visualize the correlation between feature, which is the goal of this exercise.\n",
    "\n",
    "Let's load a dataset of customers interactions in relation to an online program.\n",
    "\n",
    "This analysis can be useful when trying to interpret the output of a model."
   ]
  },
  {
   "cell_type": "code",
   "execution_count": null,
   "metadata": {},
   "outputs": [],
   "source": [
    "df=get_customers_dataset(data_path='./')"
   ]
  },
  {
   "cell_type": "code",
   "execution_count": null,
   "metadata": {},
   "outputs": [],
   "source": [
    "df"
   ]
  },
  {
   "cell_type": "code",
   "execution_count": null,
   "metadata": {},
   "outputs": [],
   "source": [
    "# 1. Inspet the dataset\n",
    "# 2. Perform hierarchical clustering using the \"distance\" 1-|r| (not really a distance), where r is the correlation coefficient\n",
    "# 3. Adapt the code to visualize the dendrogram in this case. You may find the following function helpful:\n",
    "\n",
    "import numpy as np\n",
    "from scipy.spatial.distance import squareform\n",
    "from scipy.cluster.hierarchy import linkage, dendrogram\n",
    "\n",
    "def get_Z_matrix_from_distance_matrix(dist_matrix, method='single'):\n",
    "    \"\"\"\n",
    "    Perform hierarchical clustering using linkage on a distance matrix. The output of this function can be an input of the dendrogram function\n",
    "\n",
    "    Parameters\n",
    "    ----------\n",
    "    dist_matrix : np.ndarray\n",
    "        A square distance matrix (n_features x n_features).\n",
    "    method : str, optional\n",
    "        Linkage method to use (default is 'single'). See scipy.cluster.hierarchy.linkage for options.\n",
    "\n",
    "    Returns\n",
    "    -------\n",
    "    Z : np.ndarray\n",
    "        The linkage matrix for hierarchical clustering.\n",
    "    \"\"\"\n",
    "    condensed_dist = squareform(dist_matrix, checks=False)\n",
    "    Z = linkage(condensed_dist, method=method) \n",
    "    return Z\n",
    "\n",
    "# 4. Inspect the correlation between the figures. Are they stable if you change the linkage criterion?\n"
   ]
  },
  {
   "cell_type": "code",
   "execution_count": null,
   "metadata": {},
   "outputs": [],
   "source": [
    "corr_matrix = np.corrcoef(df.T) \n",
    "print(corr_matrix, corr_matrix.shape)"
   ]
  },
  {
   "cell_type": "code",
   "execution_count": null,
   "metadata": {},
   "outputs": [],
   "source": [
    "dist_matrix = 1 - np.abs(corr_matrix)"
   ]
  },
  {
   "cell_type": "code",
   "execution_count": null,
   "metadata": {},
   "outputs": [],
   "source": [
    "Z = get_Z_matrix_from_distance_matrix(dist_matrix)"
   ]
  },
  {
   "cell_type": "code",
   "execution_count": null,
   "metadata": {},
   "outputs": [],
   "source": [
    "# Plot the dendrogram\n",
    "plt.figure(figsize=(10, 7))\n",
    "feature_names=list(df.columns)\n",
    "dendrogram(Z, labels=feature_names, leaf_rotation=90)\n",
    "plt.title('Hierarchical Clustering of Features')\n",
    "plt.xlabel('Feature Index')\n",
    "plt.ylabel('Distance')\n",
    "plt.show()"
   ]
  },
  {
   "cell_type": "markdown",
   "metadata": {
    "id": "qd9WGjVQ951B"
   },
   "source": [
    "## 4. Gaussian mixtures (soft clustering)"
   ]
  },
  {
   "cell_type": "markdown",
   "metadata": {
    "heading_collapsed": true,
    "id": "baYX-IKOB461"
   },
   "source": [
    "### Theory overview."
   ]
  },
  {
   "cell_type": "markdown",
   "metadata": {
    "hidden": true,
    "id": "jkueVtkf951D"
   },
   "source": [
    "K-Means is a modelling procedure which is biased towards clusters of circular shape and therefore does not always work perfectly, as the following examples show:"
   ]
  },
  {
   "cell_type": "code",
   "execution_count": null,
   "metadata": {
    "colab": {
     "base_uri": "https://localhost:8080/",
     "height": 468
    },
    "hidden": true,
    "id": "S_kqTtgi951F",
    "outputId": "b8171c31-7102-4523-8202-8a1260983927"
   },
   "outputs": [],
   "source": [
    "points=gm_load_th1()\n",
    "clusterer = KMeans(n_clusters=3, random_state=10, n_init=10)\n",
    "cluster_labels=clusterer.fit_predict(points)\n",
    "plt.figure(figsize=(5,5))\n",
    "plt.gca().set_aspect('equal')\n",
    "plt.title('K-Means')\n",
    "plt.xlim(-6,6)\n",
    "plt.scatter(points[:,0],points[:,1],c=cluster_labels, s=2)\n",
    "plt.show()"
   ]
  },
  {
   "cell_type": "code",
   "execution_count": null,
   "metadata": {
    "colab": {
     "base_uri": "https://localhost:8080/",
     "height": 486
    },
    "hidden": true,
    "id": "bRsc4ZOV951O",
    "outputId": "aeaac43b-01c7-42dd-95fe-e9afe3ffe367"
   },
   "outputs": [],
   "source": [
    "points=gm_load_th2()\n",
    "clusterer = KMeans(n_clusters=2, random_state=10, n_init=10)\n",
    "cluster_labels=clusterer.fit_predict(points)\n",
    "plt.figure(figsize=(5,5))\n",
    "plt.title('K-Means')\n",
    "plt.scatter(points[:,0],points[:,1],c=cluster_labels, s=2)"
   ]
  },
  {
   "cell_type": "markdown",
   "metadata": {
    "id": "PAX2grpGHw91"
   },
   "source": [
    "A Gaussian mixture model is able to fit these kinds of clusters. In a Gaussian mixture model, each point of the distribution is supposed to be a random point from a distribution given by a superposition of Gaussians:\n",
    "\n",
    "$$f(\\mathbf{x})=\\sum_c \\pi_c N(\\mathbf{\\mu_c},\\mathbf{\\Sigma_c} )(\\mathbf{x})$$\n",
    "\n",
    "Each Gaussian describes the shape of each group, that may be also non spherical or tilted.\n",
    "\n",
    "This density has the following interpretation. Suppose each data point $\\hat{X}$ results from the following 2-step procedure:\n",
    "\n",
    "1- First choose a random number between $\\{1,...,N_c\\}$ using some prior probabilities $\\{\\pi_1,...\\pi_{N_c}\\}$. This random variable says to what group a the point belong.\n",
    "\n",
    "2- Now we extract the features corresponding to that point $\\hat{X}$ using the corresponding density $N(\\mathbf{\\mu_c},\\mathbf{\\Sigma_c} )(\\mathbf{x})$.\n",
    "\n",
    "The parameters $\\{\\pi_c,\\mathbf{\\mu_c},\\mathbf{\\Sigma_c}\\}$ are fitted from the data using a minimization procedure (maximum likelihood via the EM algorithm) and $N_c$ is the chosen number of clusters.\n",
    "\n"
   ]
  },
  {
   "cell_type": "markdown",
   "metadata": {
    "hidden": true,
    "id": "wqOLzPso952G"
   },
   "source": [
    "**Output of a GM computation:**\n",
    "\n",
    "Given the features of a new point we can reverse engineer the probability that this point was extracted one group or the other.\n",
    "\n",
    "- *Cluster probabilities:* A gaussian mixtures model is an example of soft clustering, where each data point $p$ does not get assigned a unique cluster, but a distribution over clusters $f_p(c), c=1,...,N_c$.\n",
    "\n",
    "- *AIC/BIC:* after each clustering two numbers are returned. These can be used to select the optimal number of Gaussians to be used, similar to the Silhouette score. ( AIC and BIC consider both the likelihood of the data given the parameters and the complexity of the model related to the number of Gaussians used ). The lowest AIC or BIC value is an indication of a good fit."
   ]
  },
  {
   "cell_type": "markdown",
   "metadata": {
    "heading_collapsed": true,
    "id": "fdddJhgl952H"
   },
   "source": [
    "### Sklearn: implementation and usage of Gaussian mixtures"
   ]
  },
  {
   "cell_type": "markdown",
   "metadata": {
    "hidden": true,
    "id": "PCyazHHp952W"
   },
   "source": [
    "First of all, we see how the Gaussian model behaves on our original example:"
   ]
  },
  {
   "cell_type": "code",
   "execution_count": null,
   "metadata": {
    "colab": {
     "base_uri": "https://localhost:8080/",
     "height": 1000
    },
    "hidden": true,
    "id": "MTu1jVUr952Y",
    "outputId": "cf117f72-bf71-498c-8c0c-328690f7d9af",
    "scrolled": false
   },
   "outputs": [],
   "source": [
    "points=km_load_th1()\n",
    "\n",
    "aic=[]\n",
    "bic=[]\n",
    "sil=[]\n",
    "\n",
    "for i_comp in range(2,6):\n",
    "    plt.figure()\n",
    "    plt.title(str(i_comp))\n",
    "    clf = GaussianMixture(n_components=i_comp, covariance_type='full')\n",
    "    clf.fit(points)\n",
    "    cluster_labels=clf.predict(points)\n",
    "    plt.scatter(points[:,0],points[:,1],c=cluster_labels)\n",
    "    print(i_comp,clf.aic(points),clf.bic(points))\n",
    "    score=silhouette_score(points,cluster_labels)\n",
    "    aic.append(clf.aic(points))\n",
    "    bic.append(clf.bic(points))\n",
    "    sil.append(score)\n",
    "    plt.show()"
   ]
  },
  {
   "cell_type": "code",
   "execution_count": null,
   "metadata": {
    "colab": {
     "base_uri": "https://localhost:8080/",
     "height": 1000
    },
    "hidden": true,
    "id": "iVTi69ZS952o",
    "outputId": "87ca4ad3-831d-4e11-edf0-6f4d00a1c1e7"
   },
   "outputs": [],
   "source": [
    "plt.plot(np.arange(2,6),aic,'-o')\n",
    "plt.title('aic')\n",
    "plt.grid()\n",
    "plt.show()\n",
    "\n",
    "plt.plot(np.arange(2,6),bic,'-o')\n",
    "plt.title('bic')\n",
    "plt.grid()\n",
    "plt.show()\n",
    "\n",
    "plt.plot(np.arange(2,6),sil,'-o')\n",
    "plt.title('silhouette')\n",
    "plt.grid()\n",
    "plt.show()"
   ]
  },
  {
   "cell_type": "markdown",
   "metadata": {
    "hidden": true,
    "id": "W_RrKQ0W952z"
   },
   "source": [
    "So in this case we get a comparable result, and also the probabilistic tools agree with the Silhouette score ! Let's see how the Gaussian mixtures behave in the examples where K-means was failing."
   ]
  },
  {
   "cell_type": "code",
   "execution_count": null,
   "metadata": {
    "colab": {
     "base_uri": "https://localhost:8080/",
     "height": 468
    },
    "hidden": true,
    "id": "cKmBGlDr9521",
    "outputId": "0bc70280-922f-4b80-e259-6f56ca5cd8df"
   },
   "outputs": [],
   "source": [
    "points=gm_load_th1()\n",
    "clf = GaussianMixture(n_components=3, covariance_type='full')\n",
    "clf.fit(points)\n",
    "cluster_labels=clf.predict(points)\n",
    "plt.figure(figsize=(5,5))\n",
    "plt.gca().set_aspect('equal')\n",
    "plt.title('K-Means')\n",
    "plt.xlim(-6,6)\n",
    "plt.scatter(points[:,0],points[:,1],c=cluster_labels, s=2)\n",
    "plt.show()"
   ]
  },
  {
   "cell_type": "code",
   "execution_count": null,
   "metadata": {
    "colab": {
     "base_uri": "https://localhost:8080/",
     "height": 445
    },
    "hidden": true,
    "id": "4ubCBvfj952-",
    "outputId": "5fb5f738-4652-45f0-8422-a43f8d062657"
   },
   "outputs": [],
   "source": [
    "points=gm_load_th2()\n",
    "clf = GaussianMixture(n_components=2, covariance_type='full')\n",
    "clf.fit(points)\n",
    "cluster_labels=clf.predict(points)\n",
    "plt.figure(figsize=(5,5))\n",
    "plt.scatter(points[:,0],points[:,1],c=cluster_labels, s=2)\n",
    "plt.show()"
   ]
  },
  {
   "cell_type": "markdown",
   "metadata": {
    "id": "mkSPCOBwLVCe"
   },
   "source": [
    "### EXERCISE 3: Find the cluster uncertainty with Gaussian mixtures"
   ]
  },
  {
   "cell_type": "code",
   "execution_count": null,
   "metadata": {
    "id": "pOT0cMv6LX-1"
   },
   "outputs": [],
   "source": [
    "#In this exercise you need to load the dataset used to present K-means ( def km_load_th1() ) or the one used to discuss\n",
    "# the Gaussian mixtures model ( def gm_load_th1() ).\n",
    "#As discussed, applying a fitting based on gaussian mixtures you can not only predict the cluster label for each point,\n",
    "#but also a probability distribution over the clusters.\n",
    "\n",
    "#From this probability distribution, you can compute for each point the entropy of the corresponging\n",
    "#distribution (using for example scipy.stats.entropy) as an estimation of the undertainty of the prediction.\n",
    "#Your task is to plot the data-cloud with a color proportional to the uncertainty of the cluster assignement.\n",
    "\n",
    "# In detail you shoud:\n",
    "# 1. Instantiate a GaussianMixture object with the number of clusters that you expect\n",
    "# 2. fit the object on the dataset with the fit method\n",
    "\n",
    "points=gm_load_th1()\n",
    "\n",
    "plt.figure()\n",
    "clf = GaussianMixture(..., covariance_type='full')\n",
    "clf...(...)\n",
    "\n",
    "# 3. compute the cluster probabilities using the method predict_proba. This will return a matrix of\n",
    "# dimension npoints x nclusters (check that this is the case!)\n",
    "# 4. use the entropy function ( from scipy.stats you need to import the entropy\n",
    "# function ) to evaluate for each point the uncertainty of the\n",
    "#prediction. Check here if in doubt: https://docs.scipy.org/doc/scipy/reference/generated/scipy.stats.entropy.html\n",
    "\n",
    "cluster_labels_prob=...\n",
    "\n",
    "from ... import ...\n",
    "entropies=[]\n",
    "for point in range(len(...)):\n",
    "    entropies.append(...)\n",
    "\n",
    "# 5. Plot the points colored accordingly to their uncertanty.\n",
    "\n",
    "cm = plt.cm.get_cmap('RdYlBu')\n",
    "sc = plt.scatter(points[:,0], points[:,1], c=entropies, cmap=cm)\n",
    "plt.colorbar(sc)\n"
   ]
  },
  {
   "cell_type": "markdown",
   "metadata": {
    "heading_collapsed": true,
    "id": "9O3ArMG6eff4"
   },
   "source": [
    "# Final notes"
   ]
  },
  {
   "cell_type": "markdown",
   "metadata": {
    "hidden": true,
    "id": "3EbOD7_Eeff5"
   },
   "source": [
    "### Note 1: More clustering methods.\n",
    "\n",
    " We covered here the most basic clustering techniques, showcasing different behaviors. For real like projects, there are also other algorithms that could be taken into consideration, e.g. a popular algorithm is HDBSCAN:\n",
    "\n",
    "- HDBSCAN : https://scikit-learn.org/stable/modules/generated/sklearn.cluster.HDBSCAN.html\n",
    "\n",
    "whose main characteristics is that it defines automatically an optimal number of clusters. HDBSCAN can fit clusters of also weirder shapes. It is often used in combination to a non-linear dimensionality reduction methodology like UMAP.\n",
    "\n",
    "Ultimately, the best way to measure the quality of a cluster is by visual inspecting its elements and see if they make sense domain-wise."
   ]
  }
 ],
 "metadata": {
  "colab": {
   "provenance": []
  },
  "kernelspec": {
   "display_name": "tf_dsf5",
   "language": "python",
   "name": "python3"
  },
  "language_info": {
   "codemirror_mode": {
    "name": "ipython",
    "version": 3
   },
   "file_extension": ".py",
   "mimetype": "text/x-python",
   "name": "python",
   "nbconvert_exporter": "python",
   "pygments_lexer": "ipython3",
   "version": "3.9.19"
  },
  "widgets": {
   "application/vnd.jupyter.widget-state+json": {
    "062e29832e69485d9b57c45e8c926446": {
     "model_module": "@jupyter-widgets/output",
     "model_module_version": "1.0.0",
     "model_name": "OutputModel",
     "state": {
      "_dom_classes": [],
      "_model_module": "@jupyter-widgets/output",
      "_model_module_version": "1.0.0",
      "_model_name": "OutputModel",
      "_view_count": null,
      "_view_module": "@jupyter-widgets/output",
      "_view_module_version": "1.0.0",
      "_view_name": "OutputView",
      "layout": "IPY_MODEL_87da890360a74203983e9b2cb4d82697",
      "msg_id": "",
      "outputs": [
       {
        "data": {
         "image/png": "iVBORw0KGgoAAAANSUhEUgAABMUAAANECAYAAACw5ZiSAAAAOXRFWHRTb2Z0d2FyZQBNYXRwbG90bGliIHZlcnNpb24zLjcuMSwgaHR0cHM6Ly9tYXRwbG90bGliLm9yZy/bCgiHAAAACXBIWXMAAA9hAAAPYQGoP6dpAADg5ElEQVR4nOzdd3wUZeLH8e/MpveEJIRACL03IYoUkSYIiOUQC/Z2tlNP1J9yYkERLKenngV7wd4riIAgSBNBeu+9hISE9GRnfn8gOWMqkOzsJp/3vXJmZ57d+S6YQL4+zzOGbdu2AAAAAAAAgDrEdDoAAAAAAAAA4GmUYgAAAAAAAKhzKMUAAAAAAABQ51CKAQAAAAAAoM6hFAMAAAAAAECdQykGAAAAAACAOodSDAAAAAAAAHUOpRgAAAAAAADqHEoxAAAAAAAA1DmUYgAAAAC83uzZs2UYhj777DOno1Ro27ZtMgxDb7/9ttNRAACVoBQDAAAAIEl6++23ZRiGgoKCtHv37lLn+/btqw4dOjiQDMesWbNGDz/8sLZt2+Z0lCr58ccfdd1116lDhw5yuVxq0qRJuWMfe+wxnXvuuapfv74Mw9DDDz/ssZwA6iZKMQAAAAAl5Ofn6/HHH3c6BsqwZs0ajRs3zmdKsQ8++EAffPCBIiMjlZiYWOHYsWPHavHixTrllFM8lA5AXUcpBgAAAKCELl266LXXXtOePXucjuJx2dnZTkdwRE297wkTJigzM1Pz5s1T586dKxy7detW7d27V++9916NZAGAv6IUAwAAAFDCv/71L7nd7kpni1W0f9Zfl789/PDDMgxDGzZs0OWXX67IyEjFxcXpgQcekG3b2rlzp8477zxFREQoISFBTz/9dJnXdLvd+te//qWEhASFhobq3HPP1c6dO0uNW7Rokc4++2xFRkYqJCREZ555pubNm1dizLFMa9as0ahRoxQdHa3evXtX+J4PHz6sO++8U02aNFFgYKAaNWqkK6+8UqmpqeU+p2/fvurbt2+p41dffXWp5YQfffSRunXrpvDwcEVERKhjx4567rnnJB1d3jpy5EhJUr9+/WQYhgzD0OzZs4ufP3XqVJ1xxhkKDQ1VeHi4hg0bptWrV5e6blhYmDZv3qyhQ4cqPDxcl112mSRp48aNGjFihBISEhQUFKRGjRrpkksuUUZGRvHzU1NTtW7dOuXk5FT4ayVJiYmJ8vf3r3ScpAqXVgJATaAUAwAAAFBC06ZNdeWVV9bIbLGLL75YlmXp8ccfV/fu3TV+/Hg9++yzOuuss9SwYUM98cQTatGihe6++27NmTOn1PMfe+wxff/997r33nt1++23a/r06Ro4cKByc3OLx/z000/q06ePMjMz9dBDD2nChAk6fPiw+vfvr19//bXUa44cOVI5OTmaMGGCbrjhhnKzZ2Vl6YwzztB///tfDRo0SM8995xuuukmrVu3Trt27TrpX5vp06fr0ksvVXR0tJ544gk9/vjj6tu3b3GZ16dPH91+++2SjhaXkydP1uTJk9W2bVtJ0uTJkzVs2DCFhYXpiSee0AMPPKA1a9aod+/epZZbFhUVafDgwYqPj9e///1vjRgxQgUFBRo8eLAWLlyo2267TS+++KL+/ve/a8uWLTp8+HDxc1944QW1bdu2zF9LAPAlfk4HAAAAAOB97r//fr377rt64oknimcqVYfTTjtNr7zyiiTp73//u5o0aaK77rpLEydO1L333itJuvTSS5WYmKg333xTffr0KfH8tLQ0rV27VuHh4ZKkrl276qKLLtJrr72m22+/XbZt66abblK/fv00depUGYYhSbrxxhvVvn17jR07Vj/++GOJ1+zcubM++OCDSrM/9dRTWrVqlb744gtdcMEFxcfHjh0r27ZP/BflD99//70iIiI0bdo0uVyuUuebNWumM844Q88//7zOOuusErPPsrKydPvtt+v666/Xq6++Wnz8qquuUuvWrTVhwoQSx/Pz8zVy5EhNnDix+NiyZcu0detWffrpp7rwwguLjz/44IMn/d4AwBsxUwwAAABAKc2aNdMVV1yhV199VXv37q22173++uuLP3e5XEpJSZFt27ruuuuKj0dFRal169basmVLqedfeeWVxYWYJF144YVq0KCBpkyZIulosbNx40aNGjVKhw4dUmpqqlJTU5Wdna0BAwZozpw5siyrxGvedNNNVcr++eefq3PnziUKsWOOlW8nIyoqStnZ2Zo+ffpxP3f69Ok6fPiwLr300uL3nJqaKpfLpe7du2vWrFmlnnPzzTeXeBwZGSlJmjZtWoVLIx9++GHZtl3mklAA8CWUYgAAAADKNHbsWBUVFVXrnSgbN25c4nFkZKSCgoIUGxtb6nh6enqp57ds2bLEY8Mw1KJFi+LlgRs3bpR0dIZUXFxciY/XX39d+fn5JfbHko4uF62KzZs3q0OHDlUaeyJuueUWtWrVSkOGDFGjRo107bXX6ocffqjSc4+97/79+5d63z/++KMOHDhQYryfn58aNWpU4ljTpk01evRovf7664qNjdXgwYP14osvlvr1AoDaguWTAAAAAMrUrFkzXX755Xr11Vd13333lTpf3uwot9td7muWtSywrGOSTmhJ4rFZYE899ZS6dOlS5piwsLASj4ODg4/7OsfDMIwy38tff53i4+O1bNkyTZs2TVOnTtXUqVP11ltv6corr9Q777xT4TWOve/JkycrISGh1Hk/v5I/+gUGBso0S8+RePrpp3X11Vfr66+/1o8//qjbb79dEydO1MKFC0uVaADg6yjFAAAAAJRr7Nixeu+99/TEE0+UOhcdHS1JJTZhl6Tt27fXWJ5jM6KOsW1bmzZtUqdOnSRJzZs3lyRFRERo4MCB1Xrt5s2ba9WqVcf9vOjo6DKXgpb16xQQEKDhw4dr+PDhsixLt9xyi1555RU98MADatGiRblF5LH3HR8ff9Lvu2PHjurYsaPGjh2r+fPnq1evXpo0aZLGjx9/Uq8LAN6G5ZMAAAAAytW8eXNdfvnleuWVV7Rv374S5yIiIhQbG1vqLpEvvfRSjeV59913deTIkeLHn332mfbu3ashQ4ZIkrp166bmzZvr3//+t7Kysko9/+DBgyd87REjRmj58uX68ssvS52raFZb8+bNtW7duhLXXr58efFdJY85dOhQicemaRaXffn5+ZKk0NBQSaWLyMGDBysiIkITJkxQYWFhqQxVed+ZmZkqKioqcaxjx44yTbP4+pKUmpqqdevWVbjvGAD4AmaKAQAAAKjQ/fffr8mTJ2v9+vVq3759iXPXX3+9Hn/8cV1//fVKSUnRnDlztGHDhhrLEhMTo969e+uaa67R/v379eyzz6pFixa64YYbJB0tkl5//XUNGTJE7du31zXXXKOGDRtq9+7dmjVrliIiIvTtt9+e0LXvueceffbZZxo5cqSuvfZadevWTWlpafrmm280adIkde7cucznXXvttXrmmWc0ePBgXXfddTpw4IAmTZqk9u3bKzMzs3jc9ddfr7S0NPXv31+NGjXS9u3b9d///lddunRR27ZtJUldunSRy+XSE088oYyMDAUGBqp///6Kj4/Xyy+/rCuuuEJdu3bVJZdcori4OO3YsUPff/+9evXqpRdeeKHC9/fTTz/pH//4h0aOHKlWrVqpqKhIkydPlsvl0ogRI4rHvfDCCxo3bpxmzZpV6Wb7K1as0DfffCNJ2rRpkzIyMopnnHXu3FnDhw8vHjt58mRt3769uGybM2dO8dgrrrhCycnJFV4LAI4XpRgAAACACrVo0UKXX355mftaPfjggzp48KA+++wzffLJJxoyZIimTp2q+Pj4Gsnyr3/9SytWrNDEiRN15MgRDRgwQC+99JJCQkKKx/Tt21cLFizQo48+qhdeeEFZWVlKSEhQ9+7ddeONN57wtcPCwjR37lw99NBD+vLLL/XOO+8oPj5eAwYMqHC/rbZt2+rdd9/Vgw8+qNGjR6tdu3aaPHmyPvjgA82ePbt43LH921566SUdPnxYCQkJuvjii/Xwww8X7/+VkJCgSZMmaeLEibruuuvkdrs1a9YsxcfHa9SoUUpMTNTjjz+up556Svn5+WrYsKHOOOMMXXPNNZW+v86dO2vw4MH69ttvtXv3boWEhKhz586aOnWqTj/99BP6NVu6dKkeeOCBEseOPb7qqqtKlGJvvPGGfv755+LHs2bNKr5rZu/evSnFAFQ7wz6R3SsBAAAAAAAAH8aeYgAAAAAAAKhzKMUAAAAAAABQ51CKAQAAAAAAoM6hFAMAAAAAAECdQykGAAAAAACAOodSDAAAAAAAAHWOn9MBTpZlWdqzZ4/Cw8NlGIbTcQCgzrBtW0eOHFFiYqJMk//G4q34cxIAAAB1yfH8nOLzpdiePXuUlJTkdAwAqLN27typRo0aOR0D5eDPSQAAANRFVfk5xedLsfDwcElH32xERITDaQCg7sjMzFRSUlLx92F4J/6cBAAAQF1yPD+n+HwpdmwpSEREBH/ZBwAHsCTPu/HnJAAAAOqiqvycwiYwAAAAAAAAqHMoxQAAAAAAAFDnUIoBAAAAAACgzqEUAwAAAAAAQJ1DKQYAAAAAAIA6h1IMAAAAAAAAdQ6lGAAAAAAAAOocSjEAAAAAAADUOZRiAAAAAAAAqHMoxQAAAAAAAFDnUIoBAAAAAACgzqEUAwAAAAAAQJ1DKQYAAAAAAIA6h1IMAAAAAAAAdQ6lGAAAAAAAAOocSjEAAAAAAADUOZRiAAAAAAAAqHMoxQAAAAAAAFDnUIoBAAAAAACgzqEUAwAAAAAAQJ1DKQYAAAAAAIA6h1IMAAAv1qRJExmGUerj1ltvdToaAAAA4NP8nA4AAADKt3jxYrnd7uLHq1at0llnnaWRI0c6mAoAAADwfZRiAAB4sbi4uBKPH3/8cTVv3lxnnnmmQ4kAAACA2oHlkwAA+IiCggK99957uvbaa2UYhtNxAAAAAJ/GTDEAAHzEV199pcOHD+vqq68ud0x+fr7y8/OLH2dmZnogGQAAAOB7mCkGAICPeOONNzRkyBAlJiaWO2bixImKjIws/khKSvJgQgAAAMB3MFMMQAmpuan6bvN32pu9V9FB0RrWdJiSIvihGnDa9u3bNWPGDH3xxRcVjhszZoxGjx5d/DgzM5NiDAAAACgDpRgASZJt23p95et6YdkLkiTTMGXbtl5a9pJGthqpMd3HyM/kWwbglLfeekvx8fEaNmxYheMCAwMVGBjooVQAAACA72L5JABJ0qcbPtXzvz8vy7Zk2ZaKrCK5bbds2fp0w6d6dsmzTkcE6izLsvTWW2/pqquukp8f5TQAAABQHSjFAKjIKtJLy14q97wtWx+s+0CH8w57LhSAYjNmzNCOHTt07bXXOh0FAAAAqDUoxQBoVeoqHco7VOGYQqtQc3bP8VAiAH82aNAg2batVq1aOR0FAAAAqDVYgwFAOYU5lY4xZFRpHADvZdu2cgvdTsfwOcH+LhmG4XQMAAAAVDNKMQBKjkyudIwtW80im3kgDYCaYNu2Lpy0QEu2pzsdxeekJEfr05t6UIwBAADUMiyfBKCGYQ3VM7GnXIarzPOmTDUKa6SUhBQPJwNQXXIL3RRiJ+i37enMsAMAAKiFmCkGQJJ0f/f7ddmUy3Sk4Ijc9v9++HMZLrlMlyacMUGmQY8O1Aa/jR2okICyS3D8T06BWynjZzgdAwAAADWEUgyAJKlxRGN9dM5HemnZS5qydYqKrCIZMtSnUR/d0uUWtYlp43REANUkJMClkAD+CgAAAIC6jb8RAyjWMKyhHuv9mO7vfr/S89MVERCh8IBwp2MBAAAAAFDtKMUAlBLiH6IQ/xCnYwAAAAAAUGPYIAgAAAAAAAB1DqUYAAAAAAAA6hxKMQAAAAAAANQ5lGIAAAAAAACocyjFAAAAAAAAUOdQigEAAAAAAKDOoRQDAAAAAABAnUMpBgAAAAAAgDqHUgwAAAAAAAB1DqUYAAAAAAAA6hxKMQAAAAAAANQ5fk4HAFBz9mXv07zd85TvzlfrmNbqGt9VhmE4HQsAAAAAAMdRigE+7kjBES3et1gFVoFaR7dW08imyivK0/iF4/Xt5m9lyZIhQ7ZsNY1sqif7PKk2MW2cjg0AAAAAgKMoxQAfVWQV6fmlz+uDdR8o351ffDwlPkUu06XF+xfLkiVJsmVLkrZnbtfVP1ytT8/5VEkRSY7kBgAAAADAG7CnGOCjHpj3gN5e/XaJQkySlh5YqkX7FsmyrVLPsWxLeUV5enP1m56KCQAAAACAV6IUA3zQ6tTV+m7Ld8UzwP7s2Oyw8rht99FllWWUZgAAAAAA1BWUYoAP+nrz13IZrhN+fr47v9QMMwAAAAAA6hJKMcAHpeamntRMr4iACAW5gqoxEQAAAAAAvoVSDPBBscGxMo0T+/J1GS6NbDVShmFUcyoAAAAAAHwHpRjgg85rfp7ctrvc84bKLrxchkv1Q+vrqvZX1VQ0AAAAAAB8AqUY4IPax7bX0KZDyyy/XIZLUYFRurHTjYoKjCo+bhqm+jfur/eHvq/ooOgTum5uUa7m7Z6nn3b8pF1Hdp1ofAAAAAAAHOfndAAAJ2Z87/GKC47Th+s+VIFVUHy8S3wXPdrrUSWFJ+nGTjdq9aHVynfnq3lUc8UGx57QtdyWWy8vf1mT10xWTlGOpKOz0Xom9tRDPR5Sg7AG1fKeAAAAAADwFEoxwEf5m/66+9S79ffOf9fifYtV4C5Q6+jWahbV7H9jXP7qEt/lpK/16MJH9fnGz0scs2Vr4d6FumzKZfpk+CcnXLgBAAAAAOAEr1g++eKLL6pJkyYKCgpS9+7d9euvvzodCfAZEQERGtB4gIY0HVKiEKsu69PWlyrEjnHbbqXlpentVW9X+3UBAAAAAKhJjpdiH3/8sUaPHq2HHnpIS5cuVefOnTV48GAdOHDA6WgAJH29+Wu5DFe55922W59v/Fy2bXswFQAAAAAAJ8fxUuyZZ57RDTfcoGuuuUbt2rXTpEmTFBISojfffNPpaAAkHcg5UGnhlVWYpXx3vocSAQAAAABw8hwtxQoKCrRkyRINHDiw+Jhpmho4cKAWLFhQ5nPy8/OVmZlZ4gNAzakXVE+GUfoul38W7BesQFeghxIBAAAAAHDyHC3FUlNT5Xa7Vb9+/RLH69evr3379pX5nIkTJyoyMrL4IykpyRNRgTprePPhctvucs+7DJfOb3F+pcUZAAAAAADexPHlk8drzJgxysjIKP7YuXOn05GAWq1DbAcNbjJYhkqXXi7DpTD/MF3T/hoHkgEAAAAAcOL8nLx4bGysXC6X9u/fX+L4/v37lZCQUOZzAgMDFRjIMi3Akyb2nqh6QfX0yYZPVGQVFR9vW6+tJvSeoAZhDRxMBwAAAADA8XO0FAsICFC3bt00c+ZMnX/++ZIky7I0c+ZM/eMf/3AyGoA/8Xf5a0z3Mbq5881auHeh8t35ah3TWm1i2jgdDQAAAACAE+JoKSZJo0eP1lVXXaWUlBSddtppevbZZ5Wdna1rrmE5FuBtooKidHbTs52OAQAAAADASXO8FLv44ot18OBBPfjgg9q3b5+6dOmiH374odTm+wAAAAAAAEB1cbwUk6R//OMfLJcEAAAAAACAx3hFKQbAM9alrdOM7TOUW5Sr5lHNdXaTsxXiH+J0LAAAAAAAPI5SDKgDsguzdffPd+uX3b/IZbhkGIaKrCI98esTGt97vM5KPsvpiAAAAAAAeJTpdAAANW/07NGav2e+JMltu1VkFUmScotydffsu7Vk/xIn4wEAAAAA4HGUYkAtt/LgSs3fM1+WbZU6Z8uWDOmV5a84kAwAAAAAAOdQigG13PTt0+UyXOWet2xLC/YuUFZBlgdTAQAAAADgLEoxoJbLLsyWIaPScblFuR5IAwAAAACAd6AUA2q5JpFN5LbdFY4J8w9TVFCUZwIBAAAAAOAFKMWAWm54s+HyM8u/0axpmLqw1YXyN/09mAoAAAAAAGdRigG1XFRQlMaePlaSZP7lS95luJQckazrO17vRDQAAAAAABxDKQbUAX9r+Te9OOBFtY9tX3ws2C9Yl7S5RJOHTFZkYKSD6QAAAAAA8Lzy11QBqFX6NOqjPo36KDU3VbmFuYoPjVegK9DpWAAAAAAAOIJSDHVC5qFcrZ67R3s2HpZpGkpqG6N2vRMVEhHgdDSPiw2OlYKdTgEAAAAAgLMoxVDrbfxtv6a/uUaSLds6emzvpsNa8sM2Dbulkxq1iXE0HwAAAAAA8Dz2FEOtdmh3lqa/uVq29b9CTJJsWyoqtPT9iyuUnZHvXEAAAAAAAOAISjHUast/2inJKPukLbmLLK2eu8ejmWrS4bzD+mX3L5q3e54y8jOcjiNJsm1baw6t0YI9C7TzyE6n4wAAAAAAIInlk6jltq86JNuyyz1v29KO1Yd02jlNPZiq6tanrdfK1JVyGS71SOyhhNCEMsflFOboycVP6uvNX6vIKpIk+Zv+Or/F+bo75W6F+Id4MnaxH7b9oOeWPKddWbuKj6XUT9GY7mPUKrqVI5kAAAAAAJAoxVDLVVSIHWO5Kx/jabuO7NJ9c+/T8oPLi48ZMnR2k7P1UM+HFOofWny80F2oG6ffqBWpK2T9aY1ooVWozzd+rs2HN+v1wa/L3/T36Hv4cuOXenD+g6WOLz2wVJdPuVzvD31fLaNbejQTAAAAAADHsHwStVqD5pEyzHKWT0oyTKlBi0gPJqrcodxDunLqlVqVuqrEcVu2pm2fpltn3iq35S4+/sO2H7Ts4LIShdgxlm1p6YGlmr5teo3n/rOcwhw9/uvjZZ6zbEsF7gI9/dvTHs0EAAAAAMCfUYqhVuvUL6nS5ZMdz2zkwUSV+3DdhzqUd0hu213qnGVbWrJ/iebtmVd87LMNn8k0yv9SNmXq842f10jW8szcMVM5RTnlnnfbbs3fM18Hcg54MBUAAAAAAP9DKYZarWHraHU/9+h+YX/ujQzTkAyp3+VtFFXfmf22yvPVpq/KnPV1jMtw6dvN3xY/3pu9t8LxliztyfLszQT2Zu+Vy3BVOMaWrX3Z+zyUCAAAAACAkthTDLVeytCmqt8sUit+2qk9GzNkmFLjdvXUuX+S6jeNcDpeKYfzD1d43m27dTD3YPHj2OBY7cveJ1tlz4gzZCg2OLY6I1YqKjCqwqLumOjAaA+kAQAAAACgNEox1AlJbWKU1CbG6RhVEh8Sr51HdpZ73mW4lBiaWPz4/Bbna2XqynLH27J1QcsLqjVjZc5KPksTf51YfCfMvzJlqm29tkqKSPJoLgAAAAAAjmH5JOBlLmx1oQyVf3MAt+0uUXINbz5czSKblblc0WW41DKqpYY2HVojWcsTHRStaztcW+a5Y+/tn93+6cFEAAAAAACURCkGeJmLW1+sppFNyyy5DBkalDxIKfVTio8F+wXrrbPfUo/EHqXG92rYS28MfkNBfkE1mrks/+jyD93S+RYFmAGS/leGxQTF6Ln+z+n0Bqd7PBMAAAAAAMewfBLwMqH+oXrn7Hc0YdEETds+rXhvrmC/YI1qM0q3nnKrDKPkTLKYoBi9PPBlbc/crqX7l0qSutXvpsYRjT2e/xjDMHRzl5t1WbvL9PPOn5VZkKlGYY3Uq2Ev+Zl86wEAAAAAOIufTAEvFBUUpSfPfFL/l/t/Wp+2Xi7TpU6xnRTiX/GdMpMjkpUckVzl69i2rSX7l+iT9Z9oc8ZmhfmH6eymZ+vc5ucq1D/0ZN+GJCkiIELDmw8v93yRVaTZO2fr+y3fKy0vTUnhSfpby7/plPhTSpV/AAAAAABUF0oxwIvFBscqtmHN3DnStm2NXzhen2z4RC7DJbftliFDvx/4XW+sfENvDX6rxjfCz8jP0E0zbtKq1FUyDVOWbWn5weX6evPXGt5suB7t9ahcZullpAAAAAAAnCz2FAPqqI/Xf6xPNnwi6ejm/dLRO1XaspWam6pbf7q1eOlmTfnXL//S2kNrJan4WseyfLvlW7228rUavT4AAAAAoO6iFAPqIMu29Pbqt8u9y6XbdmtrxlYt3LOwxjJszdiqObvmFJdgZZm8ZrIK3AU1lgEAAAAAUHdRigF10P7s/dqdtVu27HLH+Bl+WrRvUY1lWLBnQbml3DGZBZlam7a2xjIAAAAAAOou9hQDKnF4f45Wzdmt3RvSZRiGktrGqH2fREXUC3Y62gmzVLVlkbZdfml2so7tYVZRMSdJbqv8mWQAAAAAAJwoSjGgAht+3acZb6+RJB3bXit15xEtm7FDQ27sqCadamYT/JqWEJKg2OBYpeamljumyC5Sl/guNZahY2zHSss5f9NfLaJb1FgGAAAAAEDdxfJJoByHdmdpxltrZFv/K8QkybYly21r6isrlZma61zAk+AyXbq87eXlLl90GS7VD6mvPo361FiGznGd1TKqpVxG2XeXNA1T5zY/VxEBETWWAQAAAABQd1GKAeVYMWuXZJS/55Vt21o9d7cHE1Wvq9pfpf6N+0s6WkAdYxqmQv1D9cKAF+Rnlj+ZNK8oT/P3zNesHbO068iu476+YRh6uu/TigiMKHF944//tY5urbtT7j7u1wUAAAAAoCpYPgmUY8fqQ7Kt8ve7si1px5o09bjAg6GqkZ/pp6fPfFrTd0zXx+s+1paMLQr1D9XQpkN1ceuLFRcSV+bzLNvSayte09ur31ZWYZako0VWj8QeerDHg2oY1rDKGZpGNtUX536hD9Z+oK83fa2MggwlhiZqZOuRurDVhQr289192wAAAAAA3o1SDChHVfaYr6g08wUu06Wzm5yts5ucXeXnPL7ocX24/sMSx2zZWrR3kS6fcrk+PudjxYfEV/n1YoNjdXvX23V719ur/BwAAAAAAE4WyyeBcjRsFSXDLH/5pGEaatgq2oOJnLfl8JZShdgxbtut9Lx0vbXqLQ+nAgAAAADg+FGKAeXo1C+p4plgtq0OZ1Z9qWBt8NXmr8rdGF86Wox9sfELWXbFd5UEAAAAAMBplGJAOeo3jVDvkS0lSX/aB/7o7DFD6n9lW0UnhDqUzhn7s/fLVsVLRnOKcpRb5Jt35QQAAAAA1B3sKQZUoPOAJNVvGqEVs3Zp9/p0yZAat4tRp/5JiksKdzqex9ULridD5S8plaRAV6CCXEEeSgQAAAAAwImhFAMqkdAsUgnNIp2O4RWGNxuuyWsml3veZbg0vPlwuczyl1gCAAAAAOANWD4JoMra1muroU2HljlbzGW4FOIXous6XOdAMgAAAAAAjg+lGIDjMr73eI1qO0p+ZsmJpi2jWurdIe+qUXgjh5IBAAAAAFB1LJ8EcFz8TX/dd9p9uqnTTZq/Z77y3flqFdNK7eu1dzoagBNk27ZyC91Ox/A6OQVFZX6OkoL9XTKMivebBAAA8EaUYgBOSFRQlIY2G+p0DAAnybZtXThpgZZsT3c6ildLGT/T6QheKyU5Wp/e1INiDAAA+BxKMcCHFboLNWf3HO06sksRARHq37i/IgO5KQCAqsstdFOI4aT8tj1duYVuhQTw10oAAOBb+NsL4KNm7pipcfPHKT0/XaZhyrItPbrwUV3d/mr945R/yDTYMhDA8flt7ECFBHD3WFRNToFbKeNnOB0DAADghFGKAT5o/p75unPWncWPLduSJBVahXpt5WuyZeuOrnc4FQ+AjwoJcDHbBwAAAHUGU0kAH/TskmclSbbsMs+/veptpeWleTARAAAAAAC+hVKsFrJtW3s2rNOKGT9ozdxZysnMcDqS17NtW3s3Z2jt/L3avPSACvK89y5jOzN3am3a2nILMUly227N2M6SFgAAAAAAysMaiVrmwLYtmvrC00rdub34mOlyqdPAIep75XVy+fk7mM477duaoZnvrNXhfTnFx/wCTJ0yKFmnDm0iw/Suu2ml51e+IbZpmMrIpwwFAAAAAKA8lGK1SPq+Pfr44ftUmJ9X4rjldmvZj98rL+uIht1+j0PpvFPqriP66pnfZRVZJY4XFVha/N1WFeW71XNEC4fSla1BaAMZMiqdKdYgrIEHU5VvXdo6LTuwTKZh6tSEU9U0sqnTkQAAAAAAoBSrTRZ9+akK8/NkW1bpk7atdfN+1qnnjlB8k2aeD+elFn2zRZbbkl1Ov7Rsxg516t9IYdFBng1WgbiQOPVq2EsL9iyQ23aXOSbUL1QDGg/wcLKS9mbt1T1z7tHyg8tl6OhsO1u2eiX20sQzJio6KNrRfAAAAACAuo09xWoJd1GR1v0yu+xC7A+G6dKaubM8mMq75WUXatvKQ7LL/yWTJG34db9nAh2Hu1PuVpArSC7DVeL4sfJpTPcxCvYLdiKaJCkjP0NX/XCVVqWuknS0DDs2s23h3oW6btp1KnAXOJYPAAAAAABKsVqiMD9P7qLCSkbZys047Ik4PiEvq1AVrECUJBmmoZwj3lfeNI9qrveGvqdTE04tcTw5Iln/6fsfndfiPIeSHfX5xs+1L3tfmTPZ3LZbGw9v1LRt0xxIBvie3bt36/LLL1e9evUUHBysjh076rfffnM6FgAAAODzWD5ZSwQEB8s/MKjUfmJ/FR4b56FE3i84IkCGqQpnitmWrbCoQM+FOg4tolvotUGvaU/WHu3O2q2IgAi1im4lw6j5GwOk5qbqi41faPG+xTIMQ6clnKa/tfybYoJiJElfb/q6wj3PTMPUt5u/1fDmw2s8K+DL0tPT1atXL/Xr109Tp05VXFycNm7cqOholh8DAAAAJ4tSrJYwTZc69DtLy378vtwllLZlqf2Zzu4z5U0Cg/3UrEuctiw7WH4xZhhqeWp9j+Y6XolhiUoMS/TY9ebsmqM7Z9+pIneRLB39hVu4Z6FeWf6Knu//vHok9lB6XsV3yLRsS6m5qZ6IC/i0J554QklJSXrrrbeKjzVtys0qAAAAgOrA8sla5LTzRyokIlKGWfZva7dh5ym6QUMPp/Ju3c9tJr8Al4xyvhJOHdZEoZHeOVPMCTszd+qfs/6pQndhcSEmHd0zLN+dr9t+uk37svepYVjD4v3NyuIyXEqKSPJEZMCnffPNN0pJSdHIkSMVHx+vU045Ra+99prTsQAAAIBagVKsFgmLjtGo8U8rudMpJY4HhobpjFFX68wrrncomfeKTgjViHu6qX6TiBLHg0L91fuilkoZ2sSZYF7qw/UfyrKtMpdG2rJVaBXqk/Wf6MJWF1a4fNJtuzWi5YiajArUClu2bNHLL7+sli1batq0abr55pt1++2365133in3Ofn5+crMzCzxAQAAAKA0lk/WMhFx8RoxZpwyDx7QoV075BcQoAat2srP39/paF6rXsMwjfi/FKXtydbhAznyD3IpsUWUXH50xn81e+fsMjfPP8ayLc3eNVsfDftIX2z8QqsOrZL1l7Wphgyd2ehM9W7Yu4bTAr7PsiylpKRowoQJkqRTTjlFq1at0qRJk3TVVVeV+ZyJEydq3LhxnowJAAAA+CR+6q+lIuLi1fSUFCW170QhVkUxiaFq1iVOSW1iKMTK4bbKL8SOKXIXKcAVoNcGvaYRLUcowAwoPhfiF6KrO1ytZ/o+I7O8NasAijVo0EDt2rUrcaxt27basWNHuc8ZM2aMMjIyij927txZ0zEBAAAAn8RMMQBV1jmus/bn7C93tpjLcKlLfBdJUoh/iB7s8aD+2e2fWp+2XoYMtavXTiH+IR5MDPi2Xr16af369SWObdiwQcnJyeU+JzAwUIGB7IUIAAAAVIapGgCqbFTbURUun3Tbbl3S5pISxyICInRqwqlKSUihEAOO05133qmFCxdqwoQJ2rRpkz744AO9+uqruvXWW52OBgAAAPg8Zoqh2liWW1t//00bFvyigrxcRTdoqI79B3HHy1qkS3wX3dH1Dj239Dm5DFdxQXbs83tS7lG7eu0qeRUAVXXqqafqyy+/1JgxY/TII4+oadOmevbZZ3XZZZc5HQ0AAADweZRiqBY5mRn6fMKDOrB1swzTlG1ZMkxTi7/5XL0uulynj7ik8heBT7i+4/VqV6+d3lvznn7b/5sMGTot4TRd2f5KnZpwqtPxgFrnnHPO0TnnnON0DAAAAKDWoRTDSbNtW1//+zEd3L716GPLKvHPeZ+8p4j4+mp3Rj/HMvqiQnehvtn8jT5e/7F2HNmhMP8wDWs2TKPajFL90PqOZuuZ2FM9E3s6mgEAAAAAgJNBKYaTtm/zBu1Zv6aCEYYWffmJ2vbuK8MwPJbLl+W783XLjFv0675fZciQLVvZhdl6e/Xb+mzDZ3pz8JtqHdPa45kW71usnMIcNY1sqpbRLT16fQAAAAAAqhOlGE7alqWLZZgu2VZ5G7DbStu9U0dSDyoiLt6j2XzVpOWT9Nu+3yRJtuzi45ZtKaswS3fMukNT/jZFplHz98qwbVtvr35br614TUcKjxQf7xDbQeN6jlOr6FY1ngEAAAAAgOrG3Sdx0tyFharKBLCiwsKaD1MLFLgL9PG6j2XJKvO8ZVvanbVb83bP80ie//7+Xz2z5JkShZgkrTm0RldOvVJbM7Z6JAcAAAAAANWJUgwnLb5pc1nu8maJHRUQHMIssSrakbmjVAH1Vy7DpRWpK2o8y/7s/Xpj5RtlnrNsS3lFeXpp2Us1ngMAAAAAgOpGKYaT1vK0HgoOjyh3vzDDNNX5rCHy8/f3cDLfZJpV+7J0Ga4aTiJ9v/V7qYJZgG7brenbpyurIKvGswAAAAAAUJ0oxXDSXH7+Gj56jEw/Pxl/KXQMw1D9Zi3UY8SlDqXzPcnhyYoPqXhWndt2q0dijxrPcjDnYKX7lrltt9Lz02s8CwAAAAAA1YlSDNUiqV1HXfH4c2rXZ4D8AgIlSRFx8Trjsmt00UMT5R8U5HBC3+EyXbqm/TXlnzdc6hDbQZ1iO9V4lnrB9WTZZe9tdoxpmIoOjK7xLAAAAAAAVCfuPolqU69RY5198x06++Y7ZFtWqVljqLpRbUdpa8ZWfbLhE7kMl9y2W6ZMWbKUFJ6k5/o9V+5y1eo0rOkwPb/0+XLPuwyX2sS00esrX1ewX7D6N+6vltEtazwXAAAAAAAni1IMNYJC7OSYhqkHejyg4c2H67MNn2lr5lZFBERoaNOhGtRkkAJdgR7J0SCsga5uf7XeWv1WqXOGDLltt1YfWq316etl27ZeWPaCzmx0pp7o84RC/UM9khEAAAAAgBNBKQZ4sS7xXdQlvoujGf7Z7Z8K8Q/Rm6veVG5RbvFxW3bx50VWUfHnc3fP1V2z79KksyZ5NCcAAAAAAMeDUgxAhUzD1E2db9KV7a7Uwr0LlV2Yrc82fKZlB5bJUun9xizb0rw987QqdZU6xHZwIDEAAAAAAJVjjRuAKgnyC1KIf4iyCrK09MDSMguxY1yGSz9s/cGD6QAAAAAAOD7MFANQqXm752ncgnHam723SuMNGcoqzKrhVAAAAAAAnDhKMQAVWrxvsW6ZeYts26588B8s21JyRHINpgIAAAAA4ORQisHr2JalrcuWaM2cn5SVnqbw2Dh16DtQjTt0lmEYTserc57+7WnJLrmxfmVMw9S5zc+twVQAAAAAAJwcSjF4lcK8PH355CPauXqFDNOUbVkyTFPrfpmtFqeernP+ea9cfv5Ox6wzdmTu0OpDq6s83pAhW7b+77T/U73gejWYDAAAAACAk8NG+/Aq019/UbvWrpJ0dMbYn/+56bdFmvvBO45lq4sO5R06rvEto1vqP33/o0vbXFpDiQAAAAAAqB7MFIPXyEo7pHW/zC5/7yrb1vLpU9TjwlEKDAnxbLg6Kj4kvkrj7ux2p4Y0GaKE0ASWuAIAAAAAfAIzxeA1dqxeUelm7kUFBdqzYa2HEqFhWEN1q99NplH+t4oQvxBd0voSNQhrQCEGAAAAAPAZlGLwGpbbXa3jUD3uSblHfqZfucXY3aferRB/Zu4BAAAAAHwLpRi8RkLzlpWOMQxD9Zs290Aa32DZlnZm7tSWw1uU786vkWu0j22vtwa/pdbRrUscjw+J14TeEzSy1cgauS4AAAAAADWJPcXgNWKTktWobXvtXr+2eHP9PzNMUy1O7aGwGO5qaNu2Pt/4uV5f+bp2Z+2WJIX5h+mi1hfpps43KdgvuFqv1ymukz4Z/ok2pG/Q7iO7FRkYqc5xneUyXdV6HQAAAAAAPIWZYvAqQ/5xl0KjYkrtTWUYhqISGmjg9bc4lMy7PLv0WY1bME57svYUH8sqzNLbq9/WjdNvrLFZY62iW6lf437qWr8rhRgAAAAAwKdRisGrRMTG64onnlOPC0cpPDZOfgEBiqrfQL0vvUqXPfYfhUREOh3RcevT1uvNVW9KkmyVvDGBZVtadmCZPtvwmRPRAAAAAADwGSyfhNcJiYhUjwsvVY8LL3U6ilf6fOPnchkuue3ybzjw8bqPdVnbyzyYCgAAAAAA30Ip5gOKCgu1afECpe/drcCQULU4tYciYuOcjgWHbM3YWmEhZsvWzqydHkwEAAAAAIDvoRTzcpsWL9S0l59VXnaWTJdLtmVp1juvqVP/wep/7Y1y+fk7HREeFhEQIdMwZdmlb0ZwTIhfiAcTAQAAAADge9hTzIvtXLNS3zz9mPKysyVJltst27Yl29aKn6ZpxusvOZwQThjcZHCFhZjLcGlYs2EeTAQAAAAAgO+hFPNi8z5+T5Ih/WUzdUmSbWvVrOk6vH+fp2PBYf0a91PLqJZyGaXv/mgapgJdgbqi3RUOJAMAAAAAwHdQinmp7MPp2r1utewKZgQZpqn18+d4MBW8gb/pr1cHvaoOsR0kHZ0Z5mccXQldL6ieXh/0upLCk5yMCAAAAACA12NPMS+Vl51V6RjDMJWfk+2BNPA2scGxmjxkslalrtIvu39RoVWo9rHtdWajM+Vn8mUNAAAAAEBl+OnZS4VF15Ppcslyl3+XQctdpMj4BA+mgjcxDEMd4zqqY1xHp6MAAAAAAOBzKMW8VGBIiNr07KO1836WbZW9hNIvIEBtevXxcDLUdfuy92nOrjnKLcpVy6iWOj3xdJkGK7EBAAAAAL6FUsyL9brkSm1b8btyj2SWLMYMQ7Jt9b/mJgWGhDoXEHVKvjtf4xeO1zebvpEtW4ZhyLItJYYm6ok+T6hLfBenIwIAAAAAUGVM7/BiEbFxumzCM2rZvacM83+/VfUaJuncu/6ljv0HOZgOdc2YuWP0zaZvZMmSLVvWHzeB2Je9T9f/eL02pm90OCEAAAAAAFXHTDEvFxEbr+H/vE85mRnKPHhAAcEhim6QKMMwnI6GOmTNoTWavn16mecsWSqyivTqilf11JlPeTgZAAAAAAAnhlLMR4RERCokItLpGKijpm6dKpfhktsu+8YPbtut6dunq8BdoABXgIfTAQAAAABw/Fg+CaBSh/MPVzrGbbuVXZhd82EAAAAAAKgGlGIAKpUYlihbdoVjQvxCFB4Q7qFEAAAAAACcHEoxAJU6v/n5su3ySzGX4dLfWv5NfiYrsgEAAAAAvoFSDEClGoQ10M2dby7znMtwKS44Ttd1vM7DqQAAAAAAOHGUYgCq5KbON+mB0x9QfEh88THTMDWg8QC9P+x9xQbHOpgOAAAAAIDjw1onAFViGIYuan2RRrQcoXXp65RXlKcmEU1UL7ie09EAAAAAADhulGIAjovLdKl9vfZOxwAAAAAA4KSwfBIAAAAAAAB1DqUYAAAAAAAA6hyWTwKo9Wzb1q9b0/Ttij3KyC1Sk3ohuiglSUkxIU5HAwAAAAA4hFIMQK2WlV+kG975TQu2HJKfaciybRky9MJPm3TnWa10+4CWTkcEAAAAADiA5ZMAarU7P1qmRVsPSZKKLFuWLbltW7akZ6Zv0Ce/7XQ2IAAAAADAEZRiAGqtTQeOaPra/bLs8se88NMmWRUNAAAAAADUSpRiAGqtmWsPyDQqHrMjLUdbUrM8EwgAAAAA4DUoxQDUWnmFlkyjklbsj3EAAAAAgLqFUgxArdW2QbiKKlkaGehnKrked6EEAAAAgLqGUgxArdW/TbziwwPLXULpMg39rWsjhQf5ezYYAAAAAMBxjpZiTZo0kWEYJT4ef/xxJyMBqEX8XKZeGNVV/i5Trr80Y6YhNakXonvPbu1QOgAAAACAk/ycDvDII4/ohhtuKH4cHh7uYBoAtc1pTWP07W299fLszfpuxR4Vum3FhATostMb64Y+zRTBLDEAAAAAqJMcL8XCw8OVkJDgdAwAtVir+uH6z8Vd9O+RnVVQZCnI35RRhQ34AQAAAAC1l+N7ij3++OOqV6+eTjnlFD311FMqKipyOhJQ42zb1rzd83TbzNs08NOBGv7lcD2/9Hntz97vdLRazWUaCg5wUYgBAAAAAJydKXb77bera9euiomJ0fz58zVmzBjt3btXzzzzTLnPyc/PV35+fvHjzMxMT0QFqo1t23ps0WP6eP3HchkuuW23JOmNVW/og3Uf6NWzXlWnuE4OpwQAAAAAoHar9pli9913X6nN8//6sW7dOknS6NGj1bdvX3Xq1Ek33XSTnn76af33v/8tUXr91cSJExUZGVn8kZSUVN1vAahRX236Sh+v/1iSigsxSbJsS7lFubp15q3KK8pzKl6VFLoLVWQxqxMAAAAA4LuqfabYXXfdpauvvrrCMc2aNSvzePfu3VVUVKRt27apdeuy7wg3ZswYjR49uvhxZmYmxRh8yjtr3pEhQ7bsUucs29Lh/MP6YdsPOr/F+Z4PVwHLtvTVpq80ec1kbTq8SYYMnZZwmq7tcK16NuzpdDwAAAAAAI5LtZdicXFxiouLO6HnLlu2TKZpKj4+vtwxgYGBCgwMPNF4gKOyC7O1+fDmCse4DJeW7l/qVaWYZVsa+8tYfbvlWxk6uh+XLVuL9y/Won2LdN9p9+mytpc5nBIAAAAAgKpzbE+xBQsWaNGiRerXr5/Cw8O1YMEC3Xnnnbr88ssVHR3tVCygRh0rlCod52UbwU/bNk3fbvlWkkrMcLNsS5L0xK9PqFdiLzWJbOJEPAAAAAAAjptjd58MDAzURx99pDPPPFPt27fXY489pjvvvFOvvvqqU5GAGhfiH6LW0a1lVvCl57bdSqmf4sFU/7P58Gb9tOMnLd63WIVWYfHxD9Z+INMoP7NpmPp0w6eeiAgAAAAAQLVwbKZY165dtXDhQqcuDzjm6g5Xa8zcMWWeMw1T0YHRGtxksEczrUtbp0cWPKKVqSuLj8UExejWLrfqotYXaX36+uJZYWVx226tObTGE1EBAAAAAKgWjpViqB62ZWnHqhXau2m9TJdLTTp3VXyTsm9kAO8wrOkwbUjboLdWvyWX4Sq+A6UpU2H+YXp54MsKcAV4LM/G9I26cuqVyneXvOtrWl6aHl34qHIKc+Rv+itXueW+hiFDQX5BNR0VAAAAAIBqQynmww7u2KZvnn5Mh/ftlWG6JNma+8HbatSuo4bfeZ9CIiKdjogyGIah0Smj1Teprz5c96HWp61XkF+QBjUZpL+1/JtigmI8mue5pc+pwF1Q7kyw/yz9j06tf6oW71ssS2WPsWWrX1K/mowJAAAAAEC1ohTzUUcOperjh+9TQW6OJMm23MXndq9brc8evV+XTXxWLj9+i71V1/pd1bV+V0czpOWlac6uOSU2z/8ry7a0aN+ics+7DJeiAqN0TrNzaiIiAAAAAAA1gsbERy2d+o0KcnNkW6Vn7tiWpYM7tmnT4oVq3aO3A+mqxrZt7VqzUqt/nqnM1IMKi6mn9n0GqHGHTjJMx+4BUaek5qZWWIj9mSmzeKaYKVMyjhZm9YLq6dVBryrEP6QmowIAAAAAUK0oxXzU2rmzyizEjjFMU+vmzfbaUsxdVKjvnn1CmxYvlGGasi1Lhmlq7dxZatKlm86961/yDwh0OmatdzxLNS1ZMg1T3eK7KTY4Vi7TpV4Ne2lQ8iCP7oEGAAAAAEB1oBTzUfk52RWety1LeVlHPJTm+M157y1t+u3okrxj5d6xf25fvlSz3n5Vg/5+m2P56orY4Fid3uB0/brv1wrvLnmMZVvakrFFb579pgfSAQAAAABQc1ij5qMi4xMqPG+YLkUlNPRQmuOTl52l5TOmSnbZy/Zs29bq2TOUk5nh4WR10x1d75DLcB1dElkFWYVZNZwIAAAAAICaRynmozoPGlrhedtyq2P/QR5Kc3x2r1sjd2FhhWMst1s7V6/wUKK6rUNsB7161qtqFN6o0rGGDDUM886yFQAAAACA40Ep5qM69hukBi3blLshfaeBQ5TYqo2HU1WNVVRUreNw8lISUvTdBd9pbPexlY69qPVFHkgEAAAAAEDNohTzUX4BARo5drxOOXu4/AODio+HRkXrzCuu08DrbnYwXcXqN2tRtXHNW9ZwEvyZYRi6uM3FuqhV2aWXaZjqGNtRF7a60MPJAAAAAACofmy078P8g4LU76ob1PviK5S2d7dMl0v1GibJdLmcjlahiLh4Net6qrYuW1LmHTQN01Sjth0Uk1j5cj5Uv/tPv1+NIxrr7dVvKzU3VZIU7BesES1H6LZTblOgi7uCAgAAAAB8H6VYLeAfFKT6TZs7HeO4nPX32/TRg/co8+BB2X+666FhmgqNitHZt9zpYLq6zTRMXdX+Kl3W9jJtPrxZbtutJhFNFOIf4nQ0AAAAAACqDaUYHBEWHaPLJz6nZdO+04qZ05R9OF0hkZHq2H+Qugw+RyERkU5HrPP8TD+1jmntdAwAAAAAAGoEpRgcExQWptNHXKLTR1zidBQAAAAAAFDHUIrVQllph7Ri5g/atXa1ZBhK7tBZHfsPUkhklNPRAAAAAAAAvAKlmAfZtq29G9dp5+qVsi1Lia3bKal9RxmGUW3X2LR4ob579nFZbqt4r65dq1do4Rcf6/x7HlBypy5Vep1Du3Zq46/zVZifp3qNGqtl957yD2CDdQAAAAAAUDtQinlIZupBffP0BO3fslGGaUqSbMtSTMMknXf3WMUkNjzpa6Tt2aVv/zNRlttd4rht2yoqLNBXTz2ia599VeH1Yst9jcK8PE198Rlt/HW+DNOUYRiy3G799OYknX3raLVI6X7SOQEAAAAAAJxmOh2gLijMy9Mn48bowLbNko6WYbZ1dBZX+t7d+vjhe5WTmXHS1/n9h+9k23bZJ21b7qIirZgxtcLX+P75p7Tpt4XFOY8VbPk5Ofrm6ce0e92ak86J2mVD+gaNWzBOQ78YqmFfDNNjCx/TlsNbnI4FAAAAAECFKMU8YM3cWco4sK+4CPsz27KUm5mhFTN+OOnrbFn6a5nX+PO1tixdXO75/Vs2afOSReW8xtGybcHnH51sTNQiX278Uhd+c6G+3Pildh7ZqR1HdujTDZ/qgm8u0NStFRewAAAAAAA4iVLMA9bNmy1VsG+YbdtaM3fWSV/nr8smy+KuYMyGhb/IMF3lnrctS9tXLFV+TvYJ5UPtsi5tnR6a/5Bs2XLb//v3ym27ZdmW7pt7n7ZlbHMuIAAAAAAAFaAU84DcrCypvGWNf8jPzjrp6yS2blthqWWYLjVs3bb8DDk5FXV3xQrycisds3/LJq2Y+YNW/zxTWWmHKn9ReIUiq0i5RbnlL8P9kw/WfiDTKP9biCFDH6//uDrjAQAAAABQbersRvs703L03qLtWrD5kAxJvVvGalT3ZDWMCq72a8UkNlLa7p3lLm00DFPRCYknfZ1Tzh6uDQt+Kfe8bbnVZdCwcs9HN0iUVcHyS0nyDwpSSERkuefT9+7W98//W/u3bCw+ZhiG2p7RTwOvv0X+gUEVvj6csTp1tV5f+bp+2vmTLNtSXHCcLmlzia5od4WC/cr+mli4d2GJGWJ/5bbdWrh3YU1FBgAAAADgpNTJmWJTVu5Vv3/P1utztmrFrgwt35Whl2dvVt+nZmn6mv3Vfr1OAwZXvNeXbanzWUNO+jqN2rRX70uulKTiO1we/fzo7LH+196kuOSm5T6/7Rn9ZFY408xUh35nyeXnX+b5rLRD+vDB/yu+ocAxtm1r7dzZ+vrfj1VpBhI86+edP+uyKZdp1s5Zsuyj/54ezD2oF5e9qGunXaucwpwyn2eoCtMKAQAAAADwUnWuFNt0IEu3ffi73JYt958KGsuWity2bnl/iXYcKrsEOFHJnU5Rm959yz5pGEru1FWte/aplmt1v+AiXTh2vJp26aaA4GAFBIeoecppunjcEzpl8DkVPjckIlIDrr3pj1glCw/DNBUZV189Rlxa7vOXTPlaeVlHyr6hgG1p+4rftXP1ihN4Vzhelm1p/u75uv+X+3XbzNs0cdFErU9bX2pcTmGO7p17ryzbKjXry7ItrTm0Rq+vfL3Ma3Rv0F0uo/wS1WW4dHqD00/ujQAAAAAAUEPq3PLJdxdsk3TsXool2ZIsS5q8cJvuH9au2q5pGIaG3HqnYpOStfT7r5STmSFJCgwNVZdB5+j0EZfIdJVfLhyv5I5dlNyxywk9t9PAsxUcGakFn36gg9u3SpJc/v5q32eAel1yhYLDI0o958C2LVr50zStmPFDhTPiDNPUmjmz1LhD5xPKhqrJKsjSbT/dpt/2/yaX4ZLbdstluPTBug80qs0o3XfafcWl5w/bflB2Yfk3TrBsSx+v/1g3d7lZ/mbJGYKXtb1MX236qsIsl7S55KTfDwAAAAAANaHOlWKz1x+U2yp/CZ/btvXzhoO6v/ytt06IabrU/fyRSjnnAqXv2SXbthWd2Eh+/mUvRXRSy1N7qOWpPZSZekCFeXkKj41TQFDpfaVs29bsd1/X0ilfyzBdsq2K735pW5ZyMg7XUGocM3beWC09sFSSimd/HfvnB+s+UGJYoq5qf5UkaX3aevmZfiqyisp9vcyCTB3KPaSE0IQSx1vHtNa4nuP00PyHZBpm8TWOzR57/IzHlRyRXL1vDgAAAACAalLnSjGrCntaVbLX/Elx+fkptnGTmrtANYqIja/w/O8/fKulU76WpEoLMeno3mbhsbHVkg1l25G5QzN3zKxwzJur3tSotqPkb/or0C+wSvu8BbgCyjx+QcsL1CG2gz5a95EW7VskQ4Z6JvbUxW0uVrPIZif0HgAAAAAA8IQ6V4p1bxqjvRl7yp0t5jINdW8W4+FUvsey3Pr1q0+P6zm25VaHfmfVUCJI0tzdc2XIkF3mAuGj0vLStCFtg9rHtle/pH56a9Vb5Y41DVPt67VXTFD5XxMto1vqgR4PnFRuAAAAAAA8rc5ttH91z6YVLp+0bFtX9GDJV2UO7dqp7MPpx/Wcdn36K6F5qxpKBEkqsopK3SShLAVWgSSpS1wXdY7rXO6G+ZZt6YaON1RrRgAAAAAAvEGdK8U6NorUw8OPbqLvMv9XHrhMQ4akCRd0VJuE0pvJoySrqPw9qP7KPyhYp4+4RINvvqNKhQ1OXNuYtrLsitf/+pv+xUsbDcPQ8/2fV5uYNpKO7gdmGmbxx5jTxqhf4341nhtA+R5++GEZhlHio02bNk7HAgAAAHxenVs+KUlX92qqTklRenveNs3blCrDkM5oGadrejVRp0ZRTsfzCdGJDeUXEKCigoIKx51x6VU6Zchw+QcGeShZ3XZqwqlKjkjWriO7ije+/zOX4dI5zc5RZGBk8bGYoBh9MOwDLdyzUD9u/1E5RTlqFtlMF7S4QPVD63syPoBytG/fXjNmzCh+7OdXJ//4BgAAAKpVnf1bddfG0eraONrpGD4rIChYHfqdpeXTp8ou484EhmkqIjZOp547QoZZ5yYkOsYwDD195tO6+oerlVuUW6IYMw1TTSKa6K6Uu0o9zzRM9WzYUz0b9vRkXABV5Ofnp4SEhMoHAgAAAKgy2gqcsDMuvUpxyU1LLYk0TFP+gUEaPvpfx12I2bat3evWaP6nH2jeJ+9p6++/lVm6oXytY1rrs3M/08WtL1aYf5gkqX5Ifd3a5Va9N/S9ErPEAPiGjRs3KjExUc2aNdNll12mHTt2OB0JAAAA8Hl1dqYYTl5AcIguGfeElv84RcumT1HmwYMKCA5Wuz791G3o+YqMP76ld0cOperrf4/X/i2bZJguGYZkud2KjK+v8+55QHGNm9TMG6mFGoY11JjuYzSm+xjZts1eboAP6969u95++221bt1ae/fu1bhx43TGGWdo1apVCg8PLzU+Pz9f+fn5xY8zMzM9GRcAAADwGZRiOCn+gUFKGf43pQz/20m9TmFBvj55ZIwyDuyXJNmWW8fuEZqZelCfjBujq/79osKiY04ycd1DIQb4tiFDhhR/3qlTJ3Xv3l3Jycn65JNPdN1115UaP3HiRI0bN86TEQEAAACfxPJJeIV1837W4X17y1wqaVuW8nOytWza9w4kAwDvEhUVpVatWmnTpk1lnh8zZowyMjKKP3bu3OnhhAAAAIBvoBTDCSkqKFBeVla17fe1ft6cCmc02Zaltb/MrpZrwXm2bev3A79r0vJJennZy1q4d6Fs2678iQCUlZWlzZs3q0GDBmWeDwwMVERERIkPAAAAAKWxfBLHZc+GdVr05cfa8vtvkm0rKDxcXc4aqlPPHaGA4JATft3crCOVliIFOdkn/PrwHnuz9uqOWXdobdpauQyXJMltu9Ukoome6/+cmkU2czgh4F3uvvtuDR8+XMnJydqzZ48eeughuVwuXXrppU5HAwAAAHwaM8VQZZsWL9RHD/2fti5bIv1RYOUdOaJFX32qjx66V/k5OSf82vUaNZZhuso9bxiGohoknvDrwzvkFObommnXaEP6BklHyzC37ZYk7TyyU9f8cI3S8tKcjAh4nV27dunSSy9V69atddFFF6levXpauHCh4uLinI4GAAAA+DRKMVRJQV6uprzwb9mWXWrJpG1ZSt25XQu/+OiEX7/TgMGyLXe5523bVpdBw0749eEdvtvynXZn7S4uwv7Mbbt1OO+wPtvwmQPJAO/10Ucfac+ePcrPz9euXbv00UcfqXnz5k7HAgAAAHwepRiqZP38uSrMy5NU9hJH27K0YsYPchcVntDrN2zTXh0HDC7znGEYSu50itr27ntCrw3vMWXrFBkqf+84S5a+3fytBxMBAAAAAOoq9hRDlaTu2CbT5ZLlLn82V0FujrLT0xURF3/cr28Yhs66/lbFNmqsxd9+oay0Q5KkwNAwnXL2Oep+wcUyXeUvr4RvyMjPkF1OsXrMkYIjHkoDAAAAAKjLKMVQJX6BgarKzQH9AgJO+BqGaarr0PPU5exzdHjfPtmWW1EJDeTy8z/h14R3aRrZVFsztpa5fFKSTMNUckSyh1MBAAAAAOoilk+iSlqcenqFe34ZhqGEFq0UEhl10tcyTZdiEhuqXqPGFGK1zIWtLiy3EJMky7Z0UeuLPJgIAAAAAFBXUYqhShKat1L95i2lcvaDsm1bp//tEs+Ggs/p0aCHzml2TpnnDBnq3bC3Bjcpe285AAAAAACqE8snUSWbfl2g/Vs2qayN9g3D0IDrblbzbqd5Phh8imEYGt9rvFpGt9S7q9/Vobyje8dFBETo0jaX6sZON8rP5NsSAAAAAKDm8dMnKpWVnqbvnn9S5W0qZtu2QqNiPJwKvsplunRth2t1ZbsrtT1zuyzbUpOIJvJ3sVQWAAAAAOA5LJ9EpVb+NE12BXedNExTS6d87cFEqA38TD81j2qultEtKcQAAAAAAB5HKYZK7Vm/TnYFt560LUt7NqzzYCIAAAAAAICTQymGSpmuyv81MUz+VQIAAAAAAL6DJgOVSu50imSUfddJSTJM19ExAAAAAAAAPoJSDJVq16e/AoNDZBhl/+tiW26lnHO+Z0MBAAAAAACcBEoxVCooNEx/GzNO/kFBMv40Y8wwTckwNPD6W9SobQcHEwIAAAAAABwfP6cDwLul7dml5T9O0a61qxVZP0HBYeEqyMuVJCW2bKPOg4YqJrGRwykBAAAAAACOD6UYyrVq1nT9+MrzkmHItixJR2eHmS6Xzr/nATXp3NXhhAAAAAAAACeG5ZMo077NGzXtledl23ZxISZJtmXJXVSkr/89XllphxxMWPdkFmTqm83f6L0172n2ztkqtAqdjgQAAAAAgM9iphjKtHTqNzIMU7btLn3StuUuKtKKmdPUc+Qoz4erY2zb1qTlk/TaytdUaBXKlClLlmKCYvRwj4fVr3E/pyMCAAAAAOBzmCmGMm1bvlS2VUYh9gfbsrR95e8eTFR3vbjsRb20/KXimWGWjs7cS89L1z9n/VPz98x3Mh4AAAAAAD6JUgxlsm278jF/WlaJmpGel643Vr1R5jn7j/89t/Q5D6cCAAAAAMD3UYqhTI3atJdhuso9b5imGrXr6MFEddOMHTPkrmjGnmytObRGOzJ3eDAVAAAAAAC+j1IMZeo69NwKl09KUueBZ3soTd11OO+wTKPyL9P0/HQPpAEAAAAAoPagFEOZktp1VO9Lr5KkEjPGDNMlwzQ15B93KTI+wal4dUaDsAZyl3Wzgz8xZCghhN8LAAAAAACOB3efRLm6nz9SDdu00+9Tv9Wutatkulxq2qWbThlyruIaN3E6Xp0woPEAhfqFKrsou8zzLsOl7g26q35ofQ8ng6/Izi/Sh7/u0EeLd2p/Zp5iwwJ1UUqSRnVvrMhgf6fjAQAAAIBjKMVQoUZt2qtRm/aljltutwzTlGEYDqSqO4L9gjWm+xiNnTdWhgzZ+t8NEFyGSwGuAN2dcreDCeHN0rILdNErC7T5YJZkS7akI3lFemraOn2waLs+u7mn6kcEOR0TAAAAABxBKYYqKyoo0O/TvtOyad8r8+B+ufz81er0Xjr13BGKS27qdLxa67wW5ynYL1jPLX1OO478b0P9rvW76r7T7lPL6JYOpoM3G/vVSm1NzdZfbyZr2dKejDzd/clyTb6+uzPhAAAAAMBhlGI+yHK7lZedpYCgYPkFBHjkmoX5efps/APas3Gdjv2E7S4q1Lr5c7V+4S+64N6H1KTTKR7JUhtYtqX5e+Zrdepq+bv81Suxl1rHtC53/KAmg3RW8llal7ZOGQUZahjWUEnhSR5MDF+zLyNPP6zaJ8su+7zbsjV3U6q2HMxSs7gwz4YDAAAAAC9AKeZDcjIOa9GXn2jlrB9VmJcnwzTV4tQeOv1vFyu+SbMavfaiLz/V3o3r9dcpJ7bllm0b+u4/j+vGV96Vf0BgjeaoDdYeWqt/zv6n9mTtkctwyZat/yz5j5pFNlOQK0ipeamKDY7V+S3O13nNz1OIf4gkyTAMta3X1uH08BUrdh0utxD7s2U7D1OKAQAAAKiTKMV8RFZ6mj4Ye5ey0g7JtixJkm1Z2rR4gbYs+VUj7n9ESe061si13UVFWj59imzbKnuAbSs/J1sbFvyi9mcOqJEMtcXurN26Zto1yi3KlaQSd5bckrGl+PODOQe19tBafbjuQ701+C3VC67n8azwbS6zavv9VXUcAAAAANQ2ptMBUDU/T369RCF2jG1ZstxF+v75p2RZ7nKefXKy09OUl3WkwjGmy6UD27ZUOAbSu6vfVV5RnqzyCsY/2H/8b0fmDj0w7wEPpUNtkpIcowBXxd/iTUM6vRmFKwAAAIC6iVLMB+QeydT6Bb+UKsSOsW1b2elp2vr7khq5vsvfv1rH/VlWepo2/bZIm5f8qtxKirfa4Pst35eYHVYZt+3W3N1ztTNzZw2mQm0UGeKvS05LUnkTwUxDOrdzInefBAAAAFBnsXzSB6Tv3VNuIXaMYZo6tGuHmnc7rdqvHxoVrbjkpkrdsU32X29j9wfL7VazrqdW+TVzs45o5hsva8PC/5V9pp+fOvQ9S32vur7W7k2WVZh1Qs9bemCpkiLYWB/H519D22r7oRz9vOGgXKYht2XLNI7efbJbcrQeu6BmllwDAAAAgC+gFPMB/oGVF0S2bcuvBouk7hdcrO+efbzMc4Zpqn6zFmrYul2VXqswP0+fjBujQ7t2lCj7rKIirZw5Ten79ujC+x+RabqqJbs3SQxL1M4jxz/ryzDY9wnHL8jfpbeuPlU/bzioT37bqd2Hc5UQEaQR3RppQJt4+VWyvBIAAAAAajNKMR8Qm5SsiNh4ZaYeqHBci5TuNZahdY/eyjx4jea8/5YM05Rt2TJMQ7ZlKTYpWeff80CVi5tVs2codce2Ms/ZtqWdq5Zr85Jf1fLUHtX4DrzDxa0v1tO/PS1bVbgt4B8MGepWv1sNpkJtZpqG+rWJV7828U5HAQAAAACvQinmAwzTVI8LL9W0Sc+Vfd4w1KZ3X0XE1ewPvaeeO0KtTu+llT/9qLTdu+QfFKRWp/dW01O6HdesrpUzf6zwvGGaWvXTj7WyFLuo9UWasnWK1qWtq3SzfUlyGS71TeqrhmENPZAOAAAAAIC6g1LMR3Tod5ayD6dr3seTJcM4OivLlizLreYpp+usv//DIzki4xPU+5IrT+o1stJSKzxvW5aOpFY8xlcF+wXrzcFv6r+//1efb/hcee48SZK/6a9Cq1CmYcqyLZkyZclSy+iWGtdznMOpAQAAAACofSjFfEj3Cy5Suz79tfrnmco4sE9BYeFq07OP6jdr4XS04xISFa3cI5nlnjdMU6ExMR5M5Fmh/qG677T7dPspt2tb5jb5m/5KCk/S7F2z9cWGL7Q3e6/iguN0fsvzdXaTsxXgCnA6MgAAAAAAtQ6lmI8Jrxer0/92cbnniwoLlZ1+SH4BgQqNivZgsqrr2O8szZ78hlTOnSxty1KHvgM9nMrzQvxD1K7e/25OcHaTs3V2k7MdTAQAAAAAQN1BKVZLFOTmaMHnH2nFjB9UkJsjSarfrIVOH3FpjW7AfyI69BukZT9OUcaBfSXuPikdnSWW0LylWtTC/cQAAAAAAID3MJ0OgJNXkJerjx6+T0u+/6q4EJOkA1s36+unHtWyad87mK60wJAQXTLuCSV37FLiuGEYanV6b43416Ny+dHXAgAAAACAmkPzUAss/uYLpe7YVmrWlf3H8sSf3n5FLbv39KrllKFR0Rrxr0eUvm+P9m5cL8Mw1KhtB4XXi3U6GgAAAAAAqAMoxXycbVlaPn1KqUKs5CBbq2ZNV/cLLvJcsCqKTkhUdEKi0zEAAAAAAEAdw/JJH1eQl6vczIyKBxmG0vbs8kwgAAAAAAAAH0Ap5uNc/gEyDKPCMYZhKCA42EOJAAAAAAAAvB+lmI/z8/dXs26nSRUUY5bbrVbde3kwFQAAAAAAgHejFKsFOg4YLP2xqX5ZTD8/xTVp7sFEAAAAAAAA3o1SrBbY98fdG8tjFRVp7S+zPJgIAAAAAADAu1GK1QLr5s2RXcFMMcnQ+vlzPJYHAAAAAADA2/k5HQAnryA3p5IRtvJzKhuD2mpV6ipN2TpFmfmZSgpP0nktzlNCaILTsQAAAAAAcBSlWC0Q06ixctetlm1ZZZ43TJdik5I9nApOyy3K1T0/36Ofd/0sl+GSJNmy9dKyl3Rb19t0fcfrHU4IAAAAAIBzWD5ZC3QZNKzcQkySbMutzgOHeDARvMGD8x7U3N1zJUlu2y237ZZlW7Jk6bmlz+nrTV87nBAAAAAAAOdQitUCrbr3VMvTekoqe7P9zmcNUcO27av1mkfSUvXr159p5puTtODzD3V4/75qfX2cnJ2ZO/XDth9k2eWXpZOWT6rwPAAAAAAAtRnLJ2sBwzR1zj/v1ZLvv9KSKV8rOz1NkhQZn6CU4X9T57OGVHh3yuNh27YWfPaBFn7+kSRDhmnItm3N/+R9dR40TP2v+btM01Ut18KJm7VzlgwZslX+DRh2Ze3S1oytah7V3IPJAAAAAADwDpRitYTpcunUc0eo2znnK+vQIckwFF4vttrKsGN+/+FbLfjswz8e2bLd/zu3/MfvFRgcrDNGXV2t18Txy3PnyTRMuf/8G1TWuKI8DyUCAAAAAMC7sHyyljFNlyLi4hURG1fthZi7qPCPGWLlWzLla+VlZ1XrdXH8WkS1qLQQ8zP91Ci8kYcSAQAAAADgXZgp5uWy0g5px+oVchcVKqF5K8U1buJYlj0b1in3SGaFY9yFhdq6bIna9jrTQ6lQlj6N+ig2OFZpuWmyVHrfMJfh0tCmQxUZGOlAOgC1jW3byi2suIhH7ZNTUFTm56g7gv1d1f4fYQEA8CRKMS9VmJ+nGa+/pLW/zC5xZ8nEVm019La7FBmf4PlMeVVbaleYl1vDSVAZP9NPT/Z5UjdOv1GGbZSYNeYyXGoQ2kCju412MCGA2sK2bV04aYGWbE93OgoclDJ+ptMR4ICU5Gh9elMPijEAgM9i+aQXsi1LXz31qNbOLVmISdLeTev14QP/p5yMwx7PFZ3YsErjYhom1XASVMWpCafqw2EfakDjATKNo1/qYf5hurzt5fpw2IeqF1zP4YQAaoPcQjeFGFBH/bY9nVmiAACfxkwxL7R9xe/asXJ5medsy1JO5mEtnfqtel9yhUdzRSckKqldR+1at7pUWSdJhmEqqkEDNWzdzqO5UL7WMa31dN+nVeAuUG5RrsL8w+Ti7qAAashvYwcqJIDvMUBtl1PgVsr4GU7HAADgpFGKeaE1c2fJMM0yiyfpaDG2ataPHi/FJGngDf/Qh2PvUn5uTol8hmnK5eenIbeMZgq9FwpwBSjAFeB0DAC1XEiASyEB/NUCAAAAvoHlk14o+3B6uYXYMblHjngoTUkxiQ112cRn1bbXmTJdR3/wMQxDLVJO16jHnlGDlq0dyQUAAAAAAHA8+M+5Xig8Nk6G6ZJtlb9HQ2h0tAcTlRRVP0FD/nGXBl5/q3KPZCooLEwBwSGO5QEAAAAAADhezBTzQh36DqywEDMMQ50HDvFgorL5BwUpIi6eQgwAAAAAAPgcSjEv1LBNe7XucYZUxt5chmkqsn4DdR401IFkAAAAAAAAtQPLJ72QYRga8o+7FBFfX8t++FaF+fnFx1uceroGXneLgkLDJEm2bbOxPQAAAAAAwHGiFPNSLj8/9Rl1tU7/28Xas36t3EVFqt+0ucJi6ikvK0vzPnlfK2b+oJzD6QoMDVX7Mwcq5ZwLFF4v1unoAAAAAAAAXo9SzMsFBAWrSeeuxY+zD6frowf/TxkH9xffoTI/O1u///Ct1sz5SZeMe1L1GiU5FRcAAAAAAMAnsKeYj/nprUklCrFjbMtSfk62vn/+Sdm27VA6AAAAAAAA30Ap5kOyD6dr468LShVix9iWpYPbt2rfpg0eTgYAAAAAAOBbKMV8yMEd28otxP5s/9bNHkgDAAAAAADgu9hTzIe4/Kr22+Xy91PGgX36/YdvtX7BPBXl5ym2cbK6DD5Hrbr3kmHShQIAAAAAgLqNUsxL5GRmaOXMaVo372fl5+aoXsMkdT5rqJp3O624xGrQorUCQ0KVn5Nd7usYhqHA0DC9c/c/VFRYUDyzbPf6tdq1drXa9OyjIbfdJdN0eeR9AQAAAAAAeCNKMS9waPdOfTLuPuVmZhZvkp+Vdkjbli9V6559NPSPEssvIEDdzjlf8z95v8zXMQxDrXv20fRXnldRQX6JDfePlWPr5s9RYuu2OuXs4TX/xgAAAAAAALwU6+gcZluWvnryEeUeOVJmibV+/lwt+e6r4uOnX3CxOvYfJEky/pjtdeyfjTueokZtOygvK6vCO1Au+f5r7lAJAAAAAADqNGaKOWzb8qU6vG9vBSNsLfn+K3U753yZpkuGaWrQjber81lDtWr2dGWmHlRIRKTandFPjdp11IzXXpTpcslyu8t9xYwD+5SXdUTB4RHV/4YAH5S9YIHS3n5HOYsXS4ahkO7dFXPVVQrtfprT0QAAAAAANYRSzGG71q6qtMTKPpyuzAMHFJXQoPhY/WYtVL9Zi1Jjq7qJPpvtA0elvvaaDj79jORySX98HWb9/LOyfvpJ9cfcp5irrnI4IQAAAACgJtCMOM0wqnVccscuFRZshmEoLrmpgkLDqnZdoBbLXbbsaCEmFRdif/58/8THlbt6tQPJAAAAAAA1jVLMYUltO1RYYklSWEw9RcTFVen1mqd0V0RcfLkzwWzb1qnnXXjcOYHaKO2994/OECuPy6X0Dz70XCAAAAAAgMdQijksudMpik5sWOFyxm7Dju4nVhWmy6UR/3pEIRFRfxwxio9LUvcLLlbbXmeeTGSg1sj9fWnJGWJ/5XYrd+lSzwUCAAAAAHgMe4o5zDBNXfB/D+rjh8coOyNd+uOukIZpyrYstT2jn7oNPe+4XjMmsZGufXaS1syZpQ2LflFBXp7ikpuqy1lDy9yHDKizXJV/CzT8+DYJAAAAALURP+15gegGDXX10y9p1ezpWjdvjvJzslWvUZI6DxyiJl26yajqvmN/EhAcoi6Dh6nL4GE1kBioHcL79T26hLK82WKmqbB+/TyaCQAAAADgGZRiXiIoLEwp51yglHMucDpKrVTktjRj7QF9v3KvMnML1SwuVJee1lit6oc7HQ0Oih41SukffCjbsopnaRYzDBl+foq+5GJnwgEAAAAAalSN7Sn22GOPqWfPngoJCVFUVFSZY3bs2KFhw4YpJCRE8fHxuueee1RUVFRTkVBHpWbla/h/f9FN7y3RlBV79fOGg3p3wXYN+s8c/Xvaetl/LUPgtfLWr9e+xyZo5y23as+Yfylr3ryjhdYJCkhOVsP/Pi8jwF/6875+pikjMFCNXnpJ/omJ1ZAcAAAAAOBtamymWEFBgUaOHKkePXrojTfeKHXe7XZr2LBhSkhI0Pz587V3715deeWV8vf314QJE2oqVrXJPZKpVbNnaOvvi+UuKlKDlm3U+awhik7gB2hvYtu2bpq8RBsOZEmS3H8UYG7r6D9fmLVJjeuF6KKUJMcyonK2bWv/hIlKnzz56N0i3W7J5VLGl18q5LTT1Oill+QKCz2h1w7v21ctZszQ4c8+U/aiXyVDCj29h6IuHCG/evWq+Z0AAAAAALxFjZVi48aNkyS9/fbbZZ7/8ccftWbNGs2YMUP169dXly5d9Oijj+ree+/Vww8/rICAgJqKdtL2blyvzyc8qPzcnOIlV3s3rtfS77/SWX+/TR37D/JonrysLB1JS1VQaJjC68V69NrebvmuDP22Pb3c84akl2Zt0shujU5o7zZ4Rtrb7xwtxKT/7f/1xz9zfvtNe//1LzV6/rkTfn2/uDjF3nyzYm+++WSjAgAAAAB8RI0tn6zMggUL1LFjR9WvX7/42ODBg5WZmanVq1c7FatSedlZ+nzCgyrIyy2xB5FtWbJtWz++8rx2r1/rkSyZBw/ou+ee1Es3jNK79/xDr95ytd6/f7S2r1jmkev7glnrDshlll922ZK2HcrRrvRcz4XCcbELC3Xo9dfKH2BZOjJ9ugp27PBcKKAK5s6dq8svv1w9evTQ7t27JUmTJ0/WL7/84nAyAAAAAJKDpdi+fftKFGKSih/v27ev3Ofl5+crMzOzxIcnrfl5pvJzc8rdx8gwTS357ssaz5FxYL/e+9ed2rDwlxJZ9m/eqM8mPKANi+bVeAZfUOi2VJX5X/lFJ74vFWpW3rp1ch9Kq3Rc1py5HkgDVM3nn3+uwYMHKzg4WL///rvy8/MlSRkZGT6xRQAAAABQFxxXKXbffffJMIwKP9atW1dTWSVJEydOVGRkZPFHUpJn94Latnxp6bvU/YltWdq2YmmN5/j5vTeVl3WkVDln27Zk2/px0vMqKihQYX6eMlMPqCA3p8YzeaOODSNVZFW8kX54oJ+SYoI9lAjHyy4srHyQYcguKKj5MEAVjR8/XpMmTdJrr70mf3//4uO9evXS0qU1/2cEAAAAgMod155id911l66++uoKxzRr1qxKr5WQkKBff/21xLH9+/cXnyvPmDFjNHr06OLHmZmZHi3GrCrc6c5y1+yso5zMDG1avKDCu+7l52Trs8fGau/GDbLcRTIMQ81TuqvnyMsUl9y0RvN5k4Ht6isuPFCHsvJVVjdmGtKo0xsr0M/l+XCoksBmzSQ/P6miO9NaloLatfNcKKAS69evV58+fUodj4yM1OHDhz0fCAAAAEApx1WKxcXFKS4urlou3KNHDz322GM6cOCA4uPjJUnTp09XRESE2lXww21gYKACAwOrJcOJaNCyjXasWl7h8snElq1rNEPmwQMVFmLH7F6/tnhWm23b2rzkV21btlQjH5ygxFZtajSjt/B3mZp0eVdd/vqvKnBbxXedNP74vy5JUfrngFaOZkTFXFFRijznHGV8++3/Ntn/M9NUQOPGCul+mufDAeVISEjQpk2b1KRJkxLHf/nllyr/xyMAAAAANavG9hTbsWOHli1bph07dsjtdmvZsmVatmyZsrKyJEmDBg1Su3btdMUVV2j58uWaNm2axo4dq1tvvdXR0qsynQYOrvAuhbZlqevQ82o0Q2BISNUG/mWZp21ZcruLNPXFp48us6wjuiXHaModZ+iSU5MUHugnl2GoSWyoxg5rpw9uOF3BAcwS83b177tXAU2aSOZfvmW5XDJDQtTw2f9w91B4lRtuuEF33HGHFi1aJMMwtGfPHr3//vu6++67dTN3OQUAAAC8wnHNFDseDz74oN55553ix6eccookadasWerbt69cLpe+++473XzzzerRo4dCQ0N11VVX6ZFHHqmpSNUiPCZWQ2+7W98//5QkQ7Z1dOaKYZqyLUvdhp2v5indazRDVEKiYhs3UerO7RXub1YW27J0eN9e7Vq7SkntOtZQQu/TNDZUj13QUY9dUHfec23iiopSk48/UvrkyUr/8CMVHTggMzRUkeefr5hrrlFAo4ZORwRKuO+++2RZlgYMGKCcnBz16dNHgYGBuvvuu3Xbbbc5HQ8AAACAarAUe/vtt/X2229XOCY5OVlTpkypqQg1pnWPMxTdoKGWTvlam5culuUuUoMWrdV1yLlqekpKjc9YMQxDvS+5Ql89+egJv0ba7p11qhSD73OFhSn25psVe/PNsi1Lxl9njQFexDAM3X///brnnnu0adMmZWVlqV27dgoLC3M6GgAAAIA/1FgpVtvFN2mms2+507HrN+/WXWffcqdmvvGyCvPzZLpcsi37j2WRlc8e8w/ibovwXRRi8HYZGRlyu92KiYkpsU9mWlqa/Pz8FBER4WA6AAAAABKlmE9rf+YAtezeU+sXzFXG/v0KDA1Vi5TT9dGD9ygnM6Pc55l+fmp6SooHkwJA3XLJJZdo+PDhuuWWW0oc/+STT/TNN9/45CxpAAAAoLahFPNxAUHB6thvUIljp194qX56c1K5zznl7OEKDguv6WiopaycHGUvXCgrO1sBTZoqqEN7NrkH/mLRokV65plnSh3v27ev7r//fgcSAQAAAPgr1iDVQl0GDVPPiy6TYZoyDFOmy1W83KzTwLPVZ9TVzgaET7JtW6mTJmlD7zO065Zbteee/9O2kSO19bzzlbtqtdPxAK+Sn5+voqKiUscLCwuVm5t7wq/7+OOPyzAM/fOf/zyJdAAAAAAkZorVSoZhqMeIS9Wx3yCtmTtLRw4dVEhElNr27quohAZOx4OPOvjMf3TotddKHc/ftEnbr7hCTT7+SEGtWjmQDPA+p512ml599VX997//LXF80qRJ6tat2wm95uLFi/XKK6+oU6dO1RERgBezbVu5hW6nY5Qrp6CozM+9TbC/i9nsAIAKUYrVYmEx9XTaeRc6HQO1QOG+fTr0xhtln7Qs2QUFSv3vf9XoLwUAUFeNHz9eAwcO1PLlyzVgwABJ0syZM7V48WL9+OOPx/16WVlZuuyyy/Taa69p/Pjx1R0XgBexbVsXTlqgJdvTnY5SJSnjZzodoVwpydH69KYeFGMAgHKxfBJApTK/+67iAW63jsz8Se7MTM8EArxcr169tGDBAiUlJemTTz7Rt99+qxYtWmjFihU644wzjvv1br31Vg0bNkwDBw6sdGx+fr4yMzNLfADwHbmFbp8pxLzdb9vTvXrGHQDAecwUA1CpooOpkmlKllX+IMuSOz1drogIzwUDvFiXLl30/vvvn/TrfPTRR1q6dKkWL15cpfETJ07UuHHjTvq6AJz329iBCglwOR3D5+QUuJUyfobTMQAAPoBSDECl/OLjKi7EJMk05YqJ8UwgwAdYlqVNmzbpwIEDsv7y9dOnT58qvcbOnTt1xx13aPr06QoKCqrSc8aMGaPRo0cXP87MzFRSUlLVgwPwGiEBLoUE8Nd1AABqCn/KAqhUxDnDdeDpZ8of4HIpfOAAucLDPRcK8GILFy7UqFGjtH37dtm2XeKcYRhyu6u2nGfJkiU6cOCAunbtWnzM7XZrzpw5euGFF5Sfny+Xq+QsksDAQAUGBp78mwAAAABqOUoxAJXyrx+v2JtuVOpLL5c+aZoyAgMVd/vtJQ7n/P67Ut94Q/krV8kICFD44EGKveEGuSIjPZQacM5NN92klJQUff/992rQoMEJb/I8YMAArVy5ssSxa665Rm3atNG9995bqhADAAAAUHWUYgCqJPa222SGhSv15ZdlHTlSfDyofXs1ePQRBTZvLunoXbP2P/aY0t8ruZdS2utvKO3td9T4jdcV2r27R7MDnrZx40Z99tlnatGixUm9Tnh4uDp06FDiWGhoqOrVq1fqOAAAAIDjQykGoEoMw1C9a69R9GWjlPPrr7KysxXQtKmCWrcuMS7jiy9KFWLFioq049rr1HLeL/KLiqr50IBDunfvrk2bNp10KQYAAACg5lCKATguZmCgws44o9zzB//7QsUv4HbrwJNPKXHCY9WcDPAet912m+666y7t27dPHTt2lL+/f4nznTp1OuHXnj179kmmAwAAACBRigGoRu7MTBXt21fpuCOzfvJAGsA5I0aMkCRde+21xccMw5Bt28e10T4AAACAmkMpBqD6WFaVhtl5+TUcBHDW1q1bnY4AAAAAoBKUYgCqjRkZKSMoSHZeXoXj/OLiPJQIcEZycrLTEQAAAABUglIMQLUxDEORw8/R4U8/q3BcvRuu91AiwFlr1qzRjh07VFBQUOL4ueee61AiAAAAAMdQigGoVvUfeEBHZv8s98GDZZ4PbNlSUeed5+FUgGdt2bJFF1xwgVauXFm8l5h0tDiWxJ5iAAAAgBcwnQ4AoHYxAwLU/MdpCjvzTMn807cY01TEOcPU5KMPZQQEOBcQ8IA77rhDTZs21YEDBxQSEqLVq1drzpw5SklJ4e6RAAAAgJdgphiAaucKDlbSK5PkPnJEeStXyrZtBbdvL1dUlNPRAI9YsGCBfvrpJ8XGxso0TZmmqd69e2vixIm6/fbb9fvvvzsdEQAAAKjzKMUA1BhXeLhCe/Z0OgbgcW63W+Hh4ZKk2NhY7dmzR61bt1ZycrLWr1/vcDoAAAAAEqUYAADVrkOHDlq+fLmaNm2q7t2768knn1RAQIBeffVVNWvWzOl4AAAAAEQpBgBAtRs7dqyys7MlSY888ojOOeccnXHGGapXr54++ugjh9MBAAAAkCjFAACodoMHDy7+vEWLFlq3bp3S0tIUHR1dfAdKADhetm0rt5C711Ymp6CozM9RsWB/F39GAahzKMUAAKhm1157rZ577rnifcUkKSYmRtnZ2brtttv05ptvOpgOgC+ybVsXTlqgJdvTnY7iU1LGz3Q6gs9ISY7Wpzf1oBgDUKeYTgcAAKC2eeedd5Sbm1vqeG5urt59910HEgHwdbmFbgox1KjftqczExFAncNMMQAAqklmZqZs25Zt2zpy5IiCgoKKz7ndbk2ZMkXx8fEOJgRQG/w2dqBCAlxOx0AtkVPgVsr4GU7HAABHUIoBAFBNoqKiZBiGDMNQq1atSp03DEPjxo1zIBmA2iQkwKWQAP4aDwDAyeJPUwAAqsmsWbNk27b69++vzz//XDExMcXnAgIClJycrMTERAcTAgAAADiGUgzwYTvTcpSZV6hGUSGKDPF3Og5Q55155pmSpK1bt6px48ZsVgwAAAB4MUoxwAf9tG6//v3jBq3ZkylJcpmGhnVsoPuGtFFiVLDD6QCsXbtWO3fuVO/evSVJL774ol577TW1a9dOL774oqKjox1OCAAAAIC7T1agsCBfm5f8qrVzZ2nfpg2ybdvpSIC+/H2Xrnv7N63dm1l8zG3Z+n7lXp334jztOVz6jncAPOuee+5RZubRr9GVK1dq9OjRGjp0qLZu3arRo0c7nA4AAACAxEyxMtm2rcXffK5FX36sgtz/FQyxjZto0I23qUGL1g6mQ12WnV+k+79cJVuS/tLRui1badkFemraev3n4i4OpANwzNatW9WuXTtJ0ueff67hw4drwoQJWrp0qYYOHepwOgAAAAASM8XKNP/TDzT3g7dLFGKSdGjnDn0ybowObNviUDLUdd+v2KucAne5592WrW9X7FFmXqEHUwH4q4CAAOXk5EiSZsyYoUGDBkmSYmJiimeQAQAAAHAWM8X+IvtwuhZ9+XGZ52zbkruoSPM+nqwL7n3Io7kst1ublyzSqtkzlJV2SBGxcWrf9yw165oi03Qd12sVFuTr8N49Ml0uRSc2PO7nwznbDmXL3zRUaJW/lLfIbWtfRp4igth4H3BK7969NXr0aPXq1Uu//vqrPv746J8rGzZsUKNGjRxOBwAAAECiFCtl3bw5UgV7h9mWpS2//6aczAyFRER6JFNBXq6+mPiwdq9bLcM0ZVuWDm7fqk2LF6pxx846//8elH9AYKWvU5ifp/mffqAVM6YWz4ILjY7RqcNHqOuQ4TJMJg56u4hgf7mrsLddeBBf2oCTXnjhBd1yyy367LPP9PLLL6thw4aSpKlTp+rss892OB0AAAAAiVKslOyMdBmmS7a7qPxBtq1cD5ZiM994WXs2rD16acsq8c+dq1Zq9juv6awb/lHhaxQVFurzCQ9pz4a1xc+VpOz0NM1+9zWl792lgdffWkPvANVlaIcGemLqunLPm4bUJSlKDSK5AyXgpMaNG+u7774rdfw///mPA2kAAAAAlIWpQX8RFhUt2yp/zyZJkmEoJDLKI3myD6dr7S+zSxRZf2bbllbNmq7cIxXvUbN69gztXre63NdZPn2q9mwov2yBd2hcL0QXdmskwyh9ztDRvffvPKuVp2MBkErsFZaZmVnhBwAAAADnUYr9RZteZ6rMxuEPhmmqebfTFBwe4ZE8O9esLLfIOsZyu7V73ZoKxyyfPqWS9+XSipnTTigjPOuxCzpqZLckGTo6M8zPPPr7Ghropxcu7aozWsY5GxCoo6Kjo3XgwAFJUlRUlKKjo0t9HDsOAAAAwHksn/yLkMgo9RhxqeZ/+n6pc4ZpyuXvr14XX+GxPJUVYlUdd3jfnkr2SnMrfe/u48oGZwT4mXrywk66rX8L/bBqn47kF6lpbIiGdGigIH9umgA45aefflJMTIwkadasWQ6nAQAAAFAZSrEynD7iEgUEB2vB5x8qPzu7+Hhs4yYafOPtimvcxGNZGrRoXfkgw1BCi4qXzAWEhKowP7+ClzAUHBZ+vPHgoKSYEN3Qp5nTMQD84cwzzyzzcwDA8bNtW7mFlWxpgmqRU1BU5ueoecH+LhkVrOYBUPMoxcpgGIa6DTtfnc8aqp1rVqogN0dRCYmq37S5x7NEJTRQ0y4p2rZiaZmzwQzTVIuU0xVeL7bC12l3Rj/99t2XFexNZqt1rz7VkhkA6qIVK1ZUeWynTp1qMAkA+DbbtnXhpAVasj3d6Sh1Tsr4mU5HqFNSkqP16U09KMYAB1GKVcAvIEBNu3RzOoYG33yHPnroXh3ev7fkEkjDUHSDhhp4Q+V3jTzl7OFaMfMHFeTmlirGDNNUTGIjtTytZ3VHB4A6o0uXLjIMQ7ZtV/qXW7eb2Q8AUJ7cQjeFGOqE37anK7fQrZAAfiwHnMJXnw8IjYrW5ROf1cqZP2jlrB+VffiwwqJj1LH/YHUcMEgBQcGVvkZ4vVhd/NDj+vrfjynjwD4ZpkuSLduy1KBlG507eoz8/P1r/s0AQC21devW4s9///133X333brnnnvUo0cPSdKCBQv09NNP68knn3QqIgD4nN/GDlRIAHumonbJKXArZfwMp2MAEKWYzwgMCVHK8L8pZfjfTvg14pKb6rrnXtX2Fb9r76YNMl0uJXc6RQnNW1ZjUgCom5KTk4s/HzlypJ5//nkNHTq0+FinTp2UlJSkBx54QOeff74DCQHA94QEuJhFAwCoMfwJU8cYpqkmXbqpiRcsCwWA2mrlypVq2rRpqeNNmzbVmjVrHEgEAAAA4K8oxQAAqGZt27bVxIkT9frrrysgIECSVFBQoIkTJ6pt27YOpwMAADWhqndNPd47fnKXSqDmUIoBAFDNJk2apOHDh6tRo0bFd5pcsWKFDMPQt99+63A6AABQ3U70rqlVueMnd6kEag6lGAAA1ey0007Tli1b9P7772vdunWSpIsvvlijRo1SaGiow+kAAEB1q8m7pnKXSqDm8FUFAEANCA0N1d///nenYwAAAA+rrrumcpdKoOZRigEAAAAAUE24ayrgO0ynAwAAAAAAAACeRikGAAAAAACAOodSDACAauR2uzVnzhwdPnzY6SgAAAAAKkApBgBANXK5XBo0aJDS02vmDlQAAAAAqge7/3khy3Ir69AhyTAUHlNPhkl3CQC+pEOHDtqyZYuaNm3qdBQAAODFbNtWbqG7zHM5BUVlfv5Xwf4uGYZR7dmAuoBSzItYbrd+++5LLZ36jbLT0yRJEXHxOnX4CHUeNJRvdADgI8aPH6+7775bjz76qLp166bQ0NAS5yMiIhxKBgAAvIVt27pw0gIt2V757PKU8TPLP5ccrU9v6sHPi8AJoBTzErZl6bvnntDGRQsk2cXHMw8e0Mw3X9bBHds08Ppb+EYHAD5g6NChkqRzzz23xPdt27ZlGIbc7rL/izAAAKg7cgvdVSrEKvPb9nTlFroVEsCP98Dx4qvGS2xYNF8bF80v9/yKGVPVplcfJbXr6MFUlbNtW7vWrtLy6VOVumObAoJD1KbnGWrfd6ACQ0IrfwEAqIVmzZrldAQAAOBDfhs7UCEBruN6Tk6BWynjZ9RQIqBuoBTzEsunT5FhmrItq8zzhunS8ulTvaoUs21bM998Wct/nCLDdMm2js582LtpvX79+nNd9NBExSQ2dDglAHjemWee6XQEAADgQ0ICXMz0AhzADu5e4tCuneUWYpJkW24d2rndg4kqt2LGVC3/cYokFRdiRx/Yysk8rC+feFiWxRIhoATLkg6sk/Yul/KPOJ0GNWju3Lm6/PLL1bNnT+3evVuSNHnyZP3yyy8OJwMAAAAgUYp5jYDg4MrHhIR4IEnV2Latxd9+Uf55y9LhfXu1bdlSD6YCvJhtS7+9JT3XUXqpu/RKH+mpFtJ3d0q5h51Oh2r2+eefa/DgwQoODtbSpUuVn58vScrIyNCECRMcTgcAAABAohTzGm16nSnDrPi3o03PPh5KU7ms9EPK2L+vwjGmy6Udq5Z7KBHg5X4aL333Tylj1/+OFeVJS96R3hrCrLFaZvz48Zo0aZJee+01+fv7Fx/v1auXli7lPxYAAAAA3oBSzEt0GTRUgcEhZRZjhmkqLKae2vUZ4ECyctiVDznOgUDtlbpRmvvvss/ZbungOmnhy57NhBq1fv169elT+j9kREZG6vDhw54PBAAAAKAUSjEvERoVrZEPTlBYdIyko7OsTNfRu49EJTTQRQ9NVKAXLZ8Mi45RWExshWMst1sNW7f3UCLAiy19VzIruJuQbUm/veG5PKhxCQkJ2rRpU6njv/zyi5o1a+ZAIgAAAAB/xe0tvEh8k2a6/r9vaMvSxdq9fo0Mw1Dj9p2U3OmUSpdWepphmuo27Dz9PLnsH+QN01RoVLSap3T3cDLAC6VvPbrBfkWO7JPchZLLv+Jx8Ak33HCD7rjjDr355psyDEN79uzRggULdPfdd+uBBx5wOh4AAAAAUYp5HdPlUotTT1eLU093Okqlug49V/s2b9T6+XNkmGbx3TMN01RAcLAuuPeh4tluQJ0WFHV0pphVVP4YvyDJ5FtybXHffffJsiwNGDBAOTk56tOnjwIDA3X33XfrtttuczoeAAAAAFGK4SSYpkvDbrtbrU/vrWXTp+jQzu3yDwpWm15nqvNZQ4qXggJ1Xoe/Sb9PLv+86Sd1/P/27jzMqfLu//jnZJLJZNh3GFlkE0VFES0iVsGi4G6tC7UUESuVqr/HB5VKbaHUWmul+li1KLUCrba4W7VFxQV3UJERZRWLggybgjPAZDLJ5P79cZiNSTKTmSQny/t1XblIzrlz8mUGwuTDfX/viyXLSl1NSCrLsnTLLbfopptu0saNG7Vv3z4NHjxYrVu3dro0AAAAAAcQiqFFLJdLA4efpIHDT3K6FCB99R0l9R4hbXnfbqxfl5Un5eVLI//HicqQJJMnT9Y999yjNm3aaPDgwTXH9+/fr+uuu04PP/ywg9UBAAAAkGi0n3ZCwaDWvr1U/5rzWz1x6y16bf6D2rX5C6fLAtASLpd02WPSgDH2Yyuvdqlkm27SxOekzgOdqw8Jt3DhQvn9/gbH/X6//va3vzlQEQAAAICDMVMsjez95ms9cest2rNtqyzLkjFGW9Z8opUvPq8TfzBeIy+Z4HSJAJqroJ30o8elneukz16SQgGp+xBp4Omxd6ZERikrK5MxRsYY7d27VwUFBTXnqqqq9J///Eddu3Z1sEIAAAAA1QjF0oQxRs/cMVvf7thW81hSTfP6ZU8tUofuRRp8ymmO1QggAboebt+Qldq3by/LsmRZlg477LAG5y3L0uzZsx2oDAAAAMDBCMXSxJbVq7Try03RB1iW3v/XEzriu6Nl0YwbANLS66+/LmOMTjvtND311FPq2LF2w5H8/Hz16dNHRUVFDlYIAAAAoBqhWJrYVLxCrrw8hauqIg8wRt98tUX7v93Dro4AkKZOPfVUSdKmTZvUu3dv/hMDAAAASGM02k8TUcOwBuNCSa4EANBSa9eu1TvvvFPz+P7779exxx6ryy67THv27HGwMgAAAADVCMXSRPf+AxsNxgrbtlPrDp1SVBEAoLluuukmlZWVSZI++eQTTZs2TWeddZY2bdqkadOmOVwdAAAAAIlQLG0MHD5SvjZtoy61sSxLx447R648dqkDgHS3adMmDR48WJL01FNP6dxzz9Xvfvc73X///Vq8eLHD1QEAAACQCMXShtvj0Xk33qI8j0eWq07wdSAk63XUMfrO+Rc5VB0AIB75+fkqLy+XJL3yyis644wzJEkdO3asmUEGAAAAwFk02k8jPQ8/UhP/cK9W/Oc5rX/3DQUrAurQo0jHjj1HR40+XXluvl0AkAlOPvlkTZs2TSNHjtT777+vxx57TJK0YcMG9ezZ0+HqAAAAAEiEYmmnQ49DNObKqRpz5dSEX3vL6lVa8Z/ntHXtp5LLpT5HH6thZ5+vHgMGJfy1ACCX3XffffrZz36mJ598UnPnztUhhxwiSVq8eLHGjRvncHUAAAAAJEKxnPH+v57UW/9YIMvlkgmHJUkblr2j9e++qdOnXKsh3+NDGgAkSu/evfXCCy80OH733Xc7UA0AAACASAjFcsDWdWv01j8WSFJNIGbft3e7XPKX+3XIoCPVqWcvJ8oDgKyzefPmmOd79+6dokoAAAAAREMolgM+evE5Wa68mhDsYJZlqfjlf+t7k69OcWUAkJ0OPfTQqLsJS1JVVeT3YwAAAACpQyiWA7auWxM1EJPs2WNb165OYUUAkN1WrlxZ73EwGNTKlSt111136bbbbnOoKgAAAAB1EYrlAJfL1fgYd14KKgGA3HDMMcc0OHb88cerqKhId955py688EIHqgIAAABQV+NpCTJe36HHy4oRjFkul/oeOyyFFQFAbho0aJA++OADp8sAAAAAIGaK5YSh487VJ6+9HPmkZcmVl6chY85MbVEAkMXKysrqPTbGaNu2bfr1r3+tgQMHOlQVAAAAgLoIxXJA5159dPb/m67/3HunjDE1O1Balkt5HrfOv/GXatOps8NVAkD2aN++fYNG+8YY9erVS4sWLXKoKgAAAAB1EYrliEEjTlaPAYdp1asvasuaT2RZLvU5+lgd/b2xat2ho9PlAUBWef311+s9drlc6tKliwYMGCC3m396AQAAgHTAT+Y5pG2Xrjp5/ESnywCArHfqqac6XQIAAACARhCKAQCQAM8991yTx5533nlJrAQAAABAUxCKAQCQABdccEGTxlmWpaqqquQWAwAAAKBRhGIAACRA+MAmJgAAAAAyg8vpAgAAAAAAAIBUIxQDACBBXnvtNQ0ePFhlZWUNzpWWlurII4/Um2++6UBlAAAAAA5GKAYAQIL83//9n6666iq1bdu2wbl27drppz/9qe6++24HKgMAAABwMEIxAAAS5OOPP9a4ceOinj/jjDO0YsWKFFYEAAAAIBpCMQAAEmTHjh3yeDxRz7vdbu3atSuFFQEAAACIhlAMAIAEOeSQQ/Tpp59GPb9q1Sr16NEjhRUBAAAAiMbtdAEAAGSLs846S7/61a80btw4FRQU1Dvn9/s1a9YsnXPOOQ5VByAbGWPkD1Y5XUZClVeGIt7PFj5PnizLcroMAIAIxQAASJhf/vKXevrpp3XYYYfp2muv1aBBgyRJ69at0/3336+qqirdcsstDlcJIFsYY3TRA+9pxZd7nC4laY7/7atOl5Bwx/fpoCeuHkEwBgBpgFAMAIAE6datm959911NnTpVM2bMkDFGkmRZlsaOHav7779f3bp1c7hKANnCH6zK6kAsW3345R75g1UqzOejGAA4jXdiAGiJynJp7fPSt19Kvg7SEedJbQg9clmfPn30n//8R3v27NHGjRtljNHAgQPVoUMHp0sDkMU+/OUYFebnOV0GYiivrNLxv33F6TIAAHUQigFAc338mPTvaVLlPsnllkyVtPjn0olTpdN/I7n4cJLLOnTooBNOOMHpMgDkiML8PGYeAQAQJ/7lBIDmWPdv6ZkptY/D1Y2Aq6T37pcsl3TGrY6UBgAAAABonMvpAgAg4xgjvfobSdEa5Bpp2Z+lfbtSWRUAAAAAIA6EYgAQr683SLvWSTLRx4SrpHXPp6wkAAAAAEB8CMUAIF7+bxsf43JJFaVJLwUAAAAA0DyEYgAQr/a9FX3p5AHhKqnDoamoBllu7ty5GjJkiNq2bau2bdtqxIgRWrx4sdNlAQAAABmPUAwA4tW2hzTwdMmKtrukJRW0lwadlcqqkKV69uyp3//+91qxYoU+/PBDnXbaaTr//PO1evVqp0sDAAAAMhq7TwJAc4y9XdpymhTYJ5mqOidckox03p8kt9ep6pBFzj333HqPb7vtNs2dO1fLli3TkUce2fQL7d8vX2VFzX0FD/wIUGUajIvK5ZJ8vvpjK0ORr3vw2PJye5OKSCxLKixs3li/XwqHo9fcqlXzxlZUSFVViRlbWGjXLUmBgBQKJWasz2d/nSWpslIKBhMztqBAysuLf2wwaI+PxuuV3O74x4ZC9tcimvx8yeOJf2xVlf29i8bjscfHOzYctv+sNXds3b9TgYCUf+DrYEzDv2sxxqq8PHoNeXn2906SMUb+b8uaNLbmtaOJ9B7R1LE58B5RXuf7Vb6ntPb7xXuELUnvEb5WPlnVf+eS+R4R7d/Zg8fW/Xsf6d/QeN5P6v5xNSb23zm32/66VY9t4ntETW2JGMt7RPPG8h5hi+c9Itbv+2Amw5WWlhpJprS01OlSAOSaXZ8Z84/xxsxqZ8ystvbtgVOM+eyV2M958RfG/O0CY/55mTHF/zSm0p+ykhOJ99/UC4VC5p///KfJz883q1evjjimoqLClJaW1ty2bNlif5/sHw8b3ELjzjR9fv6C6fPzF8z+QNCYwsKI44xkzKmn1n+xzp2jjz3++Ppj+/SJPnbw4PpjBw+OPrZPn/pjjz8++tjOneuPPfXU6GMLC+uPPeus6GMP/vHpootij923r3bs5ZfHHrtzZ+3Yn/0s9thNm2rH3nhj7LGfflo7dtas2GPff7927B/+EHvs66/Xjr3vvthjX3ihduz8+bHHPv547djHH489dv782rEvvBB77H331Y59/fXYY//wh9qx778fe+ysWbVjP/009tgbb6wdu2lTzLGVP726Zuj+r0pijg3++Me11923L3YNF11kjDEmHA6bC//8Tsyxr/Y7vuY9os/PXzD7Pd6oY9/rdVS9sV/72kYdW9x9YL2xW9p2jTp2fafe9cau79Q76tgtbbvWG1vcfWDUsV/72tYb+16vo6KO3e/x1hv7ar8Y7z1SvbEvDBoZc+zh//tkzdgnjvpezLFDr3u0ZuzCoWfHHDvy6r/WjH3gOxfGHDtm8v01Y+8e+cOYY8+deFfN2NtGXRFz7KU//F3N2F+efnXMsZMumlUz9oazro85dur5N9eMnXr+zTHH3vvjX5hwOJy17xE1fzcbeY8wl18e93tEjVhjzzqr/lh+jrDxc4TNoZ8jShcsME39nMJMMQBors4DpB/+U9q3UyrdIvk6Sh37Rh//zj3Skln2/7KEqyTLJa17QVp6uzTxOalDn9TVjozyySefaMSIEaqoqFDr1q31zDPPaPDgwRHH3n777Zo9e3aKKwSQifzBKq34co/TZQBJ9cU35fIHq1SYz0dfAA1ZxhjjdBEtUVZWpnbt2qm0tFRt27Z1upy4hCortWHZ21r3zpuq2L9PHQ/pqSHfG6eiww53ujQAibb2eemxCZHPufKkDv2ka5bb9zNEJr//ZprKykpt3rxZpaWlevLJJ/XQQw/pjTfeiBiMBQIBBeosDSkrK1OvXr207YvNGn3P+5KkFb8aU/PhoLzKaPDv3pAkrfnNWBUGYywribDsobwypGG3vtLguix7qINlDzaWTzZpbL2/U7PHqbCN/WetPBDUsBnP2ccP/F2LNlbGNGlpVHllSINnviRfZYXe+vloFeZH+DeIpVGRx/IeEf/YFL9HlFdW6bt3vK5gnlurbjvb/vcpie8R5WX7Iv97ePDYOn/vI/4bGsf7SXlYGnzbUknSmtlnqDAU42vG8snIY3mPsO9n2XtEWSCgdp06NelzCnG5Q/bt/kaP3/oL7SnZav+hNUbbP/9Mq5e+omPHnqPTrviprOo/zAAy39t32zPDTIR/SMNV0jefSRtfkQ4bm/rakPby8/M1YMAASdKwYcP0wQcf6J577tGDDz7YYKzX65W3+ofeulq1kj+/oOZ+TS+bylCDcU3WqpXkCUW+7sHq/gDamHjG1v2BOZFj6/6An8ixXm/th5JEjs3Pr/0Q5dRYj6f2w2Qix7rdtT8EJ3JsXl7T/7zHM9blatnYun+n6n7/Lavh37UYY+P5u+zPL1Bhh7ZNm0mT367J141vbBz/uRLX2DZJGts6SWPj+HiWiWNbNfF9ON6xhRHehyvr/P2oluT3iCb9e1j3731j/4Y29n5S99/weP7ex/kekRZj+TnCxs8RTRsbK2Q8CLtPOsAYo3/N+a2+3b6t+oD9S9j+xhW/9IKKX3rBqfIAJFpFqbR1ReRArJrLLX22JHU1IaOFw+F6s8EAAAAAxI+ZYg4o2bBO2z//LOaYD557SseecbYsF7klkPGqmrj7SVWM6cLIWTNmzNCZZ56p3r17a+/evfrHP/6hpUuX6qWXXnK6NAAAACCjEYo54MtVH8ly5dXMDItk7zdf69sd29ShxyEprAzIIcbYfb6WPyCVrJTyPNKgs6QTfyb1GJLY1yrsKLU9RCrbGn1MOCQdclxiXxdZYefOnZo4caK2bdumdu3aaciQIXrppZd0+umnO10aAAAAkNEIxRxgwmG7jVgj48JVMZZaAWg+Y6QX/ldaMV+y8iRTJQUlffKEtOpx6eL50uDzE/d6liUNv1paMlOR/+a7pPxC6eiLE/eayBp//etfnS4BAAAAyEqszXNA9wGDFG6k8Zu3VSu169Y9RRUBOebTp+xATLIDsWrhkN3366mfSHt3JPY1T5xap4l+nbdel1vKc0uX/l3Kj6PZKAAAAACgRZIWit1222066aSTVFhYqPbt20ccY1lWg9uiRYuSVVLa6Dt0mNp27hq1X5hlWTr2jLPlburOCwDis+zP9k6QERk7HFv5t8S+Zp5HuvRR6dw/Sd0GS3n5kretdMwPpZ++KfU/LbGvBwAAAACIKWnLJysrK3XxxRdrxIgRMZd+zJ8/X+PGjat5HC1AyyYuV57Ov+mXenz2DFVW+GXCB5ZJWpZkjHoeebROvHC8s0UC2coYqaQ49k6QJmzvFploeW5p2OX2DQAAAADgqKSFYrNnz5YkLViwIOa49u3bq3v33Fsm2PXQfrp8zv1a+eLzWvvW66qs8Kt99yIdc/pZOvLU05TnZpYYkDSuPCnWEmbLZS9rBAAAAABkLcc/9V1zzTX6yU9+on79+unqq6/WFVdcIcuyoo4PBAIKBAI1j8vKylJRZlK06dRZp/zoCp3yoyucLgXIHZYl9f+e9NnL9fuJ1WXC9hgAAAAAQNZytNH+b37zGz3++ONasmSJfvCDH+hnP/uZ7r333pjPuf3229WuXbuaW69evVJULYCscdJ10ZdPWnlSYSd2ggQAAACALBdXKHbzzTdHbI5f97Zu3bomX+9Xv/qVRo4cqaFDh+rnP/+5pk+frjvvvDPmc2bMmKHS0tKa25YtW+L5LQCAdOhI6Zy77VljVt6Bg5Z9K2gn/fhZydvawQIBAAAAAMkW1/LJG264QZMmTYo5pl+/fs0uZvjw4br11lsVCATk9XojjvF6vVHPAUCTHX+F1O9U6cP50taPJLdXOmycdMyldjAGAAAAAMhqcYViXbp0UZcuXZJVi4qLi9WhQwdCLwCp0bGfdMatTlcBAAAAAHBA0hrtb968Wbt379bmzZtVVVWl4uJiSdKAAQPUunVrPf/889qxY4dOPPFEFRQUaMmSJfrd736nG2+8MVklAQAAAAAAAJKSGIrNnDlTCxcurHk8dOhQSdLrr7+uUaNGyePx6P7779f//u//yhijAQMG6K677tJVV12VrJIAAAAAAAAASUkMxRYsWKAFCxZEPT9u3DiNGzcuWS8PAAAAAAAARBXX7pMAAAAAAABANiAUAwAAAAAAQM4hFAMAAAAAAEDOIRQDACdUlksVpZIxTlcCAAAAADkpaY32ASBpwlXSZ0ukze9JliX1PUXqO0pyZUDO/9kS6a0/2rVLUrte0olTpe9MkfI8ztYGAAAAADmEUAxAZtmxRvrnpdK3myXXgbewt++WOg+SLlskdeznbH2xLJ8nLb5JsvJqj5VukV66Rdr0pnTpo1Ieb8sAAAAAkAoZMK0CAA7Yt1NacLZUutV+HA7ZN0navdE+V1HmXH2x7PlCenG6fd9UHXTSSBteklb+LdVVAQAAAEDOIhQDkDk+fFiq+DZCqCR7SWXZNunjRSkvq0lWLFSjb7nLH0xJKQAAAAAAQjEAmeSTJyQTjj3m0ydTU0u8dq6OHObVMNLXG2i8DwAAAAApQvMaAJkjsLeRAcbe0TEdeQolyxU71Mvz2hsHAAAAoMmMMTJ+f71j4cra/4wMl/sVDtX2dLV8Pln8zAVAhGIAMknnw6T9X0efceVyS10OT21NTTXobGn1M9HPu9zSEeemrh4AAIAsYIzRl5f9SP6VK+sdr8jLl879nSTps5Enq6Cqsuac77jj1OfRRwjGABCKAcggJ1wpffFW9PPhkHT8FamrJx5HnCu17yOVfWX3P6vnwA9kJ12X8rIAAAAymfH7GwRiklRQVanFz94Y8Tn+jz6S8ftlFRYmuzwAaY5QDEDmOOJ86YjzpLXPS4rQe2voRKnvqSkvK6a1L0jv3SttWW6X7PbaoZjLbfcPM2HJUyBdNF/qMcTpagEAADLWwHfelsvni3o+7Pfrs5Enp7AiAOmOUAxA5nC57PDo3T9Jyx+Q9u2wj7frKY24TvrOlPTqyfXqrdJbcyQrr7aBfvXU/W5HSt2OknocKx1zqVTQzrEyAQAAsoHL55OL2V8A4kAoBiCz5Lml706TTvp/UukWOwRr19sOzNLJl+/agZhUvwdadaP9bR9LZ/5B6n1i6msDAABAWjPGKBQIxBwTrLOZQLAioGA4FHO82+uljxpwEEIxAJkpzy117Ot0FdG9/xd7iWS0H05cbnsMoRgAAADqMMZo0czpKtmwNua4oOWWDr1KkjR3yo/kMbFDsaJBgzV+9h0EY0AdhGIAkAxbP4oeiEn2ua0rUlcPAAAAMkIoEGg0EJMkjwnpuk1zm3zdkvVrFAoE5CkoaEl5QFYhFAOAZHB7mzCGH0gAAAAQ3dR5j8jjbdnPjMFAheZOmZCgioDsQigGAMlw+NnSOxvr9xOry3JJR5yT2poAAACQUTzeAmZ2AUmUZp2pASBLnPATe7aYFeFt1nJJbp90/OTU1wUAAAAAkEQoBgDJ0e4Q6UdPSvmtJFmSXAcCMkvKby1NeEpqW+RwkQAAANnLGKNweXntze+vORf2++udM8Y4WCkAp7B8EgCS5dCR0v+ukT5eJH35zoFjJ0tDLpUK2jpbGwAAQBYzxujLy34k/8qVEc9/NvLkeo99xx2nPo8+ws6MQI4hFAOAZCpoKw2fYt8AAACQEsbvjxqIReL/6CMZv19WYWESqwKQbgjFAAAAAABZa+A7b8vl80U8F/b7G8waS2fGGIUCgbieEwxURLwfD7fXyyw6ZCVCMQAAAABA1nL5fHJlwQwwY4wWzZyukg1rm32NuVMmNOt5RYMGa/zsOwjGkHUIxQBkt707pLXPSRXfSh36SoefLXki/09hVgrsk1Ytkj5+TPJ/I3XsLx13uTToLMnFXisAAACZIhQItCgQa4mS9WsUCgTkKShw5PWBZCEUA5CdwlXSkpnS8rlSOCy58qRwSPK2lc79P+moH7Ts+sZIW1dIq5+RKvdJnQZIx/xQatU5IeUnRNk2af6Z0p5NsnfANNLuL6TPXpYOO1O65G+SO9/hIgEAABCvqfMekceb/IAqGKho9uwyIBMQigHITi//Slr2Z0kHttcOh+xfA3ulJ6+U8ttIh53RvGsH9kqP/Vj67+uS68DbqAlLr8yWzrpTOv6KFpefEE9cLpVuPvDgwNfBVNm/bnhReuMO6Xu/cqQ0AAAANJ/HW8CsLSABWDsDIPvs3SG9/4BqgqB6jGRZ0mu3Nv/6T06WNr1p3w+H7JsJS+Gg9ML10vrFzb92opQUS1uW2zPmIjLS+/OkoD+VVQEAAABA2iAUA5B91j5nL5mMxoSl7aukbz6P/9rbP7GXH5ooYZPlkpb+Pv7rJtoXb9u1xBIok3asSU09AAAAAJBmCMUAZB//t3YPsaaMi9faFyQrxrVNWNpWbPfzclSkWXItGQcAAAAA2YVQDED26XBobQ+xqCypfa/4rx3c3/gMLEkKlsd/7UTqfZId0MWS30rqOjg19QAAAABAmiEUA5B9jjjH3mVSVuTzVp502Dipddf4r93lCLt3WCyeQqltUfzXTqRDjpOKhkaf1Wa5pOOvlPILU1sXAAAAAKQJQjEA2cfjk865275/8KwuK0/ytpHG3ta8ax/5ffv5sQK3oT+2a3CSZUmX/E1q20N2rQfqrQ7J+p4qnfZLp6oDAAAAAMe5nS4AAJLi6Ivs2WKvzpZ2fHrgoCUNPMMOxDr1b9518wul7z8oPfZj+3HdhvtWnn3d0TNaVHrCtO8tXf2OtPIR6eN/Sv7dUoe+0vGTpcEXSHn8EwAAAJBtjDEKBQIJuVYwUBHxfku5vV5ZVpT/ZAZSiE9EALLXYWdIA0+Xdv/XbqrfrqfUplvLr3v42dIVi6U375Q2viLJ2AHcsEnSd2+QfO1b/hqJ4msvnXStfQMAAEBWM8Zo0czpKtmwNuHXnjtlQsKuVTRosMbPvoNgDI4jFAOQ3Syr+bPCYuk9XJrwpBTYZzfV93Vk5hUAAAAcFQoEkhKIJVrJ+jUKBQLyFBQ4XQpyHJ/gAKAlvK3tGwAAAJBGps57RB5veoVOwUBFQmecAS1FKAYAAAAAQJbxeAuYiQU0glAMAABEZoy9PDiWyjqbTVSWS8pr/LqeQntpMwAAAOAgQjEAANCQMdLDY6UtyxsZ55U0375/5wDJasJuV71OlCa/SDAGAAAARxGKAQCAhoLljQdikgqtgL4ouCy+a29ZZl8/v1UziwMAAABajlAMAADEduNGKb+w5depLJfmDGj5dQA0yhgjf8gfc0x5sKrOfb9kxV7+7HP7ZDHDEwCQRQjFAABAbPmFzOoCMogxRhMXT1TxruLY48IeSbdKkkY9fqosVzDm+KFdh2rhuIUEYwCArEEoBgAAAGQRf8jfaCAmSZYrqDZH3Nzk667cuVL+kF+FngTMHAUAIA0QigEAAABZauklS+Vz+1p0DX/Ir1GPj0pMQQAApBFCMQC5wRhp83vSVx9Krjyp/2lS1yOcrgoAgKTyuX3M7AIAIApCMQDZb9cG6YnLpZ1rDjQRNpIJS/1GSz/4q9Sqk9MVAgAAAABSzOV0AQCQVHt3SPPPlL5ebz82VXYgJkmb3pT+foFUFbuxMAAAAAAg+xCKAchu78+T/HukcFXDc6ZK2r5KWvdC6usCAAAAADiKUAxAdvv4n3b4FY3lklY9nrp6AAAAAABpgVAMQHar+Db2eROW9n+dklIAAAAAAOmDUAxAdmvfW5IV/bwrT+rUL2XlAAAAAADSA7tPAshux18p/eem6OfDVdLQiamrB8h0xkjB8uY9t7I88v14eAolK0bQDQAAADQRoRiA7DZ0gt1XrKQ4Qm8xSzpmvNTnJCcqAzKPMdLDY6Uty1t+rTkDmve8XidKk18kGAMAAECLEYoByG4enzTxOemVX0srH5FCfvu4r4M04hrp5Gl8uAaaKliemECsJbYss/sA5hcm9rrMQAMA5BBjjEKBQMpfNxioiHg/1dxeryz+3YcIxQDkAm9r6ew50phZ0s51dh+xbkdJ7nynKwMy140bIwdTxkh/O1/a+mHyXru5s8xi6XmC9ONnnQnGCOQAAClkjNGimdNVsmGto3XMnTLBsdcuGjRY42ffQTAGQjEAOcTbRup1gtNVANkhv1DKb9XweOX+5AZiyfLVB9Lthzjz2iwJBQCkUCgQcDwQc1rJ+jUKBQLyFBQ4XQocRigGAACSI9pssroqy5Mz8yuTbFlmL02NFDICAJBEU+c9Io+3ecGQMUahytQvwWyJYCCgh6678sB955ZvNhfLPhOPUAwAACRHtNlk0TQlRMsmBIIAAId5vAXNmi2VLkswW8LJ5ZvNxbLPxCMUAwAA6SHeEC0SY+xZV5mmMsNqpg8aAOQ0lmA6g2WfiUcoBgAAsoMx0sNjnd8hszkybcYYfdAAAAe0ZAkmmiYYqMjImW2ZgFAMAABkh2B5ZgZimYg+aACAA5q7BBNIB4RiAJBJdm+Svv7MXmbW8zuSO9/pioD0lGv9yVKFPmgAACCLEIoBQCb45nPpheulTW/WHivsJJ1ykzT8apYwwXnVvbzq9saqvu9E/6lE9CcDAABAViMUA4B0t+dL6aHvSRVl9Y+XfyO9eLPk3yON/oUztQFS9F5e1TOK6D8FAACANEQoBiA7BP3SJ09Knzwhle+WOg+Uhl0u9T018z+Iv/F7KVAmmarI59+8Uxo2SWpblNKygBqN9fKi/xQAAADSEKEYgMxXtk1acLa0+3PJckkmLO1aK61+WhpyqXTBXMmV53SVzVNZbod94SiBWLWPF0nfnZaamoBY6vbyov8UAACAJMkYo1Ag0KznBgMVEe/Hw+31ysr0yQJJQCgGIPM9/mPp2y/s+yZs/xoO2b+uelzqcnjmBkb+3VJVZewxVp5UtjU19QCNoZcXAABAPcYYLZo5XSUb1rb4WnOnTGjW83oMPFwX3XJr0oKxTA3dCMUAZLatK6SvPogxwEjL/iyddJ2U50lZWQlT0N4OvaItnZTsILBVl5SVBAAAAKDpQoFAQgKxltj22TrdO+nipF2/aNBgjZ99R8YFY4RiADLbf5c2Hhrt3yV9vUHqdmTKykoYb2vp8HOk9S9EX0JpqqSjk/cPHAAAAIDEmDrvEXm8BZLspZDNnfmVbkrWr1EoEJCnoMDpUuJCKAYgs4XDkiXJNDaukZ5c6WzUzdJnL0umMkL4Z0nDrpA69XekNAAAAABN5/EWRAyO6oZlmSTTgz1CMQCZrffwxgMvb1up82GpqScZug2WJv1beuan0jef1R7Py5eGXy19b5ZztQEAAABosWhhGZKLUAxAZjv0u3bg9c3nkZdQWi7p+MmSJ8P/gek5TLr2A2nzMmnXOim/tTRwjOTr4HRlAAAAAJCRCMUAZDbLki59VJp/pr1TY/Xuk5bLvn/oydKoGc7WmCiWJfUZYd8AAAAAAC1CKAYg83U5TPrZMunDh6VViyT/t1LHftIJV9oN6DNx10kA2c8YKVjudBXxqSyPfD8TeArt/1wAAAA4gFAMQHZo3UUa9XP7BgDpzhjp4bHSluVOV9J8cwY4XUF8ep0oTX6RYAwAANQgFAMAAEi1YHlmB2KZaMsy++ue38rpShxljJE/5I/rOXXHx/tcSfK5fbIIIwEAaYhQDEDmCuyTViyQVsyXyrZKvo7SsT+SvjPFnjkGAJngxo1SfqHTVWSvyvLMm9WWJMYYTVw8UcW7ipt9jVGPj4r7OUO7DtXCcQsJxgAAaYdQDEBm8u+R5p8t7Vpb21w/uFV6a4700d/sJTId+zpbIwA0RX5hzs9earKW9mFrTh+0LOpF5g/5WxSINdfKnSvlD/lV6CH8BQCkF0IxAJlp8c3SrnW1gVg1E5bKd0lPTpamvJ7cGirLpY2vSBXfSh0OlfqcLLlcyX1NAMhViejD1pwZY1nai2zpJUvlc/uS+hr+kL9ZM8sAAEgVQjEAmWf/N9KnT0qmKvL5cJVU8pFUUiwVHZv41zdGeu8+aenvpcp9tcfb9ZLOu1fqPzrxrwkAuc6pPmxZ2ovM5/YxcwsAkPMIxQBknh2fSOFQI4MsaeuHyQnF3r5LevU3DY+XbZUe/YE08Xnp0JGJf10AgC0VfdjoRQYAQNZjnQ+AzONqSp5vmjguTv499gyxiC8ZtmeRvTIr8a+LnHT77bfrhBNOUJs2bdS1a1ddcMEFWr9+vdNlAc6r7sOW1BuzqAAAyHaEYgAyT9FxUn7rRgZZUr8kLGNc+7xUFYx+3oSlrz6Q9nyR+NdGznnjjTd0zTXXaNmyZVqyZImCwaDOOOMM7d+/3+nSAAAAgIzH8kkAmSe/UBr+U+mtuySZhuetPOnws6UOfRL/2vt2Sq68xpdv7ttlN98HWuDFF1+s93jBggXq2rWrVqxYoVNOOcWhqgAAAIDsQCgGIDON+oW0e5O0+ml7mWQ4ZIdhpkrqebx0/v3Jed22RU3oZyapbY/kvD5yWmlpqSSpY8eOUccEAgEFAoGax2VlZUmvCwAAAMhELJ8EkJny3NJZc6RL/i4deaHUe4R0+DnS+H9IVyyWCtom53WPOFdqbAv7Nj2kdj2T8/rIWeFwWNdff71Gjhypo446Kuq422+/Xe3atau59erVK4VVAgAAAJmDmWIAMs/a56U3/yhtW2k/btVV+s4UaeT/k9ze5L62t43Uf5S0fnH0MXu3SdtWST2GJLcW5JRrrrlGn376qd5+++2Y42bMmKFp06bVPC4rKyMYAwAAyEHGGIXqrCBIhmCgIuL9ZHF7vbIsK3HXS9iVACAV3r1XevmXklVnouv+ndLS30lfvCn96CnJnZ/cGratin3e5ZZW/l3qcWdy60DOuPbaa/XCCy/ozTffVM+esWcher1eeb1JDocBAACQ1owxWjRzuko2rE3Za86dMiHpr1E0aLDGz74jYcEYyycBZI7dm6SXf2XfN+H650xY2vSWtGJ+cmswRioriT0mHJL2fJncOpATjDG69tpr9cwzz+i1115T3759nS4JAAAAGSAUCKQ0EEuVkvVrEjr7jZliADLHRwvtGWKmKvqY9x+0d6ZMFsuyl1AGYjQvd+VJhdEboQNNdc011+gf//iH/vWvf6lNmzbavn27JKldu3by+RrpbQcAAABImjrvEXm8BU6X0SLBQEVSZqIRigHIHLvWxQ7EZKRv/mvP5krgOvMGjvmh9OFDUjhKLeEq6eiLkvf6yBlz586VJI0aNare8fnz52vSpEmpLwgAAAAZx+MtkKcgs0OxZCEUA5A5PK0kKy92MOYuSG4gJkknXSutWiQF9jWsxcqTen1H6ndacmtATjDGOF0CAAAAkLXoKQYgcxxxbuxAzOWWBp+f/Dra95Ym/VvqeKC/k5Un6UAQN+hM6bLHJRdvrwCQMYyRKvcfdCuvPV9Z3vA8oTUAABmPmWIAMsfhZ0udB0m7N0ZYuuiy+42ddF1qaul+tHTth9IXb0vbiqW8fGnAGKlT/9S8PgAgMYyRHh4rbVkefcycAQ2P9TpRmvxi8mcnAwCApCEUA5A58jzSxH9Jj14s7fjEnhkmSwoHJW8r6eKFUvejUlePZUl9v2vfAACZKVgeOxCLZssy+7n5rRJfUxowxsgf8rfoGnWf39JrSZLP7ZNFCAkASCBCMQCZpW0P6eq3pE1vSBtelqoCUo9jpKN+kLUfTAAAKXLjRim/MPaYyvLIM8eyiDFGExdPVPGu4oRdc9Tjo1p8jaFdh2rhuIUEYwCAhCEUA5B5LEvqN8q+AQCQKPmF/AeL7FldiQzEEmXlzpXyh/wq9DQSXAIA0ESEYgAAAAAiWnrJUvncPkdr8If8CZlpBgDAwQjFAAAAAETkc/uYmQVkAGOMQoGAgoGKmmPV991eL8uOgSgIxQDgYNs+lj5/TQqHpEOGSX1HSS6X01UBAAAADRhjtGjmdJVsWFvv+NwpEyRJRYMGa/zsOwjGgAgIxQCg2v6vpScul754W7LyJEtSuErq2F+69O9StyOdrhAAAACoJxQINAjE6ipZv0ahQECegoIUVgVkBkIxAJCkUKW08Dxp1zr7samSzIFze76Q5p8l/ew9qW2RUxUCAAAAMU2d94g8Xjv8CgYqamaLAYiMUAwAJGnd89LO1ZHPmSopsFda/qB0+uzU1gUAQIYyxsgf8rf4OnWvkYjrVfO5fSwnQ9bxeAuYEQbEgVAMQGbauVb6eJG0f5fUpod07GVSp/7Nv94nT0mWSzLhyOdNlf16hGIAADTKGKOJiyeqeFdxQq+byF0oh3YdqoXjFhKMAUAOIxQDkFmqQtLz/yMVPyK58iRZkjHSW3OkE38mnXFb85ri+7+JHohVC5Q1q2QAAHKNP+RPeCCWaCt3rpQ/5Gd3TQDIYYRiADLLK7+Wih+174er6p9b9mepsJN0yo3xX7fjAOmrD+0dJyOypA594r8uAAA5buklS+Vz+5wuo4Y/5E/ojDMAQOYiFAOQOfx7pPcfVG0H/AjeuUcacY3kifOH72GT7NlnsRx/ZXzXBAAA8rl9zMYCAKQlQjEAmePz16WqythjAmXS5vek/qfFd+2ex0vDrpBWzG94znJJPU+Qjr5EWvmo9MFfpG8+l/I8UtfB0ik3SX1PkehJAgAAgAxljFEoEGjS2GCgIuL9WNxeLz38kHYIxQBkjmB5E8c1Y2cqy5LOvkvqNEB690/Svh328fxW0nGTpJHXS49cKG39sP7zvnjLvvUZKV32mORtE/9rAwAAAA4yxmjRzOkq2bA27ufOnTKhSeOKBg3W+Nl3EIwhrRCKAcgcXQc3bVyXw5t3fZdLOulaafjV0tfr7f5inQZK+YXSsz+TSj6K/twv35Ge/qn0w38077UBAAAAh4QCgWYFYvEoWb9G/rJSebwFTRrPzDKkAqEYgMxRNFTqPkTasVoyVQ3Pu/LsGVud+rfsdfLcUrcjax/v/1pa9Vjju1Ou/7e0a73UZVDtsV3rpTXPSZV77VloR14oeVu3rD4AmcWYhjNdK8sj36/LU8iybABAyk2d90jM4MoYoyd++0tt37g+7ms3dVaZxMwy1F/SG2vJbksCVEIxAJnDsqTvPyA9PNb+gFl390krTypoL517T+JfN+aulPUKlNb92w7Fgn7pmaulNc/atVkuKRyUFt8snfcn6eiLEl8ngPRjjP2etWV59DFzBkQ+3utEafKLBGPIWsYY+UPNaHnQQnVf04nX97l9fMhHWvN4C+QpiB6KBSsqmhWIxatk/RqFAoGYtSB7xVrSe3C42pIAlVAMQGbpdqQ05Q3prT9KnzxhN953+6Rjfyh99wapXc/Ev2ZT31wtSwod+F+LZ66W1j5n3zdVtTPbguXSUz+RCjvGvxkAgMwTLI8diMWyZZn9/PxWia0JSAPGGE1cPFHFu4odrWPU46NS/ppDuw7VwnELCcaygDFGoUp7JUGwsvY/a4OBKgWN/f1157uy+nvd2Kyy5ggGKuKaUYbsFM+S3pYEqIRiADJPp/7SBX+2Z4UF9trN7fM8yXu9Q46XXB57plcsJmz3Pdu5zp4hFnmQPWts6e/rh2JlJdJ/l9oz0g4ZVn/5JoDscONGu0dhYyrLo88eA7KEP+R3PBBzysqdK+UP+VXoacL7AdKWMUZP3/mRtv+3VJJUKSO1t889fNPbypcdhPXo307fv/G4rA3GGptVBiRCtPA1EQEqoRiAzJXnsWdcJVurTtIxP5RW/l2SiT6usLN0+NnSW3fZSyYj9T2T7PBsy3Jp7w57BsgL10ufPlW/Z1mv4dKF86QOhybwNwLAUfmFzPoCIlh6yVL53D6ny0g6f8jvyMw0JEeoMlwTiElSvizd9G3DP8fbPi9VqDIsjzcvleUBWSWZ4SuhGAA0xbjbpZ1rpK0fRj7v8kgX/dUO6ir32rPBooVi1SpKpScnS5vfbdjEf+uH0sPjpKvfllp1TszvAQCANORz+5g1hYx2xR9ObhB6BQNVmj/9bYcqAtBULqcLAICM4G1tN7w+9x6pXS/Vvn1a0uHnSle9KvUbZR/q2L/xxvzuAmnXWunLtyPvahmukvbtlN7/SwJ/EwAAAEg0jzcv4g1A+mOmGAA0VZ5HGjbJvoXDUqBM8hRK7vz64476gfTSDHsHykisPHs55upnG1lmWWUv2Rw9I4G/CQBpwxi7kf7BKssj36/LU8iulACAjGKMUSgQiHy8svZ4MFBRc7+87Ft5Ao0vm2tJs3+315u1Pd/QOEIxAGgOl0vytY98rqCtdO6fpKen2B9a684Ec+VJbYqk0b+QnpjU+BLL8m8SVTGAdGKM9PDYxnemjNZwv9eJ9uxVfogHAGQAY4wWzZze5N0Eqz103U+SVFGtokGDNX72HQRjOSppodgXX3yhW2+9Va+99pq2b9+uoqIiTZgwQbfccovy82tnVaxatUrXXHONPvjgA3Xp0kXXXXedpk+fnqyyACA1hlxibwKw9HbpqwN9yNxee4bY6Fuk1l3tZZiuPHupZDRteqSmXiDVqmdJRZoVlQuzoILljQdisWxZZl+Dxv3IUcYY+UNRZmSnqbr1Zlrtkt37jdAAzRUKBOIOxFKlZP0ahQIBdtHMUUkLxdatW6dwOKwHH3xQAwYM0KeffqqrrrpK+/fv15w5cyRJZWVlOuOMMzRmzBg98MAD+uSTTzR58mS1b99eU6ZMSVZpAJAaA8bYt7JtUuU+O+Dytq49P3SCtGpR9OdbLnupJpBtos2Sqp4VlWuzoG7caO9M2RSV5dFnjwE5whijiYsnqnhXsdOlNFsm7kI5tOtQLRy3kGAMLTZ13iM1yx2DgQrNnTJBkvSTex9q9jLI5jyv7msjdyUtFBs3bpzGjRtX87hfv35av3695s6dWxOKPfroo6qsrNTDDz+s/Px8HXnkkSouLtZdd91FKAYge7SNMtvr0JOlI86X1j4nydQ/Z+VJnfpLx09OenlAyjU2SyrXZkHlF+bO7xVIAH/In9GBWKZauXOl/CE/O4WixTzegoizsgrbtme2FlIupT3FSktL1bFjx5rH7733nk455ZR6yynHjh2rO+64Q3v27FGHDh0aXCMQCChQpzlfWVlZcosGkDv27pDWPGv38WrXSxp8vt0fLFksS7ror9Jrt9q7TFY33LbypCPOk87+Y3JfH0gHdWdJMQsKQJyWXrJUPrfP6TKymj/kz8iZbQDQFCkLxTZu3Kh77723ZpaYJG3fvl19+/atN65bt2415yKFYrfffrtmz56d3GIB5JZwWHr119K790kKS5ZbCgel/9wkjbtdOv6K5L12nkc6/TfSKdOlr963+4t1HyK16Za81wTSCbOkALSAz+1j5hIAoNlc8T7h5ptvlmVZMW/r1q2r95ytW7dq3Lhxuvjii3XVVVe1qOAZM2aotLS05rZly5YWXQ8A9PpvpXfusXeCNMYOxCQp5JdeuF765Mnk1+BtLfU/TRp4OoEYAAAAAKRA3DPFbrjhBk2aNCnmmH79+tXcLykp0ejRo3XSSSdp3rx59cZ1795dO3bsqHes+nH37t0jXtvr9crr9cZbNgBEVr5bevfe2GNe/Y105IWSK+7/RwAAAAAApKm4Q7EuXbqoS5cuTRq7detWjR49WsOGDdP8+fPlOugD5YgRI3TLLbcoGAzK4/FIkpYsWaJBgwZFXDoJAAm34UWpqjL2mG+/lLavkoqOTUlJAAAAAIDkS9q0h61bt2rUqFHq3bu35syZo127dmn79u3avn17zZjLLrtM+fn5uvLKK7V69Wo99thjuueeezRt2rRklQUA9VWUSlYT3gorSpNfCwAAAAAgZZLWaH/JkiXauHGjNm7cqJ49e9Y7Z4yRJLVr104vv/yyrrnmGg0bNkydO3fWzJkzNWXKlGSVBQD1dewnmXDj4zocmvRSAAAAAACpk7RQbNKkSY32HpOkIUOG6K233kpWGQAQW//vSa27Sft2SjINz1t5Ut/vSh36pLw0AAAAAEDy0DUaQG7Lc0vn328voTx4GaWVJ+UXSuPucKY2AAAAAEDSJG2mGNKfMUYrt3yr54pL9G15pXp1LNQlx/dSr46FTpcGpNbA06XLn5denS1tWX7goCUdNlYaM1vqcpij5QE4iDFSsLzh8cryyPfr8hRKlpWcugAAAJBRCMVylL+ySj97dIVeX79Lbpd1oM+bpfte26jrvjdQ/ztmoCw+NCCXHDpSuvJlqfQrqfwbqU2R1LppO+0CSCFjpIfH1gmwo5gzIPLxXidKk18kGAMAAGnNGKNQINDs5wcDFRHvN4fb683afIBQLEf9/KlVemPDLklSKFzdR8n+9U+vfqZubb360XB6KCEHtetp3wCkp2B544FYLFuW2dfIb5W4mgAAABLIGKNFM6erZMPahFxv7pQJLXp+0aDBGj/7jqwMxgjFctCW3eV6/uOSSC3Fa9z32kaNP6G38lzZ94ceAJAlbtxo9/2LxBgp6K99HCyX7hli34+0tJJllQAAIE2EAoGEBWKJULJ+jUKBgDwFBU6XknCEYjno1bU7JEsRN9qrtq20Quu2l+nIonYpqwsAgLjkF0ae8dXYEstISytZVgkAANLQ1HmPyON1JowKBipaPMss3RGK5aCKUFguWaqKOVdMqgiGU1QR0AL7dknFj0q71tsfkI84T+p7Ch9sgVzWnCWWLKtEJJE2dYi1oQMzDgEACebxFmTlDK10QSiWgw7v3kZVJnYg5nZZ6teZDwZIcysWSv+eJpnwgQ8hlvTBQ1LP46XLnpAKOzpdIQCnxVpiKdmhRrSm/E6Jtrum1LQdNiXCmURoyqYOB//ZYcYhAAAZhVAsB313YBcVtS/Q9tIKhSNkY3kuS+ceU6QOrfJTXxzQVJ+9Ij3//2of1/2zvHWl9M/x0uSX+GAC5LpoSyzTVVN315Rih3mEMy3HjEMAALIeoVgOynNZuveHx+lHDy1TsMqoqk4ylmdZOqS9T7ecfYSDFQJN8OYfJMtlzxI7mKmyP8hsWS71PjH1tQFAc7V0d81qhDOJlYkzDgEAQKMIxXLUsD4d9Py1J+vPSz/XC6tKFKwyalvg1g+H99bVp/RnlhjSW/nuxj80utzSuhcIxSIJVkirn5HWPW9/kOt2pDTsCqkzH+iAtNJYEBMJ4UxyZNqMQwcZY+QP+eUP1e7+Wn3f5/bJYvai46q/R00V6XvZVHzPAaQ7QrEcNrBbG9196bG686Ih8ger1CrfLZeLf7SQAUIVTRhk2eEP6tvzhbTwXOnbzbUz7Ta9Kb13v3T6bGnk/zhdIYBqBDHIMMYYTVw8UcW7iusdH/X4KEnS0K5DtXDcQkISB0X7HjVV9feyqfieA0h3hGKQO8+lNnkup8sA7BDr6/WSLKnL4ZI7yozFVl2lgvZSxbfRrxUOSl1ZBlxPuEr6+4VS6Vb7cfXSU1Nl/7pkptRpgHT42c7UBwDIaP6QP2bYsnLnSvlDfhV64pwBiYRp7HuUaHzPgdQyxigUCCTsesFARcT7ieL2eh0PzQnFADgvFJDeuEN6/y9SoMw+5usgDZ8qffcGKe+gt6o8t3TCldLbd0fuKSZL8vikIZckvfSM8tnL0u7Po5+3XPbXlFAMANBCSy9ZKp/bJ8kOYuKZYdTY8r54l/OxhC+yut+jRIv3ew6g5YwxWjRzuko2rE3K9edOmZDwaxYNGqzxs+9w9D2aUAyAs6pC0j8vk/77Wv2Ay79HWnq7tHO1dNECyXXQbMaTp0kbX5O2f1z/eVae/ev3H5S8bZJefkb5bInday0cinzehKWvPpACe/naAQBaxOf2NWt2ULzL+5oSvLCEL7Lmfo8ApKdQIJC0QCxZStavUSgQkKegwLEaCMUAOGvNs9Lnr0Q5aaQ1/5I2LpEOG1v/lLe1dMW/pXfvlT54SNq/S7IsacAYe3ZZ7+HJrjzzhINNG1fVxHEAACRYMpb3sYQPQK6ZOu8RebzOBU2NCQYqkjLzrDkIxQA468OH7dld1X2tDmblSSsWNAzFJLsB9aibpVOm28suPT7J7U1quRmt6Djpo7/FHtOul710FQAAh7V0eR9L+ADkKo+3wNHZV5mEUAyAs3Z/Hj0Qk+xz32yMfQ2XS/K1T2hZWenoi6WXfylVlkuK0ott+NX2jDsAABwWa3lfY33HDtbYWPqOAUBuIhQD4CxfB2nv9hgDLGYuJYq3tXTJQumfP7T7h9X0FnNJCkuDxtmhGAAAaSzevmNS473H6DsGALnJ1fgQAEiiIZfaux5GZewxSIwBY6Sfvikdc5nkbSvl5Uvdj5TOu1e65JGGO30CAJBmktl3DACQW/j0A8BZx10uLX9A2rer4TJKK09q34tQrDFVIWlvib2zZJsejS9/7HqEdP699g0AgAxG3zEAQEsQigFwVmFH6YrF0qIJ0s7VdhAm2QFZjyHSpY/Yy/7QUKhSeuce6f0H7d03JanTAGnk9dLQCfQGAwBkvVh9xwAAaAyhGADndewnTX1H2rxM2vyuJEvqe4p0yDCCnWiqQtKiH0qfvyoZU3v8m8+l566VvvlMOv03ztUHJJoxUrD8wEYRB1Tf9xTyXgEAAIC4EYoBSA+WJfUZYd/QuFWLpI2vRDhxICB75x7pyAulomNTWRWQHMZID4+Vtiyvf3zOAPvXXidKk18kGAMAAEBcaLQPAJno/b/E3qDA5ZZWzE9dPUAyBcsbBmJ1bVlmjwEAAADiwEwxAMhE32yUTDj6+XBI2rk2dfUAqXLjRin/QP+gyvLa2WIAAABAnAjFACAT5beSKvdFP2+5pIK2qasHSJX8QvvPPwAAANBCLJ8EgEx01A9qd+qMxITtnmIAAAAAgIiYKQYAmWj41dJHC6VghWSq6p9z5UnteklHft+Z2gCgKap3FG2qSDuPxiORu5QeXHtjtbFDKpBWjDEyfr8kKXzg14PvS5Ll88ni7y6Q1QjFACATdegjTXxO+ucPpf07JZdHkrF7iXU+XLrsMcnjc7pKAInS1ACpOcGRE4FNtB1Fm6o5veQStUtpY7VHqo0dUoG0YYzRl5f9SP6VKxuc+2zkyfUe+447Tn0efYRgDMhihGIAkKl6Hi9NWyOte0H66kN7hlj/06S+p/LBC8gmzQ2QmhocORHYNLajaDJU71La0p50zak9Ua8NoMWM3x8xEIvE/9FHMn6/rMLCJFcFwCmEYgCQyfI89jJJlkoC2SvZAZLTgU3dHUWTIZm7lDZWOzukAmlt4Dtvy+VrOLM+7Pc3mDUGIDsRigEAAGSKRAZI6RLYZPKOoplcOwC5fD65mAUG5DRCMQAAgExBCAMAAJAwhGIAACA3RGpWH6sxPTsGAoCMMfKH/I0PrKPu+HifK0k+N7s+AtnIGKNQIKBgoKLmWPV9t9fryN97QjEAAJD9mtKs/uClhD1PkH78bMNgjLAMQI4wxmji4okq3lXc7GuMenxU3M8Z2nWoFo5bSDAGZBFjjBbNnK6SDWvrHZ87ZYIkqWjQYI2ffUfK/94TigEAgOzXnGb1X30g3X5Iw+NO7NYIAA7wh/wtCsSaa+XOldpdsVs+t90En5ljQOYLBQINArG6StavUSgQkKegIIVVEYoBAIBcU7dZfXOazTu9WyOAJmnKsr94l/nlcjiz9JKlNSFVohhjdNWSq/TJ1580OFd3htmQLkM0b8w8WZaV098DIFtMnfeIPF47/AoGKmpmizmBUAwAAOSWaM3qG9vZMV12awTQqOYs+2vKMr9cXtbnc/tU6EnsTo3lwfKIgdjBVu1apRP/eaKk3P4eANnC4y1I+YywaAjFAAAAJHZ2zDbVGytE2kyBvnBZL1nL/lbuXCl/yJ/wcAi1M9H8IX/MgJLvAYBEIhQDAADIJpF22Ywk1s6b0WRKmBRtY4XqmX70hcspiVj211hQg5aLNBOt7veO7wGAZCAUAwAAyBZN2WUzkqYuC82UMKmxjRXoC5dTkrHsD6nB9w5oyBijUCDQ4HgwUBHxfl1ur5elxwchFAOAZPp2i7T7v5K3tdTjWMmV53RFALJZc3bZjEcmhkkt3VgBaaO6cX6k5vg0XweQC4wxWjRzesxdHCVFbVxfNGiwxs++g/fLOgjFACAZvvlc+s9N0uevSTL2sbZF0uhbpKHO7a4CIIc0tnFAPDI5TKJXXFaI1ji/ejkdzdcB5IJQINBoIBZLyfo1CgUCadPkPh0QigFAou35Qnroe1JFmWoCMUkqK5H+dY3k/1Y66VqHigOQMwiDkEUaa5xP8/WWq56JV1ekWXnVmJ0XmTFGocqwgoGqmmPV9935Lr5mSJip8x6Rx9u0cCsYqIg6eyzXEYoBQKK9dpsUKJNMVeTzr/xaOuaHUqtOKS0LAIBsQPP1xIs2E6+ug7/OQ7oM0bwx8+qFPLkelBlj9PSdH2n7f0vrHZ8//W1JUo/+7fT9G4/LuK/RwT2sovWuol9Vanm8Bcz4SgBCMQBIpMBeafXTUjhKICbZYdknj0snTk1dXQAAZAmarydeYzPxIlm1a5VO/OeJ9Y7l+jLWUGW4QSBW17bPSxWqDMvjzZwes431sKo7+4h+VchEhGIAkEj7dkrhUOwxVp7dgB8AACDNtGQmHstYa13xh5Nrwq9goKpmtlimiaeHFf2qkIkIxQAgkXwdJFmq10vsYCYsFXZMVUUAAABNFm0mXt2w7GAsY23I483LqBlhTRGthxX9qpDJCMUAIJEKO0r9vyf99/XoPcVMWDr6otTWBQAA0AIsWwU9rJCNXE4XAABZ57RfSK48yYr0FmtJx18pdTg01VUBAAAAAOogFAOARDtkmDThKalNd/txdTjmcksn/kw68w7nagMAAAAASGL5JIBcE/RLX74rBculLodLnQcm53X6niJd/6m9jPLrjZK3tXTYmVKrTsl5PQAAAABAXAjFAOQGY6S377ZvgbLa431Oks69V+o8IPGv6cqTBoyxbwAAAACAtEIoBiA3LPmV9O69DY9vXi79dYw05Q2pQ5/U1wUAAACgRYwxCgUCcT0nGKiIeL+p3F6vLMuK+3lIL4RiALLfni+kd++LfM5U2TPH3rxTOj/KGAAAkDWMMfKH/E0eW1FVUW/87ordTX5+XT63L+7nRLoGH8KB+owxWjRzuko2rG32NeZOmRD3c4oGDdb42XfwdzLDEYoByH4fL7Kb3ZuqyOfDVdKqx6Sz/yi5vamtDQCANFA3KKob+Bwc/mR6KGOM0cTFE1W8q7jZ1zjz6TMTV1CchnYdqoXjFmb09wBItFAg0KJArLlK1q9RKBCQp6Ag5a8dSazZck2dFZeLs98IxQBkv7ISybIkE2NMVaXk/1Zq0y1VVQFN8uabb+rOO+/UihUrtG3bNj3zzDO64IILnC4LQBaJFRSNenxUvceZHsr4Q/4WBWJOW7lzpfwhvwo9hU6XAqSlqfMekceb3JAqGKho1syyZIpntlys2nNx9huhGIDs17qr3Wg/FpdbKmiXmnqAOOzfv1/HHHOMJk+erAsvvNDpcgBkoXiComwKZZZesjTmkkZ/yF8TCi6+cHGLlz+25Pl1awEQncdbkDYzt1IpUbPl0m32WyoQigHIfkPG2z3DorHypKN+IHkivPnvWC199Hdp9+dSQXt73MDT7Z0lgRQ488wzdeaZzi3VAZBbogVF2RjK+Ny+Jod7HQs6ZkUQCCD7NWe2XDrOfksVQjEA2a/zAGnYZGnFfDVYQ2nlSR6fdMr0+seNkV6ZJb1zjz2LLByyx37yuFR0nDThKamwY+zXrQpKFaVSfuvIgRuQBIFAQIE6/STKysocrAZApoknKEJuy5U+dECmydXZcs1FKAYgN5w9R/K1l5b9WQrVaS7Z9Qjp+w/YwVldH/7VDsQkOxCTahv1b/tYevIKaeK/6j/HGPva+3bazy3+hxTy26Hakd+XTrlJ6jIoKb89oNrtt9+u2bNnO10GACCL5VIfOgDZjVAMQG5w5UljZkknXy99/roULJe6HC4VDbWb8NcVDktv3RX9WqZK+u9SafunUvejpKqQHaItmyvt2dRwfDgkffq0tO7f0qQXpEOGJfJ3BtQzY8YMTZs2reZxWVmZevXq5WBFAIBsk6t96ABkH0IxALmloJ105AWxx3y9QSrbGnuMlSd99rIdrD32I2nDS7HHmyopFJCeukq6bkXDIA5IEK/XK6/X63QZAIAckUt96ABkH0IxADhYVWXjYyzL7hn20YIDgVgju1tKdjC2+3Ppy3elQ0e2tEoAAADH0YcOucAYo9CBnq3BQG0rlrr3Jcnt9bJUOMMQigHAwTr1t5vvB/3Rx4RDUtGx0su/ivPilrRrLaEYmmzfvn3auHFjzeNNmzapuLhYHTt2VO/evR2sDIjBGHuZejSV5ZHvR+IpZHYtAMAxxhgtmjldJRvWNjh38I6NRYMGa/zsOwjGMgihGAAcLL+VdNzl0vt/qW2uX5eVJ7XpLvU/Tfr6kjgvbuwPeEATffjhhxo9enTN4+p+YZdffrkWLFjgUFVADMZID4+Vtixv2vg5A2Kf73mC9ONnGwZjhGUAgBQIBQIRA7FIStavUSgQYPfHDEIoBgCRnPZLafN70vZPJBOuPe7Kk9wF0qV/t3eVdHmkcLDp13W5pQGn1z4OV0mb3rR7mLXqIvUbLbnzE/f7QMYbNWqUjGnC8lwgXQTLmx6INcVXH0i3H9LweK8TpckvEowBAFJm6rxH5PE2DLyCgYoGs8aQGQjFACASbxvpisXSBw9JH/xVKt0s5beRhlwijbhG6tjPHjfoLGn9v+3llI2ypGFXSK272A/X/Vv69w3S3m21Q3wdpdNnS8dNTPhvCQBS7saNUn4js2MryxufLRbJlmV2AJffqnm1AQAQJ4+3gFlgWYZQDACiyW8ljfwf+2ZM5NkII/9HWveCJEtRm+1befYyzCGXSuNut49teEla9KOGY/27peeus19v2OWJ+p0AgDPyC+MLrZIZogEAAByEUAwAmiLa8pyew6SLHpaeniKFKyW57LHhkOTrIPU9VerY1w7Euh5hP8cY6cUZBy4QJUhb8ivpmPGS25vo3wkAJI8xkZvoN7X/V7whWro5eIOBaBsK0A8NAIC0QCgGAC115AVS31Ok4kelbR9LeV7psLH20sq8CG+zJSul3Z/HvmZFqbTxFenws5NSMgAkXKQG+9UzunKh/1djGwzUnd2WC18PAAAyAKEYACRCYUfppOuaNnb/rqaN27ej+fUAQKrFarCfC/2/4tlgIBe+HgAAZABCMQBItTY9mjiuKLl1AECyVPcGy9X+X9F6o+Xq1wMAgDRFKAYAqdb9aKnLEdKu9ZLCkccUdpIGfC+lZQFAwmR6b7CWyvXfPwAkmDFGoUAg4rlgoCLi/UjcXq8slq6jDkIxAEg1y5LOvEN65PtSOMqulWf+QcrzpLw0AKinunF8S5rnA8gpxhj5Q375Q/6aY9X3fW4fgQTiZozRopnTVbJhbaNj506ZEPN80aDBGj/7Dv4cogahGAA4od+p0oRnpP/cKH29ofZ4u57SGbfZzfsBwEnRGsfnUvN8wCHVwVK1aPel9AqajDGauHiiincV1zs+6vFRkqShXYdq4biFaVMvMkMoEGhSINYUJevXyF9WKo+3oN5xZpDlLkIxAHBKv1Ola963d6Ms2yq16iL1/I7kcjldGQA03jieZvFAUkQLlqpVB0zV0ilo8of8UeuWpJU7V8of8qvQE6HnHnCQ6iWTdZdE/uTev8rXpm3UP+/GGD3x219q+8b1Ua8baTYZM8hyF6EYADjJsqRDjrNvAJCu6jaOp1k8kFSNBUsHS9egaeklS+Vz+yTZv6eDwzwglmhLJh+67sqYAVawoiJmIBZNyfo1CgUC8hQUND4YWYVQDAAAALHROB45INaSxd0VuyMuW4wkkcsZ6wZLB0v3oMnn9qVdUIfMEWvJZFMDrKnzHmmwTPJgwUBFo33IkN0IxQAAAADktMaWLJ759JlNvlYilzMSLAG14Va8AZbHW8DMrywVaWlt9X231xvXtQjFAAAAAOS0eJcsxpKuyxmBTJWMcKuxUIXeYukr2tLa6sC0aNBgnXXDLU2+HqEYAAAAABwQrRfW4gsX11vKePCyxnRfzgjA1pRQhab76aux3Uirl9c2FaEYAAAAABwQbclix4KOzP4CskBTQxWWXqa/un3jmtsfjlAMAAAAAADknESEKnBOIpbWEooBAAAAAICcQzN+uJwuAAAAAAAAAEg1ZooBAAAAQAYwxsgf8ktSza8H35fsvmg0CQeAxhGKAQAAAECaM8Zo4uKJKt5V3ODcwbteDu06VAvHLSQYA4BGsHwSAAAAANKcP+SPGIhFsnLnygazxwAADTFTDAAAAAAyyNJLlsrn9jU47g/5G8waA4BqxhiFAoEGx4OBioj363J7vVk5+5RQDAAAIBJjpGB57ePKKPc9hVIW/pAIIH353D4VegqdLgNABjHGaNHM6SrZsDbmuLlTJkQ8XjRosMbPviPrgjFCMQAAgIMZIz08VtqyPPL5OQNq7/c6UZr8IsEYAABIW6FAoNFALJaS9WsUCgTkKShIYFXOIxQDkBu+3ih9tFDas0kqaC8d9QOp3yg+xAKILFgePRA72JZl9vj8VsmtCQAAIAGmzntEHm/Twq1goCLq7LFsQCgGILsZI732W+mtOZIrTwqH7V9X/l3qPUK67DGpoJ3TVQJIZzdulPIjLFOqLK8/YwwAADiiuldWpN5Y2doLqyU83oKsm/HVXIRiALLbigV2ICZJ4aoDv4bsX7e8Lz09xQ7GACCa/ML0nQXW1L5n1eh/BgDIMtF6ZVXPbsrWXlhIDEIxANkrHK4NxCIxVdKGF6Vd66Uug1JXFwAkQjx9z6rR/wwAkGUa65WVrb2wkBiEYgCy19frpdKvYo+xXNKGlwjFAGSeePqeVaP/GZAQxhj5Q/56x+o+Pvicz+1jlgqQAnV7ZWV7LywkBqEYgOwVCjQ+xnI1bRwApLNofc+q0f8MSBhjjCYunqjiXcVRx4x6fFS9x0O7DtXCcQsJxoAko1cW4kUoBiB7deovub2xQ69wSOoxJHU1AUAypHPfMyDL+EP+mIFYJCt3rtTuit3yuX2SmDkGAOmCUAxA9vK2kY65TProb3b/sINZeVKbbtKAMamvDQAAZLyllyytCbqMMbpqyVX65OtPIo6tO3uMmWMA0lX1Tp7VIu3oWS0bdvYkFAOQ3cb82u65s2udZMK1x115Up5Xuvhv9n0AAIA4+dw+FXrspcvlwfKogdjBVu5cKX/IX/NcAEgH0XbyrHZwj7Zs2NmTUAxAdvO1l658WVo2V/rwr9Le7ZK7QDr6Ymnk/0idBzpdIQAAyDJ1Z5DV5Q/5G/QbA4B00dhOngfLhp09CcUAZD9vG+nU6fatKii53FIG/28GACDDGGPv+llZXnus+r6nkH+TslDdGWQAkInq7uR5sGza2ZNQDED6ClZIa56VvvrA7v/Vf7Q08IyWLXfM8ySsPAAAGmWM9PBYeyl/XdW7gfY6UZr8IsEYACCt5MpOnoRiANLT5uXSP8dL/t32zC5Jev9BqWM/6UdP2jtLAgCQ7oLlDQOxurYss8ek6e6hxhj5Q375Q/6aY9X32UERAJDpCMUApJ89X0h/v0AKHdjdJByqPfftl9KCc6RrP5C8rZ2oDgDSX/VyvWqRlu1JLN1LtRs3SvkHltRVltfOFktTxhhNXDxRxbuK6x2v7onFDooAgExHKAYg/SyfJ4UC9XeLrBaukvaWSJ88Lh0/OfW1AUC6i7Zcr1rdIIale6mVX5i2M8Ii8Yf8DQKxuthBEQCQ6QjFACSWMVJgr5SXL3mauQZ99dOSqYoxwJJWP0soBgCRNLZcr640X7qH9FF3N0V2UAQAZAtCMQCJURWUlj9g30q/so8d+l3p5P+VBnwvvmvVXfITkZEq9zWrTADIKXWX69WVAUv3kF7YTREAMpMxRqFAQMFARc2x6vturzfnl8ATigFouaqg9I/x0uevSjK1x798V/riLemcu+Ob1dXlcHvHyUjLJyW78X63o1pUMgDkhAxbrgcAABLHGKNFM6erZMPaesfnTpkgSSoaNFjjZ9/RaDBWHaxVixSwSZkZshGKAWi5D+c3DMSk2iWQ/75BGjhWandI0653wlWxl/6EQyydBAAAABzEDKT0FwoEGgRidZWsX6NQICBPQfS2N9GCtWrVAZvU9JAtnRCKAWi59x9sZIAlffQ3afSMpl3vqB9I656X1jyn+kGbS1JY+u4NUtGxzSoVAAAAQMskagYSUmfqvEfk8drhVzBQUS/MiqWxYK2upoRs6YZQDEDLhKukbzbGHmPC0s7VTb+myyVdNF9a/qC07P7aHmVdj5BOvl46+uJmlwsAAACgZRIxAwmp5fEWtPj7UTdYqyuekC3dEIoBaBnLJbk8UjgYe8yBHauazJUnjfiZNPxqqfxru4+Yr4PE/zYBAAAAaaO5M5CQeRIRrKUbl9MFAMhwliUdfrZk5UUfY6rsMc3hckmtu0qFHQnEAKCljJEq99u7T1arLLePGRP9eQAARFEdlHgKCiLOIgLSGTPFALTcyP9n9wAzlho023flSR36Nj8UAwAkhjHSw2MbbmQyZ4D9a68Tpckv8h8QAAAgZzBTDEDLHTJMunih5PZKsuxZY64DmXvH/tKPn5XyPE5WCACJk6mzrYLlsXf23bLMHgMAAJAjmCkGIDGOOFe6YZ308SJp2yrJnS8dNk4aeIY9WwwAskG2zLa6caOUX2jfryyvrR8AACCHEIoBSBxfB+nEqU5XAQDJ09TZVvmtUldTc+QXpn+NAAAASUYoBgAA0BzMtgKQJowx8of88of8Ncf8Ib98bp+sdJ+5CgAOSlpPsS+++EJXXnml+vbtK5/Pp/79+2vWrFmqrKysN8ayrAa3ZcuWJassAACAxKiebZXfqjYcA4AIjDEqD5Y3CK3Kg+UyLexFaIzRxMUTNfwfwzXq8VE1x0c9PkqXv3h5i68PANksaTPF1q1bp3A4rAcffFADBgzQp59+qquuukr79+/XnDlz6o195ZVXdOSRR9Y87tSpU7LKAgAAAICUqQ6tincV1zteHWAN7TpUC8ctbPaMLn/I3+Da1VbuXCl/yK9CD8E9AESStFBs3LhxGjduXM3jfv36af369Zo7d26DUKxTp07q3r17skoBAAAAAEfECq2kxAZXSy9ZKp/bJ3/IX2/WGAAgspT2FCstLVXHjh0bHD/vvPNUUVGhww47TNOnT9d5550X9RqBQECBQKDmcVlZWVJqBQAAAIBEqg6tJCUluPK5fcwKA4A4JK2n2ME2btyoe++9Vz/96U9rjrVu3Vp//OMf9cQTT+jf//63Tj75ZF1wwQV67rnnol7n9ttvV7t27WpuvXr1SkX5AAAAANAi1aFVoaewJhwDADgn7lDs5ptvjtgcv+5t3bp19Z6zdetWjRs3ThdffLGuuuqqmuOdO3fWtGnTNHz4cJ1wwgn6/e9/rwkTJujOO++M+vozZsxQaWlpzW3Lli3x/hYAAAAAAACQ4+JePnnDDTdo0qRJMcf069ev5n5JSYlGjx6tk046SfPmzWv0+sOHD9eSJUuinvd6vfJ6vU2uFwAaqApJGxZLX74nWZZ06HelgadLrjynKwMAAAAApEjcoViXLl3UpUuXJo3dunWrRo8erWHDhmn+/PlyuRqfmFZcXKwePXrEWxYANM32T6V/XCKVbZVcB94C37tP6nCodNkTUpfDHC0PAAAAAJAaSWu0v3XrVo0aNUp9+vTRnDlztGvXrppz1TtNLly4UPn5+Ro6dKgk6emnn9bDDz+shx56KFllAchl+3ZKC8+RKg5s0BEO1Z77dou04Gzp2vclXwdn6gMAAAAApEzSQrElS5Zo48aN2rhxo3r27FnvnDGm5v6tt96qL7/8Um63W4cffrgee+wxXXTRRckqC0Au+3C+VFEqmXDDc6ZK2r9LWvmIdNJ1qa8NAAAAAJBSSdt9ctKkSTLGRLxVu/zyy7VmzRrt379fpaWlWr58OYEYgOT59KnIgVgNY48BAAAAAGS9pIViAJB2Kvc1PiawN/l1AAAAAAAcRygGIHd0OVyyYuww6cqTuh6ZunoAAAAAIEMZYxSsqFAwUFFzLBioULCiot4qwXSWtJ5iAJB2TviJ9Pmr0c+Hq6QTJqeuHgAAAADIQMYYLZo5XSUb1tY7PnfKBElS0aDBGj/7DlmW5UR5TcZMMQC5Y9CZ0pBLJR38xnzg8XGTpL6nprgoAAAAAMgsoUCgQSBWV8n6NQoFAimsqHmYKQYgd1iWdMFcqcex0rL7pdKv7OMd+kgjrrVnkqX5/2QAAAAAQDqZOu8RebwFkuzlk9WzxTIBoRiA3OLKk0b8TBp+tbR3mx2CtelBGAYAAAAAzeDxFshTUOB0Gc1CKAYgN7lcUrtDnK4CAAAAAOAQeooBAAAAAAAg5xCKAQAAAAAAIOcQigEAAAAAACDnEIoBAAAAAAAg59BoHwAAAAAAIE7GGIUCAQUDFTXHqu+7vV5Z7HCf9gjFAAAAkP6MkYLlUmV57bHq+55CiQ8eAIAUMsZo0czpKtmwtt7xuVMmSJKKBg3W+Nl3EIylOUIxAAAApDdjpIfHSluW1z8+Z4D9a68TpckvEowBAFImFAg0CMTqKlm/RqFAQJ6CghRWhXgRigEAACC9BcsbBmJ1bVlmj8lvlbqaAAA4YOq8R+Tx2uFXMFBRM1sM6Y9QDAAAAJnjxo1SfqF9v7K8drYYAAAO8XgLmBGWoQjFAAAAkDnyC5kRBgAAEsLldAEAAAAAAABAqhGKAQAAAAAAIOewfBIAAACpZ4zdHL+yvPZY9X1PITtJAgCApCMUAwAAQGoZIz08tuGOktVN83udKE1+kWAMAAAkFcsnAQAAkFrB8oaBWF1bltljAAAAkoiZYgAAAHDOjRvtHSUle/lk9WwxAACAJCMUAwAAgHPyC6X8Vk5XAQAAchDLJwEAAAAAAJBzCMUAAAAAAACQcwjFAAAAAAAAkHMIxQAAAAAAAJBzCMUAAAAAAACQcwjFAAAAAAAAkHPcThcAAAAAAIDTjDEyfr/Cfn/Nser7ls8ny7KcKg1AkjBTDACANHf//ffr0EMPVUFBgYYPH67333/f6ZIAAMgqxhh9edmPtP64Yfps5Mk1xz8bebLWHzdMX/5ogowxDlYIIBkIxQAASGOPPfaYpk2bplmzZumjjz7SMccco7Fjx2rnzp1OlwYAQNYwfr/8K1dGPe//6COZOjPIAGQHQjEAANLYXXfdpauuukpXXHGFBg8erAceeECFhYV6+OGHnS4NAICsNPCdtzXooxUa9NEKDXznbafLAZBEGd9TrHoKa1lZmcOVAEBuqX7fZSlB8lRWVmrFihWaMWNGzTGXy6UxY8bovffei/icQCCgQCBQ87i0tFSStHdvmcKBckn29y6Ub/8IUF4ZinhclfulwIHvbVmZlF8V+Vi0sel2PJ1qofb0Op5OtSj638lIx6OODZaryl9Ve9wTSrvj6VRLNtaeTrUku/Zwebn2VdUed4VafnxfMCiXx2MfDwYjjg8GquSv3F9z3OPNi3gs2lgp+t/3YEWFKoLB2vGVlUk/7sRrZmON1J4ex/fu3SupaZ9TLJPhn2a++uor9erVy+kyACBnbdmyRT179nS6jKxUUlKiQw45RO+++65GjBhRc3z69Ol64403tHz58gbP+fWvf63Zs2enskwAAAAg7TTlc0rGzxQrKirSli1b1KZNm4zcDaSsrEy9evXSli1b1LZtW6fLyWh8LROHr2ViZPvX0RijvXv3qqioyOlSUMeMGTM0bdq0msfhcFi7d+9Wp06dMvLfSQAAACAe8XxOyfhQzOVyZcUMhbZt22blh2Yn8LVMHL6WiZHNX8d27do5XUJW69y5s/Ly8rRjx456x3fs2KHu3btHfI7X65XX6613rH379skqEQAAAEg7Tf2cQqN9AADSVH5+voYNG6ZXX3215lg4HNarr75abzklAAAAgPhl/EwxAACy2bRp03T55Zfr+OOP13e+8x393//9n/bv368rrrjC6dIAAACAjEYo5jCv16tZs2Y1WOqC+PG1TBy+lonB1xGJcOmll2rXrl2aOXOmtm/frmOPPVYvvviiunXr5nRpAAAAQEbL+N0nAQAAAAAAgHjRUwwAAAAAAAA5h1AMAAAAAAAAOYdQDAAAAAAAADmHUAwAAAAAAAA5h1DMIV988YWuvPJK9e3bVz6fT/3799esWbNUWVlZb9yqVav03e9+VwUFBerVq5f+8Ic/OFRxervtttt00kknqbCwUO3bt484ZvPmzTr77LNVWFiorl276qabblIoFEptoRng/vvv16GHHqqCggINHz5c77//vtMlpb0333xT5557roqKimRZlp599tl6540xmjlzpnr06CGfz6cxY8bos88+c6ZYAAAAAIAkQjHHrFu3TuFwWA8++KBWr16tu+++Ww888IB+8Ytf1IwpKyvTGWecoT59+mjFihW688479etf/1rz5s1zsPL0VFlZqYsvvlhTp06NeL6qqkpnn322Kisr9e6772rhwoVasGCBZs6cmeJK09tjjz2madOmadasWfroo490zDHHaOzYsdq5c6fTpaW1/fv365hjjtH9998f8fwf/vAH/elPf9IDDzyg5cuXq1WrVho7dqwqKipSXCkAAAAAoJpljDFOFwHbnXfeqblz5+q///2vJGnu3Lm65ZZbtH37duXn50uSbr75Zj377LNat26dk6WmrQULFuj666/Xt99+W+/44sWLdc4556ikpETdunWTJD3wwAP6+c9/rl27dtV8fXPd8OHDdcIJJ+i+++6TJIXDYfXq1UvXXXedbr75ZoerywyWZemZZ57RBRdcIMmeJVZUVKQbbrhBN954oySptLRU3bp104IFCzR+/HgHqwUAAACA3MVMsTRSWlqqjh071jx+7733dMopp9QLbMaOHav169drz549TpSYsd577z0dffTRNYGYZH8ty8rKtHr1agcrSx+VlZVasWKFxowZU3PM5XJpzJgxeu+99xysLLNt2rRJ27dvr/d1bdeunYYPH87XFQAAAAAcRCiWJjZu3Kh7771XP/3pT2uObd++vV6II6nm8fbt21NaX6bja9m4r7/+WlVVVRG/TnyNmq/6a8fXFQAAAADSC6FYgt18882yLCvm7eClj1u3btW4ceN08cUX66qrrnKo8vTTnK8lAAAAAABAU7idLiDb3HDDDZo0aVLMMf369au5X1JSotGjR+ukk05q0EC/e/fu2rFjR71j1Y+7d++emILTWLxfy1i6d+/eYBfFXPpaNkXnzp2Vl5cX8c8cX6Pmq/7a7dixQz169Kg5vmPHDh177LEOVQUAAAAAIBRLsC5duqhLly5NGrt161aNHj1aw4YN0/z58+Vy1Z+4N2LECN1yyy0KBoPyeDySpCVLlmjQoEHq0KFDwmtPN/F8LRszYsQI3Xbbbdq5c6e6du0qyf5atm3bVoMHD07Ia2S6/Px8DRs2TK+++mpNk/hwOKxXX31V1157rbPFZbC+ffuqe/fuevXVV2tCsLKyMi1fvjzqbqkAAAAAgORj+aRDtm7dqlGjRql3796aM2eOdu3ape3bt9frMXTZZZcpPz9fV155pVavXq3HHntM99xzj6ZNm+Zg5elp8+bNKi4u1ubNm1VVVaXi4mIVFxdr3759kqQzzjhDgwcP1o9//GN9/PHHeumll/TLX/5S11xzjbxer8PVp49p06bpL3/5ixYuXKi1a9dq6tSp2r9/v6644gqnS0tr+/btq/kzJ9nN9av/PFqWpeuvv16//e1v9dxzz+mTTz7RxIkTVVRUVBM+AgAAAABSzzLGGKeLyEULFiyIGjTU/ZasWrVK11xzjT744AN17txZ1113nX7+85+nqsyMMWnSJC1cuLDB8ddff12jRo2SJH355ZeaOnWqli5dqlatWunyyy/X73//e7ndTJis67777tOdd96p7du369hjj9Wf/vQnDR8+3Omy0trSpUs1evToBscvv/xyLViwQMYYzZo1S/PmzdO3336rk08+WX/+85912GGHOVAtAAAAAEAiFAMAAAAAAEAOYvkkAAAAAAAAcg6hGAAAAAAAAHIOoRgAAAAAAAByDqEYAAAAAAAAcg6hGAAAAAAAAHIOoRgAAAAAAAByDqEYAAAAAAAAcg6hGAAAAAAAAHIOoRgAAAAAAAByDqEYAAAAAAAAcg6hGAAAAAAAAHIOoRgAAAAAAAByzv8HYrteX9pVl/gAAAAASUVORK5CYII=\n",
         "text/plain": "<Figure size 1500x1000 with 2 Axes>"
        },
        "metadata": {},
        "output_type": "display_data"
       },
       {
        "data": {
         "text/plain": "<Figure size 1900x500 with 0 Axes>"
        },
        "metadata": {},
        "output_type": "display_data"
       }
      ]
     }
    },
    "16814d2f953e49dbbc6c4a5b54f50138": {
     "model_module": "@jupyter-widgets/base",
     "model_module_version": "1.2.0",
     "model_name": "LayoutModel",
     "state": {
      "_model_module": "@jupyter-widgets/base",
      "_model_module_version": "1.2.0",
      "_model_name": "LayoutModel",
      "_view_count": null,
      "_view_module": "@jupyter-widgets/base",
      "_view_module_version": "1.2.0",
      "_view_name": "LayoutView",
      "align_content": null,
      "align_items": null,
      "align_self": null,
      "border": null,
      "bottom": null,
      "display": null,
      "flex": null,
      "flex_flow": null,
      "grid_area": null,
      "grid_auto_columns": null,
      "grid_auto_flow": null,
      "grid_auto_rows": null,
      "grid_column": null,
      "grid_gap": null,
      "grid_row": null,
      "grid_template_areas": null,
      "grid_template_columns": null,
      "grid_template_rows": null,
      "height": null,
      "justify_content": null,
      "justify_items": null,
      "left": null,
      "margin": null,
      "max_height": null,
      "max_width": null,
      "min_height": null,
      "min_width": null,
      "object_fit": null,
      "object_position": null,
      "order": null,
      "overflow": null,
      "overflow_x": null,
      "overflow_y": null,
      "padding": null,
      "right": null,
      "top": null,
      "visibility": null,
      "width": null
     }
    },
    "6bd6fddfaea943f6abbb3c824d8df61a": {
     "model_module": "@jupyter-widgets/controls",
     "model_module_version": "1.5.0",
     "model_name": "VBoxModel",
     "state": {
      "_dom_classes": [
       "widget-interact"
      ],
      "_model_module": "@jupyter-widgets/controls",
      "_model_module_version": "1.5.0",
      "_model_name": "VBoxModel",
      "_view_count": null,
      "_view_module": "@jupyter-widgets/controls",
      "_view_module_version": "1.5.0",
      "_view_name": "VBoxView",
      "box_style": "",
      "children": [
       "IPY_MODEL_71ef2b8a61d5429eb211cd2e85de1c8e",
       "IPY_MODEL_062e29832e69485d9b57c45e8c926446"
      ],
      "layout": "IPY_MODEL_dc4dabfc2d9946778ef34af4bbee7929"
     }
    },
    "71ef2b8a61d5429eb211cd2e85de1c8e": {
     "model_module": "@jupyter-widgets/controls",
     "model_module_version": "1.5.0",
     "model_name": "FloatSliderModel",
     "state": {
      "_dom_classes": [],
      "_model_module": "@jupyter-widgets/controls",
      "_model_module_version": "1.5.0",
      "_model_name": "FloatSliderModel",
      "_view_count": null,
      "_view_module": "@jupyter-widgets/controls",
      "_view_module_version": "1.5.0",
      "_view_name": "FloatSliderView",
      "continuous_update": true,
      "description": "t",
      "description_tooltip": null,
      "disabled": false,
      "layout": "IPY_MODEL_16814d2f953e49dbbc6c4a5b54f50138",
      "max": 7,
      "min": 0,
      "orientation": "horizontal",
      "readout": true,
      "readout_format": ".2f",
      "step": 0.1,
      "style": "IPY_MODEL_d7a3459fdc4c4f88a2b3c763924de211",
      "value": 3
     }
    },
    "87da890360a74203983e9b2cb4d82697": {
     "model_module": "@jupyter-widgets/base",
     "model_module_version": "1.2.0",
     "model_name": "LayoutModel",
     "state": {
      "_model_module": "@jupyter-widgets/base",
      "_model_module_version": "1.2.0",
      "_model_name": "LayoutModel",
      "_view_count": null,
      "_view_module": "@jupyter-widgets/base",
      "_view_module_version": "1.2.0",
      "_view_name": "LayoutView",
      "align_content": null,
      "align_items": null,
      "align_self": null,
      "border": null,
      "bottom": null,
      "display": null,
      "flex": null,
      "flex_flow": null,
      "grid_area": null,
      "grid_auto_columns": null,
      "grid_auto_flow": null,
      "grid_auto_rows": null,
      "grid_column": null,
      "grid_gap": null,
      "grid_row": null,
      "grid_template_areas": null,
      "grid_template_columns": null,
      "grid_template_rows": null,
      "height": null,
      "justify_content": null,
      "justify_items": null,
      "left": null,
      "margin": null,
      "max_height": null,
      "max_width": null,
      "min_height": null,
      "min_width": null,
      "object_fit": null,
      "object_position": null,
      "order": null,
      "overflow": null,
      "overflow_x": null,
      "overflow_y": null,
      "padding": null,
      "right": null,
      "top": null,
      "visibility": null,
      "width": null
     }
    },
    "d7a3459fdc4c4f88a2b3c763924de211": {
     "model_module": "@jupyter-widgets/controls",
     "model_module_version": "1.5.0",
     "model_name": "SliderStyleModel",
     "state": {
      "_model_module": "@jupyter-widgets/controls",
      "_model_module_version": "1.5.0",
      "_model_name": "SliderStyleModel",
      "_view_count": null,
      "_view_module": "@jupyter-widgets/base",
      "_view_module_version": "1.2.0",
      "_view_name": "StyleView",
      "description_width": "",
      "handle_color": null
     }
    },
    "dc4dabfc2d9946778ef34af4bbee7929": {
     "model_module": "@jupyter-widgets/base",
     "model_module_version": "1.2.0",
     "model_name": "LayoutModel",
     "state": {
      "_model_module": "@jupyter-widgets/base",
      "_model_module_version": "1.2.0",
      "_model_name": "LayoutModel",
      "_view_count": null,
      "_view_module": "@jupyter-widgets/base",
      "_view_module_version": "1.2.0",
      "_view_name": "LayoutView",
      "align_content": null,
      "align_items": null,
      "align_self": null,
      "border": null,
      "bottom": null,
      "display": null,
      "flex": null,
      "flex_flow": null,
      "grid_area": null,
      "grid_auto_columns": null,
      "grid_auto_flow": null,
      "grid_auto_rows": null,
      "grid_column": null,
      "grid_gap": null,
      "grid_row": null,
      "grid_template_areas": null,
      "grid_template_columns": null,
      "grid_template_rows": null,
      "height": null,
      "justify_content": null,
      "justify_items": null,
      "left": null,
      "margin": null,
      "max_height": null,
      "max_width": null,
      "min_height": null,
      "min_width": null,
      "object_fit": null,
      "object_position": null,
      "order": null,
      "overflow": null,
      "overflow_x": null,
      "overflow_y": null,
      "padding": null,
      "right": null,
      "top": null,
      "visibility": null,
      "width": null
     }
    }
   }
  }
 },
 "nbformat": 4,
 "nbformat_minor": 0
}

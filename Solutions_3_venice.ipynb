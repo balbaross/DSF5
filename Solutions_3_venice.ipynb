{
 "cells": [
  {
   "cell_type": "markdown",
   "metadata": {},
   "source": [
    "<a href=\"https://colab.research.google.com/github/neworldemancer/DSF5/blob/master/Solutions_3_venice.ipynb\" target=\"_parent\"><img src=\"https://colab.research.google.com/assets/colab-badge.svg\" alt=\"Open In Colab\"/></a>"
   ]
  },
  {
   "cell_type": "markdown",
   "metadata": {},
   "source": [
    "# Introduction to machine learning & Data Analysis\n",
    "\n",
    "Basic introduction on how to perform typical machine learning tasks with Python.\n",
    "\n",
    "Prepared by Mykhailo Vladymyrov & Aris Marcolongo,\n",
    "Data Science Lab, University Of Bern, 2023\n",
    "\n",
    "This work is licensed under <a href=\"https://creativecommons.org/share-your-work/public-domain/cc0/\">CC0</a>.\n",
    "\n",
    "# Solutions to Part 3."
   ]
  },
  {
   "cell_type": "code",
   "execution_count": 1,
   "metadata": {
    "colab": {},
    "colab_type": "code",
    "id": "845f_i-B55ep",
    "scrolled": false
   },
   "outputs": [],
   "source": [
    "from sklearn.datasets import make_blobs\n",
    "from sklearn.model_selection import train_test_split\n",
    "from sklearn import metrics\n",
    "from sklearn.mixture import GaussianMixture\n",
    "\n",
    "from sklearn.cluster import KMeans\n",
    "from sklearn.metrics import silhouette_score\n",
    "\n",
    "from matplotlib import  pyplot as plt\n",
    "import numpy as np\n",
    "import pandas as pd\n",
    "from imageio import imread\n",
    "from time import time as timer\n",
    "import os\n",
    "\n",
    "import tensorflow as tf\n",
    "\n",
    "%matplotlib inline\n",
    "from matplotlib import animation\n",
    "from IPython.display import HTML\n",
    "\n",
    "import umap\n",
    "from scipy.stats import entropy"
   ]
  },
  {
   "cell_type": "code",
   "execution_count": 3,
   "metadata": {
    "colab": {},
    "colab_type": "code",
    "id": "8Y7aMevU3Ug8"
   },
   "outputs": [],
   "source": [
    "if not os.path.exists('data'):\n",
    "    path = os.path.abspath('.')+'/colab_material.tgz'\n",
    "    tf.keras.utils.get_file(path, 'https://github.com/neworldemancer/DSF5/raw/master/colab_material.tgz')\n",
    "    !tar -xvzf colab_material.tgz > /dev/null 2>&1"
   ]
  },
  {
   "cell_type": "code",
   "execution_count": 4,
   "metadata": {
    "colab": {},
    "colab_type": "code",
    "id": "atch-QcelhRy"
   },
   "outputs": [],
   "source": [
    "from utils.routines import *"
   ]
  },
  {
   "cell_type": "markdown",
   "metadata": {
    "colab_type": "text",
    "id": "jInWo3Uk95z_"
   },
   "source": [
    "# EXERCISE 1: Discover the number of Gaussians"
   ]
  },
  {
   "cell_type": "code",
   "execution_count": null,
   "metadata": {
    "colab": {
     "base_uri": "https://localhost:8080/",
     "height": 755
    },
    "colab_type": "code",
    "id": "rhT-_Gs0950B",
    "outputId": "31d192b6-171f-47af-e09c-4269b7f4554a"
   },
   "outputs": [
    {
     "name": "stdout",
     "output_type": "stream",
     "text": [
      "(120, 5)\n",
      "Number of clusters considered:  2\n",
      "Number of clusters considered:  3\n",
      "Number of clusters considered:  4\n",
      "Number of clusters considered:  5\n",
      "Number of clusters considered:  6\n",
      "Number of clusters considered:  7\n",
      "Number of clusters considered:  8\n",
      "Number of clusters considered:  9\n",
      "Number of clusters considered:  10\n",
      "Number of clusters considered:  11\n",
      "Number of clusters considered:  12\n",
      "Number of clusters considered:  13\n",
      "Number of clusters considered:  14\n"
     ]
    },
    {
     "data": {
      "text/plain": [
       "<matplotlib.collections.PathCollection at 0x244178135c0>"
      ]
     },
     "execution_count": 8,
     "metadata": {
      "tags": []
     },
     "output_type": "execute_result"
    },
    {
     "data": {
      "image/png": "[encoded data removed]",
      "text/plain": [
       "<Figure size 432x288 with 1 Axes>"
      ]
     },
     "metadata": {
      "needs_background": "light",
      "tags": []
     },
     "output_type": "display_data"
    },
    {
     "data": {
      "image/png": "[encoded data removed]",
      "text/plain": [
       "<Figure size 432x288 with 1 Axes>"
      ]
     },
     "metadata": {
      "needs_background": "light",
      "tags": []
     },
     "output_type": "display_data"
    }
   ],
   "source": [
    "### In this exercise you are given the dataset points, consisting of high-dimensional data. It was built taking random \n",
    "#samples from a number k of multimensional gaussians. The data is therefore made of k clusters but, being \n",
    "#very high dimensional, you cannot visualize it. Your task it too use K-means combined with the Silouhette \n",
    "#score to find the number of k.\n",
    "\n",
    "# 1. Load the data using the function load_ex1_data_clust() , check the dimensionality of the data.\n",
    "\n",
    "points=load_ex1_data_clust()\n",
    "print(points.shape)\n",
    "\n",
    "# 2. Fix a number of clusters k and define a KMeans clusterer object. Perform the fitting and compute the Silhouette score. \n",
    "# Save the results on a list. \n",
    "\n",
    "plt.figure()\n",
    "scores=[]\n",
    "for itrial in range(2,15):\n",
    "    print('Number of clusters considered: ',itrial)\n",
    "    clusterer = KMeans(n_clusters=itrial, random_state=10)\n",
    "    cluster_labels = clusterer.fit_predict(points)\n",
    "    score=silhouette_score(points,cluster_labels)\n",
    "    scores.append(score)\n",
    "\n",
    "# 3. Plot the Silhouette scores as a function ok k? What is the number of clusters ?\n",
    "plt.grid()\n",
    "plt.plot(np.arange(len(scores))+2,np.array(scores),'-o')\n",
    "\n",
    "# 4. Optional. Check the result that you found via umap. \n",
    "plt.figure()\n",
    "umap_model = umap.UMAP(random_state=1711)\n",
    "umap_gs = umap_model.fit_transform(points)\n",
    "plt.scatter(umap_gs[:, 0], umap_gs [:, 1], s=20)"
   ]
  },
  {
   "cell_type": "markdown",
   "metadata": {
    "colab_type": "text",
    "id": "v9TSuObo950Z"
   },
   "source": [
    "# EXERCISE 2: Predict the good using K-means and the nearest centroid algorithm"
   ]
  },
  {
   "cell_type": "code",
   "execution_count": null,
   "metadata": {
    "colab": {},
    "colab_type": "code",
    "id": "3xmtHeGk4tb8",
    "outputId": "1bfdf437-08d3-4dac-cc5d-6c47a925eab2"
   },
   "outputs": [
    {
     "name": "stdout",
     "output_type": "stream",
     "text": [
      "[4, 6, 9, 3, 7, 0, 8, 8, 9, 1]\n",
      "Training set\n",
      "0.5492\n",
      "[[248   6   0  62   6   0 131   1   3   0]\n",
      " [  1 482   0  37   8   0  28   0   0   0]\n",
      " [  5   0   0  14 324   0 153   1   7   0]\n",
      " [  7 165   0 223   5   0 101   0   0   0]\n",
      " [  2   2   0  77 333   0  68   0   6   0]\n",
      " [  0   0   0   0   0   0 111 291   2  89]\n",
      " [ 68   3   0  52 181   0 178   1   9   1]\n",
      " [  0   0   0   0   0   0   0 410   0 102]\n",
      " [  0   0   0   7  16   0  46  25 378  18]\n",
      " [  0   0   0   0   0   0  10   2   0 494]]\n",
      "\n",
      "Test set\n",
      "0.558\n",
      "[[60  0  0 12  4  0 31  0  0  0]\n",
      " [ 0 94  0  6  0  0  5  0  0  0]\n",
      " [ 2  0  0  2 71  0 35  0  1  0]\n",
      " [ 2 25  0 48  1  0 17  0  0  0]\n",
      " [ 0  1  0 23 79  0 12  0  0  0]\n",
      " [ 0  0  0  0  0  0 17 55  0 15]\n",
      " [12  1  0  9 32  0 41  0  2  0]\n",
      " [ 0  0  0  0  0  0  0 78  0 17]\n",
      " [ 0  0  0  1  5  0 14  3 67  5]\n",
      " [ 0  0  0  0  0  0  1  3  0 91]]\n",
      "[4, 6, 9, 3, 7, 0, 8, 8, 9, 1]\n",
      "Test set with 10 clusters\n",
      "0.558\n",
      "[[60  0  0 12  4  0 31  0  0  0]\n",
      " [ 0 94  0  6  0  0  5  0  0  0]\n",
      " [ 2  0  0  2 71  0 35  0  1  0]\n",
      " [ 2 25  0 48  1  0 17  0  0  0]\n",
      " [ 0  1  0 23 79  0 12  0  0  0]\n",
      " [ 0  0  0  0  0  0 17 55  0 15]\n",
      " [12  1  0  9 32  0 41  0  2  0]\n",
      " [ 0  0  0  0  0  0  0 78  0 17]\n",
      " [ 0  0  0  1  5  0 14  3 67  5]\n",
      " [ 0  0  0  0  0  0  1  3  0 91]]\n",
      "[2, 3, 5, 1, 0, 5, 1, 4, 2, 9, 2, 3, 9, 2, 8, 8, 9, 8, 7, 0]\n",
      "Test set with 20 clusters\n",
      "0.648\n",
      "[[87  0  6 11  2  0  0  0  1  0]\n",
      " [ 5 93  1  6  0  0  0  0  0  0]\n",
      " [15  0 85  1 10  0  0  0  0  0]\n",
      " [18 16  3 55  1  0  0  0  0  0]\n",
      " [ 6  0 57 17 35  0  0  0  0  0]\n",
      " [ 0  0  0  0  0 73  0  4  0 10]\n",
      " [34  0 36  9 16  2  0  0  0  0]\n",
      " [ 0  0  0  0  0 14  0 59  0 22]\n",
      " [ 6  0  7  1  1  8  0  0 69  3]\n",
      " [ 0  0  0  0  0  3  0  0  0 92]]\n",
      "[6, 0, 7, 3, 9, 1, 4, 9, 5, 4, 2, 8, 8, 1, 1, 9, 0, 2, 3, 4, 5, 7, 3, 8, 6, 5, 3, 9, 5, 2]\n",
      "Test set with 30 clusters\n",
      "0.652\n",
      "[[69  0  3 22  4  3  6  0  0  0]\n",
      " [ 3 86  1 14  1  0  0  0  0  0]\n",
      " [ 3  0 72  3 18  0 15  0  0  0]\n",
      " [ 9  2  3 71  7  1  0  0  0  0]\n",
      " [ 3  0 33  9 49  0 21  0  0  0]\n",
      " [ 0  0  0  0  0 75  0  5  0  7]\n",
      " [19  0 38  7 16  2 15  0  0  0]\n",
      " [ 0  0  0  0  0 12  0 67  0 16]\n",
      " [ 0  0  6  4  1 14  5  1 64  0]\n",
      " [ 0  0  0  0  0 11  0  0  0 84]]\n",
      "[6, 5, 9, 0, 4, 1, 7, 4, 0, 9, 0, 8, 3, 3, 6, 3, 1, 8, 2, 2, 5, 9, 8, 2, 5, 4, 1, 5, 7, 8, 9, 3, 2, 9, 7, 4, 5, 4, 0, 8]\n",
      "Test set with 40 clusters\n",
      "0.685\n",
      "[[73  0  1  7  2  0 24  0  0  0]\n",
      " [ 6 83  1 15  0  0  0  0  0  0]\n",
      " [ 3  0 66  1 29  0 12  0  0  0]\n",
      " [ 9  1  1 71  5  0  6  0  0  0]\n",
      " [ 2  0 26 10 74  0  3  0  0  0]\n",
      " [ 0  0  0  0  0 76  0  6  2  3]\n",
      " [21  0 30  3 21  0 21  0  1  0]\n",
      " [ 0  0  0  0  0 19  0 71  0  5]\n",
      " [ 0  0  9  3  1  4  5  0 73  0]\n",
      " [ 0  0  0  0  0  9  0  9  0 77]]\n"
     ]
    }
   ],
   "source": [
    "# Follow the following STEPS to solve the exercise\n",
    "\n",
    "# STEP 1. Load the dataset.\n",
    "\n",
    "#fmnist = tf.keras.datasets.fashion_mnist\n",
    "#(train_images, train_labels), (test_images, test_labels) = fmnist.load_data()\n",
    "\n",
    "#X_train=train_images[:5000,:].reshape(5000,-1)\n",
    "#y_train=train_labels[:5000]\n",
    "\n",
    "#X_test=test_images[:1000,:].reshape(1000,-1)\n",
    "#y_test=test_labels[:1000]\n",
    "\n",
    "fmnist = tf.keras.datasets.fashion_mnist\n",
    "(train_images, train_labels), (test_images, test_labels) = fmnist.load_data()\n",
    "\n",
    "X_train=train_images[:5000,:].reshape(5000,-1)\n",
    "y_train=train_labels[:5000]\n",
    "\n",
    "X_test=test_images[:1000,:].reshape(1000,-1)\n",
    "y_test=test_labels[:1000]\n",
    "\n",
    "# STEP 2. \n",
    "# Define the cluster KMeans objecta and fit the model on the training set. \n",
    "\n",
    "clusterer = KMeans(n_clusters=10, random_state=10)\n",
    "clusterer.fit(X_train)\n",
    "\n",
    "# STEP 3. \n",
    "# Call the predict method of the KMeans object you defined on the training set and compute the cluster labels. \n",
    "# \n",
    "cluster_labels = clusterer.predict(X_train)\n",
    "\n",
    "# STEP 4. \n",
    "# Use the function most_common with arguments (k,y_train, cluster_labels) to compute the assignement list. \n",
    "#  assignement[i] will be the majority class of the i-cluster  \n",
    "\n",
    "def most_common(nclusters, supervised_labels, cluster_labels):\n",
    "    \n",
    "    \"\"\"\n",
    "    Args:\n",
    "    - nclusters : the number of clusteres\n",
    "    - supervised_labels : for each sample, the labelling provided by the training data ( e.g. in y_train or y_test)\n",
    "    - cluster_labels : for each good, the cluster it was assigned by K-Means using the predict method of the Kmeans object\n",
    "    \n",
    "    Returns:\n",
    "    - a list \"assignement\" of lengths nclusters, where assignement[i] is the majority class of the i-cluster \n",
    "    \"\"\"\n",
    "    \n",
    "    assignement=[]\n",
    "    for icluster in range(nclusters):\n",
    "        indices=list(supervised_labels[cluster_labels==icluster])\n",
    "        try:\n",
    "            chosen= max(set(indices), key=indices.count)\n",
    "        except ValueError :\n",
    "            print('Em')\n",
    "            chosen=1\n",
    "        assignement.append(chosen)\n",
    "        \n",
    "    return assignement\n",
    "\n",
    "assignement=most_common(10, y_train, cluster_labels)     \n",
    "\n",
    "print(assignement)\n",
    "\n",
    "# STEP 5. \n",
    "# Using the predict method of your KMeans object, predict the cluster labels for the test set using X_test as an argument.\n",
    "\n",
    "### print('Training set')\n",
    "### cluster_labels = clusterer.predict(X_train)\n",
    "### new_labels=[assignement[i] for i in cluster_labels]\n",
    "### cm=metrics.confusion_matrix( y_train, new_labels)\n",
    "### print(np.sum([cm[i,i] for i in range(cm.shape[0])])/np.sum(cm))\n",
    "### print(cm)\n",
    "\n",
    "cluster_labels = clusterer.predict(X_test)\n",
    "\n",
    "# STEP 6.\n",
    "# using the cluster labels predicted in STEP 5 and the previously computed assignement[] list, \n",
    "# predict what are according to your model the predicted goods for the test set, call them new_labels\n",
    "print()\n",
    "print('Test set')\n",
    "\n",
    "new_labels=[assignement[i] for i in cluster_labels]\n",
    "\n",
    "# STEP 7.\n",
    "# Using  a call cm=metrics.confusion_matrix( y_train, new_labels ) you can print the confusion matrix on the test set, which\n",
    "# provides information on the quality of the fit. You can print the percentage of correctly classified examples \n",
    "# using the following lines:\n",
    "#\n",
    "# print(np.sum([cm[i,i] for i in range(cm.shape[0])])/np.sum(cm))\n",
    "# print(cm)\n",
    "\n",
    "cm=metrics.confusion_matrix( y_test, new_labels)\n",
    "print(np.sum([cm[i,i] for i in range(cm.shape[0])])/np.sum(cm))\n",
    "print(cm)\n",
    "\n",
    "# STEP 8 (optional).\n",
    "#  Perform again steps 2 / 3 increasing the number of clusters from 10 to 40 what happens to the performance ? \n",
    "for iclust in [10,20,30,40]:\n",
    "    \n",
    "        clusterer = KMeans(n_clusters=iclust, random_state=10)\n",
    "\n",
    "        clusterer.fit(X_train)\n",
    "\n",
    "        cluster_labels = clusterer.predict(X_train)\n",
    "    \n",
    "        assignement=most_common(iclust, y_train, cluster_labels)     \n",
    "\n",
    "        print(assignement)\n",
    "        \n",
    "        print('Test set with '+str(iclust)+' clusters')\n",
    "\n",
    "        cluster_labels = clusterer.predict(X_test)\n",
    "\n",
    "        new_labels=[assignement[i] for i in cluster_labels]\n",
    "\n",
    "        cm=metrics.confusion_matrix( y_test, new_labels)\n",
    "\n",
    "        print(np.sum([cm[i,i] for i in range(cm.shape[0])])/np.sum(cm))\n",
    "        print(cm)"
   ]
  },
  {
   "cell_type": "markdown",
   "metadata": {
    "colab_type": "text",
    "id": "IIykj5dp953I"
   },
   "source": [
    "# EXERCISE 3 : Find the cluster uncertainty with Gaussian mixtures"
   ]
  },
  {
   "cell_type": "code",
   "execution_count": null,
   "metadata": {
    "colab": {
     "base_uri": "https://localhost:8080/",
     "height": 285
    },
    "colab_type": "code",
    "id": "TO8RL3oL953L",
    "outputId": "4eded139-1fb3-4949-fb93-7440fbdd4704"
   },
   "outputs": [
    {
     "data": {
      "text/plain": [
       "<matplotlib.colorbar.Colorbar at 0x244171495c0>"
      ]
     },
     "execution_count": 10,
     "metadata": {
      "tags": []
     },
     "output_type": "execute_result"
    },
    {
     "data": {
      "image/png": "[encoded data removed]",
      "text/plain": [
       "<Figure size 432x288 with 2 Axes>"
      ]
     },
     "metadata": {
      "needs_background": "light",
      "tags": []
     },
     "output_type": "display_data"
    }
   ],
   "source": [
    "#In this exercise you need to load the dataset used to present K-means ( def km_load_th1() ) or the one used to discuss \n",
    "# the Gaussian mixtures model ( def gm_load_th1() ). \n",
    "#As discussed, applying a fitting based on gaussian mixtures you can not only predict the cluster label for each point, \n",
    "#but also a probability distribution over the clusters. \n",
    "\n",
    "#From this probability distribution, you can compute for each point the entropy of the corresponging \n",
    "#distribution (using for example scipy.stats.entropy) as an estimation of the undertainty of the prediction. \n",
    "#Your task is to plot the data-cloud with a color proportional to the uncertainty of the cluster assignement.\n",
    "\n",
    "# In detail you shoud:\n",
    "# 1. Instantiate a GaussianMixture object with the number of clusters that you expect\n",
    "# 2. fit the object on the dataset with the fit method \n",
    "\n",
    "from scipy.stats import entropy\n",
    "points=gm_load_th1()\n",
    "\n",
    "plt.figure()\n",
    "clf = GaussianMixture(n_components=3, covariance_type='full')\n",
    "\n",
    "clf.fit(points)\n",
    "\n",
    "# 3. compute the cluster probabilities using the method predict_proba. This will return a matrix of \n",
    "# dimension npoints x nclusters\n",
    "# 4. use the entropy function ( from scipy.stats import entropy ) to evaluate for each point the uncertainty of the \n",
    "#prediction\n",
    "\n",
    "cluster_labels_prob=clf.predict_proba(points)\n",
    "\n",
    "entropies=[]\n",
    "for point in range(len(cluster_labels_prob)):\n",
    "    entropies.append(entropy(cluster_labels_prob[point]))\n",
    "\n",
    "# 5. Plot the points colored accordingly to their uncertanty. \n",
    "\n",
    "cm = plt.cm.get_cmap('RdYlBu')\n",
    "sc = plt.scatter(points[:,0], points[:,1], c=entropies, cmap=cm)\n",
    "plt.colorbar(sc)\n",
    "    "
   ]
  }
 ],
 "metadata": {
  "accelerator": "GPU",
  "colab": {
   "collapsed_sections": [
    "n_5oRe0SXilM",
    "jInWo3Uk95z_",
    "v9TSuObo950Z",
    "IIykj5dp953I",
    "aOk-BLOFeV61"
   ],
   "name": "Solutions_3",
   "provenance": []
  },
  "kernelspec": {
   "display_name": "Python 3",
   "language": "python",
   "name": "python3"
  },
  "language_info": {
   "codemirror_mode": {
    "name": "ipython",
    "version": 3
   },
   "file_extension": ".py",
   "mimetype": "text/x-python",
   "name": "python",
   "nbconvert_exporter": "python",
   "pygments_lexer": "ipython3",
   "version": "3.7.1"
  }
 },
 "nbformat": 4,
 "nbformat_minor": 1
}
